{
  "nbformat": 4,
  "nbformat_minor": 0,
  "metadata": {
    "colab": {
      "name": "Newsgroup project.ipynb",
      "provenance": [],
      "authorship_tag": "ABX9TyMA5s67E4HZQSGj83dtw8c1",
      "include_colab_link": true
    },
    "kernelspec": {
      "name": "python3",
      "display_name": "Python 3"
    },
    "language_info": {
      "name": "python"
    }
  },
  "cells": [
    {
      "cell_type": "markdown",
      "metadata": {
        "id": "view-in-github",
        "colab_type": "text"
      },
      "source": [
        "<a href=\"https://colab.research.google.com/github/jahidhasan299/jahidhasan299-Deep-Learning-With-7-Real-Projects/blob/main/Newsgroup_project.ipynb\" target=\"_parent\"><img src=\"https://colab.research.google.com/assets/colab-badge.svg\" alt=\"Open In Colab\"/></a>"
      ]
    },
    {
      "cell_type": "markdown",
      "source": [
        "# Project Inrtoduction\n",
        "The project is about 20 newsgroups dataset and it's composed of text taken from newsgroup articles. It was collected by Ken Lang\n",
        "\n",
        "The data contains approximately 20000 documents across 20 online newsgroups. A newsgroup is place on the internet where people can ask  and answers questions about a certain topic.\n",
        "\n",
        "All the topcis are listed here:\n",
        "\n",
        "1. comp. graphics\n",
        "2. comp.os.ms-windows.misc\n",
        "3. comp.sys.imb-pc.hardware\n",
        "4. comp.sys.mac.hardware\n",
        "5. comp.windows.\n",
        "6. rec.autos\n",
        "7. rec.motocycles\n",
        "8. rec.sport.baseball\n",
        "9. rec.sport.hockey\n",
        "\n",
        "\n",
        "\n",
        "---\n",
        "**sci.crypt**\n",
        "\n",
        "1. sci.electronics\n",
        "2. sci.med\n",
        "3. sci.space\n",
        "4. misc.forscale\n",
        "5. talk.politics.misc\n",
        "6. talk.politics.guns\n",
        "7. talk.politics.mideast\n",
        "8. talk.religion.misc\n",
        "9. alt.atheims\n",
        "10. soc.religion.charistian"
      ],
      "metadata": {
        "id": "bd4RapGrkWH3"
      }
    },
    {
      "cell_type": "markdown",
      "source": [
        "# Import Important Library and Dataset"
      ],
      "metadata": {
        "id": "yXNnY7valtMi"
      }
    },
    {
      "cell_type": "code",
      "source": [
        "from sklearn.datasets import fetch_20newsgroups\n",
        "groups = fetch_20newsgroups()"
      ],
      "metadata": {
        "id": "Q1gUc2telsW2"
      },
      "execution_count": 25,
      "outputs": []
    },
    {
      "cell_type": "markdown",
      "source": [
        "1. subset. Default value is train. Description is the dataset to load, the  training set and testing set orboth\n",
        "\n",
        "2. data_ home. Default value: sklearn_ data. Description is Directory where t  files are stored and catched\n",
        "\n",
        "3. categories. Default value: None. Description is List of newsgroups to load  if None all newsgroups will be loaded\n",
        "\n",
        "4. shuffle. Default value: True. Description is Boolan which will indicate  whether to suffle the data\n",
        "\n",
        "5. random_ state. Default value: 43. Description will be random seed integer  used to shuffle the data\n",
        "\n",
        "6. remove. Default value: 0. Descriotion is tuple which indicate the part  among header, footer and quote of each newsgroup post to omot. Nothing is  removed by default\n",
        "\n",
        "7. download_ if_ missing. Default : true. Bolean value indicate whether to  download the data if it is not found locally"
      ],
      "metadata": {
        "id": "fwOaYO7emwbr"
      }
    },
    {
      "cell_type": "markdown",
      "source": [
        "# Exploring the data"
      ],
      "metadata": {
        "id": "YZrABI0UrK0I"
      }
    },
    {
      "cell_type": "code",
      "source": [
        "groups.keys()"
      ],
      "metadata": {
        "colab": {
          "base_uri": "https://localhost:8080/"
        },
        "id": "ALuiMh25mEjY",
        "outputId": "51667e8f-7d2a-484f-9538-1ab3534ac23a"
      },
      "execution_count": 26,
      "outputs": [
        {
          "output_type": "execute_result",
          "data": {
            "text/plain": [
              "dict_keys(['data', 'filenames', 'target_names', 'target', 'DESCR'])"
            ]
          },
          "metadata": {},
          "execution_count": 26
        }
      ]
    },
    {
      "cell_type": "code",
      "source": [
        "groups['target_names']"
      ],
      "metadata": {
        "colab": {
          "base_uri": "https://localhost:8080/"
        },
        "id": "2UFHxMSynZAb",
        "outputId": "af9142b2-3002-45e2-92d5-34e676fc5383"
      },
      "execution_count": 27,
      "outputs": [
        {
          "output_type": "execute_result",
          "data": {
            "text/plain": [
              "['alt.atheism',\n",
              " 'comp.graphics',\n",
              " 'comp.os.ms-windows.misc',\n",
              " 'comp.sys.ibm.pc.hardware',\n",
              " 'comp.sys.mac.hardware',\n",
              " 'comp.windows.x',\n",
              " 'misc.forsale',\n",
              " 'rec.autos',\n",
              " 'rec.motorcycles',\n",
              " 'rec.sport.baseball',\n",
              " 'rec.sport.hockey',\n",
              " 'sci.crypt',\n",
              " 'sci.electronics',\n",
              " 'sci.med',\n",
              " 'sci.space',\n",
              " 'soc.religion.christian',\n",
              " 'talk.politics.guns',\n",
              " 'talk.politics.mideast',\n",
              " 'talk.politics.misc',\n",
              " 'talk.religion.misc']"
            ]
          },
          "metadata": {},
          "execution_count": 27
        }
      ]
    },
    {
      "cell_type": "code",
      "source": [
        "print(groups.target)"
      ],
      "metadata": {
        "colab": {
          "base_uri": "https://localhost:8080/"
        },
        "id": "d1UmdqmXnjMT",
        "outputId": "35c87ab3-6a97-4d40-e69e-9e6a1540514e"
      },
      "execution_count": 28,
      "outputs": [
        {
          "output_type": "stream",
          "name": "stdout",
          "text": [
            "[7 4 4 ... 3 1 8]\n"
          ]
        }
      ]
    },
    {
      "cell_type": "code",
      "source": [
        "# Find the distinct values for these integers\n",
        "import numpy as np\n",
        "print(np.unique(groups.target))"
      ],
      "metadata": {
        "colab": {
          "base_uri": "https://localhost:8080/"
        },
        "id": "Awte6RoPn8fQ",
        "outputId": "cc6a6b71-f4a2-4a87-b289-18ef093777d1"
      },
      "execution_count": 29,
      "outputs": [
        {
          "output_type": "stream",
          "name": "stdout",
          "text": [
            "[ 0  1  2  3  4  5  6  7  8  9 10 11 12 13 14 15 16 17 18 19]\n"
          ]
        }
      ]
    },
    {
      "cell_type": "code",
      "source": [
        "import seaborn as sns\n",
        "import matplotlib.pyplot as plt\n",
        "sns.distplot(groups.target)\n",
        "plt.show()"
      ],
      "metadata": {
        "colab": {
          "base_uri": "https://localhost:8080/",
          "height": 323
        },
        "id": "Cvhap__poY06",
        "outputId": "b1521918-78c2-4254-c197-feef0be12da6"
      },
      "execution_count": 30,
      "outputs": [
        {
          "output_type": "stream",
          "name": "stderr",
          "text": [
            "/usr/local/lib/python3.7/dist-packages/seaborn/distributions.py:2619: FutureWarning: `distplot` is a deprecated function and will be removed in a future version. Please adapt your code to use either `displot` (a figure-level function with similar flexibility) or `histplot` (an axes-level function for histograms).\n",
            "  warnings.warn(msg, FutureWarning)\n"
          ]
        },
        {
          "output_type": "display_data",
          "data": {
            "image/png": "[encoded data removed]",
            "text/plain": [
              "<Figure size 432x288 with 1 Axes>"
            ]
          },
          "metadata": {
            "needs_background": "light"
          }
        }
      ]
    },
    {
      "cell_type": "code",
      "source": [
        "# First document\n",
        "groups.data[0]"
      ],
      "metadata": {
        "colab": {
          "base_uri": "https://localhost:8080/",
          "height": 122
        },
        "id": "3L33YdYcq-Is",
        "outputId": "95990c97-8208-461c-92d0-0cb4d0ca8ce0"
      },
      "execution_count": 31,
      "outputs": [
        {
          "output_type": "execute_result",
          "data": {
            "application/vnd.google.colaboratory.intrinsic+json": {
              "type": "string"
            },
            "text/plain": [
              "\"From: lerxst@wam.umd.edu (where's my thing)\\nSubject: WHAT car is this!?\\nNntp-Posting-Host: rac3.wam.umd.edu\\nOrganization: University of Maryland, College Park\\nLines: 15\\n\\n I was wondering if anyone out there could enlighten me on this car I saw\\nthe other day. It was a 2-door sports car, looked to be from the late 60s/\\nearly 70s. It was called a Bricklin. The doors were really small. In addition,\\nthe front bumper was separate from the rest of the body. This is \\nall I know. If anyone can tellme a model name, engine specs, years\\nof production, where this car is made, history, or whatever info you\\nhave on this funky looking car, please e-mail.\\n\\nThanks,\\n- IL\\n   ---- brought to you by your neighborhood Lerxst ----\\n\\n\\n\\n\\n\""
            ]
          },
          "metadata": {},
          "execution_count": 31
        }
      ]
    },
    {
      "cell_type": "code",
      "source": [
        "# Topic number\n",
        "groups.target[0]"
      ],
      "metadata": {
        "colab": {
          "base_uri": "https://localhost:8080/"
        },
        "id": "KMcCLm0rtT7w",
        "outputId": "e1103147-7543-4106-a57d-3d0f587370f3"
      },
      "execution_count": 32,
      "outputs": [
        {
          "output_type": "execute_result",
          "data": {
            "text/plain": [
              "7"
            ]
          },
          "metadata": {},
          "execution_count": 32
        }
      ]
    },
    {
      "cell_type": "code",
      "source": [
        "# Topic name\n",
        "groups.target_names[groups.target[0]]"
      ],
      "metadata": {
        "colab": {
          "base_uri": "https://localhost:8080/",
          "height": 35
        },
        "id": "GtWVTf7rtaY8",
        "outputId": "b753ddc7-3353-4762-b945-bb93690a54ef"
      },
      "execution_count": 33,
      "outputs": [
        {
          "output_type": "execute_result",
          "data": {
            "application/vnd.google.colaboratory.intrinsic+json": {
              "type": "string"
            },
            "text/plain": [
              "'rec.autos'"
            ]
          },
          "metadata": {},
          "execution_count": 33
        }
      ]
    },
    {
      "cell_type": "markdown",
      "source": [
        "# Counting the occerences of each word token\n",
        "We can also view a text as a colletion of words. This is called the Bag of Words(BAW)model.  We can optionally define a more complex model that takes into account the order of words and Pos tags   We begin by converting documents into a maxtrix where each row represents each newsgroup document and each column re  token, or sepecifically, a unigram to begin with. And the of each element in the maxtrix is the number of times the word  the document(row)."
      ],
      "metadata": {
        "id": "SPMASBwrveH-"
      }
    },
    {
      "cell_type": "code",
      "source": [
        "from sklearn.feature_extraction.text import CountVectorizer"
      ],
      "metadata": {
        "id": "uxjlzECptcvG"
      },
      "execution_count": 35,
      "outputs": []
    },
    {
      "cell_type": "markdown",
      "source": [
        "1. ngram_ range (1,1) lower and upper bound of the n-grams to be extracted in the input text, for example (1,1) means unigrams, (1,2) means unigram and bigran\n",
        "\n",
        "2. stop_ words Nonea. which stop word list to use, can be \" english\" referring to the built in list or a customized input list. If none no words will be removed\n",
        "\n",
        "3. lowercase. True, whether or not converting all characters to lowercase 2. max_ feature. None, The number of top (most frequent) tokens to consider,or all tokens if None\n",
        "\n",
        "4. Binary False. if true all non-zero counts become 1st"
      ],
      "metadata": {
        "id": "hmCdtWRZAhwP"
      }
    },
    {
      "cell_type": "code",
      "source": [
        "count_vector = CountVectorizer(max_features=500)\n",
        "# use it to fit on the raw text data\n",
        "data_count = count_vector.fit_transform(groups.data)\n",
        "print(data_count)"
      ],
      "metadata": {
        "id": "W_jagCY4AEkR"
      },
      "execution_count": null,
      "outputs": []
    },
    {
      "cell_type": "code",
      "source": [
        "data_count[0]"
      ],
      "metadata": {
        "colab": {
          "base_uri": "https://localhost:8080/"
        },
        "id": "LoasdyjtAzie",
        "outputId": "4b9533df-6618-4a74-877d-28fecc74bef8"
      },
      "execution_count": 40,
      "outputs": [
        {
          "output_type": "execute_result",
          "data": {
            "text/plain": [
              "<1x500 sparse matrix of type '<class 'numpy.int64'>'\n",
              "\twith 53 stored elements in Compressed Sparse Row format>"
            ]
          },
          "metadata": {},
          "execution_count": 40
        }
      ]
    },
    {
      "cell_type": "code",
      "source": [
        "data_count"
      ],
      "metadata": {
        "colab": {
          "base_uri": "https://localhost:8080/"
        },
        "id": "hVIlUsWQAypv",
        "outputId": "93fd452c-d0ca-4db4-9ad5-fd68b8c815b8"
      },
      "execution_count": 41,
      "outputs": [
        {
          "output_type": "execute_result",
          "data": {
            "text/plain": [
              "<11314x500 sparse matrix of type '<class 'numpy.int64'>'\n",
              "\twith 798221 stored elements in Compressed Sparse Row format>"
            ]
          },
          "metadata": {},
          "execution_count": 41
        }
      ]
    },
    {
      "cell_type": "markdown",
      "source": [
        "The resulting count matrix is a sparse matrix where each row stores non-zero elements(hence, 798221 elements instead of 11314*500 = 56700000)"
      ],
      "metadata": {
        "id": "W_m73bxHBn_J"
      }
    },
    {
      "cell_type": "code",
      "source": [
        "data_count.toarray()"
      ],
      "metadata": {
        "colab": {
          "base_uri": "https://localhost:8080/"
        },
        "id": "851fse3GBS5J",
        "outputId": "752671b0-5594-4c83-f926-94ee1bfff159"
      },
      "execution_count": 42,
      "outputs": [
        {
          "output_type": "execute_result",
          "data": {
            "text/plain": [
              "array([[0, 0, 0, ..., 0, 2, 1],\n",
              "       [0, 0, 0, ..., 0, 1, 1],\n",
              "       [0, 0, 0, ..., 0, 1, 0],\n",
              "       ...,\n",
              "       [0, 0, 0, ..., 1, 1, 0],\n",
              "       [0, 0, 0, ..., 0, 1, 0],\n",
              "       [0, 0, 0, ..., 0, 0, 0]])"
            ]
          },
          "metadata": {},
          "execution_count": 42
        }
      ]
    },
    {
      "cell_type": "code",
      "source": [
        "data_count.toarray()[0]"
      ],
      "metadata": {
        "id": "-tuNMXWoCBm1"
      },
      "execution_count": null,
      "outputs": []
    },
    {
      "cell_type": "code",
      "source": [
        "print(count_vector.get_feature_names_out())"
      ],
      "metadata": {
        "id": "LmIGAsniCbuJ"
      },
      "execution_count": null,
      "outputs": []
    },
    {
      "cell_type": "markdown",
      "source": [
        "The most popular tokens are numbers or letters with numbers such as a86 which do not convey important information.\n",
        "\n",
        "words that have no actual meaning. They are you, them and then some words contain indentical information.For example, tell, told use and used time and times"
      ],
      "metadata": {
        "id": "YfWstUkIC4_f"
      }
    },
    {
      "cell_type": "markdown",
      "source": [
        "# Text Preprocessing\n",
        "Let's begin by retaining letter only words. Remove all the numbers and combination of letters and numbers."
      ],
      "metadata": {
        "id": "gEkMZLkTDb_o"
      }
    },
    {
      "cell_type": "code",
      "source": [
        "data_cleaned = []\n",
        "for doc in groups.data:\n",
        "  doc_cleaned = ' '.join(word for word in doc.split()\n",
        "  if word.isalpha())\n",
        "  data_cleaned.append(doc_cleaned)"
      ],
      "metadata": {
        "id": "yxQqc5QiCrAS"
      },
      "execution_count": 45,
      "outputs": []
    },
    {
      "cell_type": "markdown",
      "source": [
        "# Droping stop words\n",
        "Stops words are those common words that provides little value in helping to differentail documents.In general stop word add noise to the Bow model can be removed"
      ],
      "metadata": {
        "id": "IHWtLWfoEUzQ"
      }
    },
    {
      "cell_type": "code",
      "source": [
        "from sklearn.feature_extraction import _stop_words\n",
        "print(_stop_words.ENGLISH_STOP_WORDS)"
      ],
      "metadata": {
        "colab": {
          "base_uri": "https://localhost:8080/"
        },
        "id": "yIU-hzlbEPr_",
        "outputId": "1d296f99-d56d-40e4-a095-72db65229b6c"
      },
      "execution_count": 48,
      "outputs": [
        {
          "output_type": "stream",
          "name": "stdout",
          "text": [
            "frozenset({'already', 'seeming', 'serious', 'thence', 'elsewhere', 'seems', 'eight', 'now', 'call', 'every', 'how', 'these', 'were', 'ltd', 'whereupon', 'he', 'eleven', 'amount', 'over', 'much', 'bill', 'had', 'no', 'neither', 'another', 'beforehand', 'third', 'indeed', 'go', 'about', 'bottom', 'forty', 'anywhere', 'everyone', 'each', 'ten', 'whereas', 'him', 'since', 'afterwards', 'me', 'whereby', 'ourselves', 'us', 'namely', 'see', 'never', 'un', 'last', 'from', 'his', 'former', 'our', 'via', 'everywhere', 'its', 'between', 'whither', 'enough', 'someone', 'yourself', 'around', 'then', 'thick', 'myself', 'sincere', 'whose', 'detail', 'mostly', 'was', 'noone', 'can', 'are', 'should', 'even', 'whereafter', 'etc', 'cry', 'besides', 'if', 'out', 'none', 'the', 'inc', 'will', 'most', 'who', 'several', 'has', 'herself', 'few', 'by', 'fire', 'where', 'latter', 'always', 'give', 'nor', 'something', 'though', 'thin', 'sometimes', 'con', 'it', 'mine', 'up', 'without', 'less', 'twenty', 'couldnt', 'some', 'therein', 'whether', 'whole', 'whom', 'full', 'could', 'six', 'made', 'five', 'moreover', 'which', 'same', 'seemed', 'toward', 'after', 'three', 'however', 'into', 'due', 'been', 'yourselves', 'put', 'her', 'describe', 'hence', 'please', 'hundred', 'but', 'have', 'not', 'name', 'whence', 'fifteen', 'ours', 'front', 'interest', 'nowhere', 'mill', 'so', 'system', 'although', 'here', 'hereby', 'others', 'both', 'those', 'again', 'hereafter', 'my', 'everything', 'de', 'with', 'once', 'amoungst', 'throughout', 'ever', 'ie', 'all', 'still', 'itself', 'thru', 'almost', 'any', 'two', 'part', 'anyway', 'thereafter', 'back', 'cant', 'hereupon', 'or', 'themselves', 'upon', 'per', 'might', 'along', 're', 'wherein', 'himself', 'empty', 'yours', 'too', 'for', 'whatever', 'their', 'rather', 'latterly', 'sometime', 'until', 'except', 'nobody', 'anyhow', 'herein', 'through', 'more', 'sixty', 'well', 'in', 'yet', 'own', 'an', 'of', 'across', 'why', 'am', 'whoever', 'somehow', 'below', 'formerly', 'top', 'very', 'find', 'you', 'i', 'that', 'otherwise', 'what', 'seem', 'such', 'nine', 'anyone', 'under', 'nevertheless', 'cannot', 'become', 'do', 'your', 'onto', 'four', 'above', 'together', 'when', 'twelve', 'further', 'also', 'perhaps', 'anything', 'them', 'on', 'one', 'thereby', 'becoming', 'being', 'least', 'show', 'than', 'only', 'alone', 'fill', 'before', 'fifty', 'whenever', 'must', 'found', 'therefore', 'off', 'hers', 'thereupon', 'while', 'co', 'hasnt', 'meanwhile', 'there', 'at', 'thus', 'often', 'within', 'became', 'done', 'is', 'first', 'we', 'against', 'behind', 'a', 'and', 'may', 'be', 'because', 'this', 'side', 'somewhere', 'down', 'towards', 'keep', 'move', 'many', 'either', 'among', 'she', 'amongst', 'wherever', 'else', 'during', 'would', 'nothing', 'next', 'take', 'they', 'eg', 'as', 'to', 'get', 'other', 'beyond', 'beside', 'becomes'})\n"
          ]
        }
      ]
    },
    {
      "cell_type": "code",
      "source": [
        "count_vector_sw = CountVectorizer(stop_words=\"english\", max_features=500)"
      ],
      "metadata": {
        "id": "gw8PtntjFE76"
      },
      "execution_count": 50,
      "outputs": []
    },
    {
      "cell_type": "markdown",
      "source": [
        "# Reducing inflectional and derivational forms of words\n",
        "\n",
        "We have 2 strategies to deal with words from the same root. Stemming and Lemmatization.\n",
        "\n",
        "Stemming is a quicker approach that involves, if neccessary, chopping off letters, for example, words becomes word after stemming, trying and try become tri\n",
        "\n",
        "Lemmatizing, on the other hand, is slower but more accurate. It performs dictionary lookup and guaranttes to return a valid word"
      ],
      "metadata": {
        "id": "mSBoJoM2F10l"
      }
    },
    {
      "cell_type": "code",
      "source": [
        "from nltk.corpus import names\n",
        "import nltk\n",
        "nltk.download('names')\n",
        "nltk.download('wordnet')\n",
        "\n",
        "all_names = set(names.words())\n",
        "count_vector_sw = CountVectorizer(stop_words = \"english\" , max_features=500)\n",
        "from nltk.stem import WordNetLemmatizer\n",
        "lemmatizer = WordNetLemmatizer()\n",
        "data_cleaned = []\n",
        "for doc in groups.data:\n",
        "  doc = doc.lower()\n",
        "  doc_cleaned = ' '.join(lemmatizer.lemmatize(word) for word in doc.split()\n",
        "  if word.isalpha() and word not in all_names)\n",
        "  data_cleaned.append(doc_cleaned)\n",
        "data_cleaned_count_3= count_vector_sw.fit_transform(data_cleaned)"
      ],
      "metadata": {
        "colab": {
          "base_uri": "https://localhost:8080/"
        },
        "id": "ILHSAzAjFo4A",
        "outputId": "acd8fb27-34f5-45da-dae7-e0beb5e79a58"
      },
      "execution_count": 63,
      "outputs": [
        {
          "output_type": "stream",
          "name": "stdout",
          "text": [
            "[nltk_data] Downloading package names to /root/nltk_data...\n",
            "[nltk_data]   Package names is already up-to-date!\n",
            "[nltk_data] Downloading package wordnet to /root/nltk_data...\n",
            "[nltk_data]   Package wordnet is already up-to-date!\n"
          ]
        }
      ]
    },
    {
      "cell_type": "code",
      "source": [
        "print(count_vector_sw.get_feature_names_out())"
      ],
      "metadata": {
        "id": "1IlByPxDHhyc"
      },
      "execution_count": null,
      "outputs": []
    },
    {
      "cell_type": "markdown",
      "source": [
        "# T-SNE for Dimentaionality Reduction\n",
        "t-SNE for dimensionality reduction. t-SNE stands for t-distributed Stochastic Neighbor Embedding\n",
        "\n",
        "It is a nonlinear dimensionality reduction technique developed by Laurens Van der Maaten and Geoffrey Hinton.\n",
        "\n",
        "As its name implies, t-SNE embeds high-dimensional data into a low dimensional (usally two-dimensional or 3-dimensional) space where similarity among data samples (neighbor information is preserved)\n",
        "\n",
        "Similarity and neighbor distances are measured by Euclidean distance or other metrics"
      ],
      "metadata": {
        "id": "q69Y95-DJJEU"
      }
    },
    {
      "cell_type": "code",
      "source": [
        "from sklearn.manifold import TSNE\n",
        "# 3 distinct topics talk.religion.misc, comp.graphics and sci.space\n",
        "categories_3 = ['talk.religion.misc', 'comp.graphics', 'sci.space']\n",
        "groups_3 = fetch_20newsgroups(categories = categories_3)"
      ],
      "metadata": {
        "id": "VeycUoMGIJzb"
      },
      "execution_count": 91,
      "outputs": []
    },
    {
      "cell_type": "code",
      "source": [
        "from nltk.corpus import names\n",
        "all_names = set(names.words())\n",
        "\n",
        "count_vector_sw = CountVectorizer(stop_words = \"english\" , max_features=500)\n",
        "\n",
        "from nltk.stem import WordNetLemmatizer\n",
        "lemmatizer = WordNetLemmatizer()\n",
        "\n",
        "data_cleaned = []\n",
        "\n",
        "for doc in groups.data:\n",
        "  doc = doc.lower()\n",
        "  doc_cleaned = ' '.join(lemmatizer.lemmatize(word) for word in doc.split()if word.isalpha() and word not in all_names)\n",
        "  data_cleaned.append(doc_cleaned)\n",
        "\n",
        "data_cleaned_count_3 = count_vector_sw.fit_transform(data_cleaned)"
      ],
      "metadata": {
        "id": "bnUy5DWEVqnn"
      },
      "execution_count": 94,
      "outputs": []
    },
    {
      "cell_type": "code",
      "source": [
        "tsne_model = TSNE(n_components=2, perplexity=40, random_state=42, learning_rate=500)\n",
        "data_tnse = tsne_model.fit_transform(data_cleaned_count_3.toarray())"
      ],
      "metadata": {
        "colab": {
          "base_uri": "https://localhost:8080/"
        },
        "id": "hqPtpjJhJ8b9",
        "outputId": "86341903-c061-4f57-fd65-1296ab799d52"
      },
      "execution_count": 95,
      "outputs": [
        {
          "output_type": "stream",
          "name": "stderr",
          "text": [
            "/usr/local/lib/python3.7/dist-packages/sklearn/manifold/_t_sne.py:783: FutureWarning: The default initialization in TSNE will change from 'random' to 'pca' in 1.2.\n",
            "  FutureWarning,\n"
          ]
        }
      ]
    },
    {
      "cell_type": "markdown",
      "source": [
        "1. n_component:  The output dimension\n",
        "2. perlexity: The number of nearest data point considered neighbors in the algorithms with a typical value of between 5 and 50"
      ],
      "metadata": {
        "id": "tDSGURVJLg0J"
      }
    },
    {
      "cell_type": "code",
      "source": [
        "import matplotlib.pyplot as plt\n",
        "plt.scatter(data_tnse[:, 0], data_tnse[:, 1], c=groups_3.target)\n",
        "plt.show()"
      ],
      "metadata": {
        "colab": {
          "base_uri": "https://localhost:8080/",
          "height": 685
        },
        "id": "VTGf2QdSKfjz",
        "outputId": "1c991110-7d4c-4df2-add9-994d8074dd86"
      },
      "execution_count": 96,
      "outputs": [
        {
          "output_type": "error",
          "ename": "ValueError",
          "evalue": "ignored",
          "traceback": [
            "\u001b[0;31m---------------------------------------------------------------------------\u001b[0m",
            "\u001b[0;31mValueError\u001b[0m                                Traceback (most recent call last)",
            "\u001b[0;32m/usr/local/lib/python3.7/dist-packages/matplotlib/axes/_axes.py\u001b[0m in \u001b[0;36m_parse_scatter_color_args\u001b[0;34m(c, edgecolors, kwargs, xsize, get_next_color_func)\u001b[0m\n\u001b[1;32m   4238\u001b[0m             \u001b[0;32mtry\u001b[0m\u001b[0;34m:\u001b[0m  \u001b[0;31m# Is 'c' acceptable as PathCollection facecolors?\u001b[0m\u001b[0;34m\u001b[0m\u001b[0;34m\u001b[0m\u001b[0m\n\u001b[0;32m-> 4239\u001b[0;31m                 \u001b[0mcolors\u001b[0m \u001b[0;34m=\u001b[0m \u001b[0mmcolors\u001b[0m\u001b[0;34m.\u001b[0m\u001b[0mto_rgba_array\u001b[0m\u001b[0;34m(\u001b[0m\u001b[0mc\u001b[0m\u001b[0;34m)\u001b[0m\u001b[0;34m\u001b[0m\u001b[0;34m\u001b[0m\u001b[0m\n\u001b[0m\u001b[1;32m   4240\u001b[0m             \u001b[0;32mexcept\u001b[0m \u001b[0mValueError\u001b[0m\u001b[0;34m:\u001b[0m\u001b[0;34m\u001b[0m\u001b[0;34m\u001b[0m\u001b[0m\n",
            "\u001b[0;32m/usr/local/lib/python3.7/dist-packages/matplotlib/colors.py\u001b[0m in \u001b[0;36mto_rgba_array\u001b[0;34m(c, alpha)\u001b[0m\n\u001b[1;32m    339\u001b[0m     \u001b[0;32melse\u001b[0m\u001b[0;34m:\u001b[0m\u001b[0;34m\u001b[0m\u001b[0;34m\u001b[0m\u001b[0m\n\u001b[0;32m--> 340\u001b[0;31m         \u001b[0;32mreturn\u001b[0m \u001b[0mnp\u001b[0m\u001b[0;34m.\u001b[0m\u001b[0marray\u001b[0m\u001b[0;34m(\u001b[0m\u001b[0;34m[\u001b[0m\u001b[0mto_rgba\u001b[0m\u001b[0;34m(\u001b[0m\u001b[0mcc\u001b[0m\u001b[0;34m,\u001b[0m \u001b[0malpha\u001b[0m\u001b[0;34m)\u001b[0m \u001b[0;32mfor\u001b[0m \u001b[0mcc\u001b[0m \u001b[0;32min\u001b[0m \u001b[0mc\u001b[0m\u001b[0;34m]\u001b[0m\u001b[0;34m)\u001b[0m\u001b[0;34m\u001b[0m\u001b[0;34m\u001b[0m\u001b[0m\n\u001b[0m\u001b[1;32m    341\u001b[0m \u001b[0;34m\u001b[0m\u001b[0m\n",
            "\u001b[0;32m/usr/local/lib/python3.7/dist-packages/matplotlib/colors.py\u001b[0m in \u001b[0;36m<listcomp>\u001b[0;34m(.0)\u001b[0m\n\u001b[1;32m    339\u001b[0m     \u001b[0;32melse\u001b[0m\u001b[0;34m:\u001b[0m\u001b[0;34m\u001b[0m\u001b[0;34m\u001b[0m\u001b[0m\n\u001b[0;32m--> 340\u001b[0;31m         \u001b[0;32mreturn\u001b[0m \u001b[0mnp\u001b[0m\u001b[0;34m.\u001b[0m\u001b[0marray\u001b[0m\u001b[0;34m(\u001b[0m\u001b[0;34m[\u001b[0m\u001b[0mto_rgba\u001b[0m\u001b[0;34m(\u001b[0m\u001b[0mcc\u001b[0m\u001b[0;34m,\u001b[0m \u001b[0malpha\u001b[0m\u001b[0;34m)\u001b[0m \u001b[0;32mfor\u001b[0m \u001b[0mcc\u001b[0m \u001b[0;32min\u001b[0m \u001b[0mc\u001b[0m\u001b[0;34m]\u001b[0m\u001b[0;34m)\u001b[0m\u001b[0;34m\u001b[0m\u001b[0;34m\u001b[0m\u001b[0m\n\u001b[0m\u001b[1;32m    341\u001b[0m \u001b[0;34m\u001b[0m\u001b[0m\n",
            "\u001b[0;32m/usr/local/lib/python3.7/dist-packages/matplotlib/colors.py\u001b[0m in \u001b[0;36mto_rgba\u001b[0;34m(c, alpha)\u001b[0m\n\u001b[1;32m    184\u001b[0m     \u001b[0;32mif\u001b[0m \u001b[0mrgba\u001b[0m \u001b[0;32mis\u001b[0m \u001b[0;32mNone\u001b[0m\u001b[0;34m:\u001b[0m  \u001b[0;31m# Suppress exception chaining of cache lookup failure.\u001b[0m\u001b[0;34m\u001b[0m\u001b[0;34m\u001b[0m\u001b[0m\n\u001b[0;32m--> 185\u001b[0;31m         \u001b[0mrgba\u001b[0m \u001b[0;34m=\u001b[0m \u001b[0m_to_rgba_no_colorcycle\u001b[0m\u001b[0;34m(\u001b[0m\u001b[0mc\u001b[0m\u001b[0;34m,\u001b[0m \u001b[0malpha\u001b[0m\u001b[0;34m)\u001b[0m\u001b[0;34m\u001b[0m\u001b[0;34m\u001b[0m\u001b[0m\n\u001b[0m\u001b[1;32m    186\u001b[0m         \u001b[0;32mtry\u001b[0m\u001b[0;34m:\u001b[0m\u001b[0;34m\u001b[0m\u001b[0;34m\u001b[0m\u001b[0m\n",
            "\u001b[0;32m/usr/local/lib/python3.7/dist-packages/matplotlib/colors.py\u001b[0m in \u001b[0;36m_to_rgba_no_colorcycle\u001b[0;34m(c, alpha)\u001b[0m\n\u001b[1;32m    267\u001b[0m         \u001b[0;31m# Test dimensionality to reject single floats.\u001b[0m\u001b[0;34m\u001b[0m\u001b[0;34m\u001b[0m\u001b[0;34m\u001b[0m\u001b[0m\n\u001b[0;32m--> 268\u001b[0;31m         \u001b[0;32mraise\u001b[0m \u001b[0mValueError\u001b[0m\u001b[0;34m(\u001b[0m\u001b[0;34mf\"Invalid RGBA argument: {orig_c!r}\"\u001b[0m\u001b[0;34m)\u001b[0m\u001b[0;34m\u001b[0m\u001b[0;34m\u001b[0m\u001b[0m\n\u001b[0m\u001b[1;32m    269\u001b[0m     \u001b[0;31m# Return a tuple to prevent the cached value from being modified.\u001b[0m\u001b[0;34m\u001b[0m\u001b[0;34m\u001b[0m\u001b[0;34m\u001b[0m\u001b[0m\n",
            "\u001b[0;31mValueError\u001b[0m: Invalid RGBA argument: 1.0",
            "\nDuring handling of the above exception, another exception occurred:\n",
            "\u001b[0;31mValueError\u001b[0m                                Traceback (most recent call last)",
            "\u001b[0;32m<ipython-input-96-e079c62fe93c>\u001b[0m in \u001b[0;36m<module>\u001b[0;34m()\u001b[0m\n\u001b[1;32m      1\u001b[0m \u001b[0;32mimport\u001b[0m \u001b[0mmatplotlib\u001b[0m\u001b[0;34m.\u001b[0m\u001b[0mpyplot\u001b[0m \u001b[0;32mas\u001b[0m \u001b[0mplt\u001b[0m\u001b[0;34m\u001b[0m\u001b[0;34m\u001b[0m\u001b[0m\n\u001b[0;32m----> 2\u001b[0;31m \u001b[0mplt\u001b[0m\u001b[0;34m.\u001b[0m\u001b[0mscatter\u001b[0m\u001b[0;34m(\u001b[0m\u001b[0mdata_tnse\u001b[0m\u001b[0;34m[\u001b[0m\u001b[0;34m:\u001b[0m\u001b[0;34m,\u001b[0m \u001b[0;36m0\u001b[0m\u001b[0;34m]\u001b[0m\u001b[0;34m,\u001b[0m \u001b[0mdata_tnse\u001b[0m\u001b[0;34m[\u001b[0m\u001b[0;34m:\u001b[0m\u001b[0;34m,\u001b[0m \u001b[0;36m1\u001b[0m\u001b[0;34m]\u001b[0m\u001b[0;34m,\u001b[0m \u001b[0mc\u001b[0m\u001b[0;34m=\u001b[0m\u001b[0mgroups_3\u001b[0m\u001b[0;34m.\u001b[0m\u001b[0mtarget\u001b[0m\u001b[0;34m)\u001b[0m\u001b[0;34m\u001b[0m\u001b[0;34m\u001b[0m\u001b[0m\n\u001b[0m\u001b[1;32m      3\u001b[0m \u001b[0mplt\u001b[0m\u001b[0;34m.\u001b[0m\u001b[0mshow\u001b[0m\u001b[0;34m(\u001b[0m\u001b[0;34m)\u001b[0m\u001b[0;34m\u001b[0m\u001b[0;34m\u001b[0m\u001b[0m\n",
            "\u001b[0;32m/usr/local/lib/python3.7/dist-packages/matplotlib/pyplot.py\u001b[0m in \u001b[0;36mscatter\u001b[0;34m(x, y, s, c, marker, cmap, norm, vmin, vmax, alpha, linewidths, verts, edgecolors, plotnonfinite, data, **kwargs)\u001b[0m\n\u001b[1;32m   2814\u001b[0m         \u001b[0mverts\u001b[0m\u001b[0;34m=\u001b[0m\u001b[0mverts\u001b[0m\u001b[0;34m,\u001b[0m \u001b[0medgecolors\u001b[0m\u001b[0;34m=\u001b[0m\u001b[0medgecolors\u001b[0m\u001b[0;34m,\u001b[0m\u001b[0;34m\u001b[0m\u001b[0;34m\u001b[0m\u001b[0m\n\u001b[1;32m   2815\u001b[0m         plotnonfinite=plotnonfinite, **({\"data\": data} if data is not\n\u001b[0;32m-> 2816\u001b[0;31m         None else {}), **kwargs)\n\u001b[0m\u001b[1;32m   2817\u001b[0m     \u001b[0msci\u001b[0m\u001b[0;34m(\u001b[0m\u001b[0m__ret\u001b[0m\u001b[0;34m)\u001b[0m\u001b[0;34m\u001b[0m\u001b[0;34m\u001b[0m\u001b[0m\n\u001b[1;32m   2818\u001b[0m     \u001b[0;32mreturn\u001b[0m \u001b[0m__ret\u001b[0m\u001b[0;34m\u001b[0m\u001b[0;34m\u001b[0m\u001b[0m\n",
            "\u001b[0;32m/usr/local/lib/python3.7/dist-packages/matplotlib/__init__.py\u001b[0m in \u001b[0;36minner\u001b[0;34m(ax, data, *args, **kwargs)\u001b[0m\n\u001b[1;32m   1563\u001b[0m     \u001b[0;32mdef\u001b[0m \u001b[0minner\u001b[0m\u001b[0;34m(\u001b[0m\u001b[0max\u001b[0m\u001b[0;34m,\u001b[0m \u001b[0;34m*\u001b[0m\u001b[0margs\u001b[0m\u001b[0;34m,\u001b[0m \u001b[0mdata\u001b[0m\u001b[0;34m=\u001b[0m\u001b[0;32mNone\u001b[0m\u001b[0;34m,\u001b[0m \u001b[0;34m**\u001b[0m\u001b[0mkwargs\u001b[0m\u001b[0;34m)\u001b[0m\u001b[0;34m:\u001b[0m\u001b[0;34m\u001b[0m\u001b[0;34m\u001b[0m\u001b[0m\n\u001b[1;32m   1564\u001b[0m         \u001b[0;32mif\u001b[0m \u001b[0mdata\u001b[0m \u001b[0;32mis\u001b[0m \u001b[0;32mNone\u001b[0m\u001b[0;34m:\u001b[0m\u001b[0;34m\u001b[0m\u001b[0;34m\u001b[0m\u001b[0m\n\u001b[0;32m-> 1565\u001b[0;31m             \u001b[0;32mreturn\u001b[0m \u001b[0mfunc\u001b[0m\u001b[0;34m(\u001b[0m\u001b[0max\u001b[0m\u001b[0;34m,\u001b[0m \u001b[0;34m*\u001b[0m\u001b[0mmap\u001b[0m\u001b[0;34m(\u001b[0m\u001b[0msanitize_sequence\u001b[0m\u001b[0;34m,\u001b[0m \u001b[0margs\u001b[0m\u001b[0;34m)\u001b[0m\u001b[0;34m,\u001b[0m \u001b[0;34m**\u001b[0m\u001b[0mkwargs\u001b[0m\u001b[0;34m)\u001b[0m\u001b[0;34m\u001b[0m\u001b[0;34m\u001b[0m\u001b[0m\n\u001b[0m\u001b[1;32m   1566\u001b[0m \u001b[0;34m\u001b[0m\u001b[0m\n\u001b[1;32m   1567\u001b[0m         \u001b[0mbound\u001b[0m \u001b[0;34m=\u001b[0m \u001b[0mnew_sig\u001b[0m\u001b[0;34m.\u001b[0m\u001b[0mbind\u001b[0m\u001b[0;34m(\u001b[0m\u001b[0max\u001b[0m\u001b[0;34m,\u001b[0m \u001b[0;34m*\u001b[0m\u001b[0margs\u001b[0m\u001b[0;34m,\u001b[0m \u001b[0;34m**\u001b[0m\u001b[0mkwargs\u001b[0m\u001b[0;34m)\u001b[0m\u001b[0;34m\u001b[0m\u001b[0;34m\u001b[0m\u001b[0m\n",
            "\u001b[0;32m/usr/local/lib/python3.7/dist-packages/matplotlib/cbook/deprecation.py\u001b[0m in \u001b[0;36mwrapper\u001b[0;34m(*args, **kwargs)\u001b[0m\n\u001b[1;32m    356\u001b[0m                 \u001b[0;34mf\"%(removal)s.  If any parameter follows {name!r}, they \"\u001b[0m\u001b[0;34m\u001b[0m\u001b[0;34m\u001b[0m\u001b[0m\n\u001b[1;32m    357\u001b[0m                 f\"should be pass as keyword, not positionally.\")\n\u001b[0;32m--> 358\u001b[0;31m         \u001b[0;32mreturn\u001b[0m \u001b[0mfunc\u001b[0m\u001b[0;34m(\u001b[0m\u001b[0;34m*\u001b[0m\u001b[0margs\u001b[0m\u001b[0;34m,\u001b[0m \u001b[0;34m**\u001b[0m\u001b[0mkwargs\u001b[0m\u001b[0;34m)\u001b[0m\u001b[0;34m\u001b[0m\u001b[0;34m\u001b[0m\u001b[0m\n\u001b[0m\u001b[1;32m    359\u001b[0m \u001b[0;34m\u001b[0m\u001b[0m\n\u001b[1;32m    360\u001b[0m     \u001b[0;32mreturn\u001b[0m \u001b[0mwrapper\u001b[0m\u001b[0;34m\u001b[0m\u001b[0;34m\u001b[0m\u001b[0m\n",
            "\u001b[0;32m/usr/local/lib/python3.7/dist-packages/matplotlib/axes/_axes.py\u001b[0m in \u001b[0;36mscatter\u001b[0;34m(self, x, y, s, c, marker, cmap, norm, vmin, vmax, alpha, linewidths, verts, edgecolors, plotnonfinite, **kwargs)\u001b[0m\n\u001b[1;32m   4401\u001b[0m             self._parse_scatter_color_args(\n\u001b[1;32m   4402\u001b[0m                 \u001b[0mc\u001b[0m\u001b[0;34m,\u001b[0m \u001b[0medgecolors\u001b[0m\u001b[0;34m,\u001b[0m \u001b[0mkwargs\u001b[0m\u001b[0;34m,\u001b[0m \u001b[0mx\u001b[0m\u001b[0;34m.\u001b[0m\u001b[0msize\u001b[0m\u001b[0;34m,\u001b[0m\u001b[0;34m\u001b[0m\u001b[0;34m\u001b[0m\u001b[0m\n\u001b[0;32m-> 4403\u001b[0;31m                 get_next_color_func=self._get_patches_for_fill.get_next_color)\n\u001b[0m\u001b[1;32m   4404\u001b[0m \u001b[0;34m\u001b[0m\u001b[0m\n\u001b[1;32m   4405\u001b[0m         \u001b[0;32mif\u001b[0m \u001b[0mplotnonfinite\u001b[0m \u001b[0;32mand\u001b[0m \u001b[0mcolors\u001b[0m \u001b[0;32mis\u001b[0m \u001b[0;32mNone\u001b[0m\u001b[0;34m:\u001b[0m\u001b[0;34m\u001b[0m\u001b[0;34m\u001b[0m\u001b[0m\n",
            "\u001b[0;32m/usr/local/lib/python3.7/dist-packages/matplotlib/axes/_axes.py\u001b[0m in \u001b[0;36m_parse_scatter_color_args\u001b[0;34m(c, edgecolors, kwargs, xsize, get_next_color_func)\u001b[0m\n\u001b[1;32m   4240\u001b[0m             \u001b[0;32mexcept\u001b[0m \u001b[0mValueError\u001b[0m\u001b[0;34m:\u001b[0m\u001b[0;34m\u001b[0m\u001b[0;34m\u001b[0m\u001b[0m\n\u001b[1;32m   4241\u001b[0m                 \u001b[0;32mif\u001b[0m \u001b[0;32mnot\u001b[0m \u001b[0mvalid_shape\u001b[0m\u001b[0;34m:\u001b[0m\u001b[0;34m\u001b[0m\u001b[0;34m\u001b[0m\u001b[0m\n\u001b[0;32m-> 4242\u001b[0;31m                     \u001b[0;32mraise\u001b[0m \u001b[0minvalid_shape_exception\u001b[0m\u001b[0;34m(\u001b[0m\u001b[0mc\u001b[0m\u001b[0;34m.\u001b[0m\u001b[0msize\u001b[0m\u001b[0;34m,\u001b[0m \u001b[0mxsize\u001b[0m\u001b[0;34m)\u001b[0m\u001b[0;34m\u001b[0m\u001b[0;34m\u001b[0m\u001b[0m\n\u001b[0m\u001b[1;32m   4243\u001b[0m                 \u001b[0;31m# Both the mapping *and* the RGBA conversion failed: pretty\u001b[0m\u001b[0;34m\u001b[0m\u001b[0;34m\u001b[0m\u001b[0;34m\u001b[0m\u001b[0m\n\u001b[1;32m   4244\u001b[0m                 \u001b[0;31m# severe failure => one may appreciate a verbose feedback.\u001b[0m\u001b[0;34m\u001b[0m\u001b[0;34m\u001b[0m\u001b[0;34m\u001b[0m\u001b[0m\n",
            "\u001b[0;31mValueError\u001b[0m: 'c' argument has 1554 elements, which is inconsistent with 'x' and 'y' with size 11314."
          ]
        },
        {
          "output_type": "display_data",
          "data": {
            "image/png": "[encoded data removed]",
            "text/plain": [
              "<Figure size 432x288 with 1 Axes>"
            ]
          },
          "metadata": {
            "needs_background": "light"
          }
        }
      ]
    },
    {
      "cell_type": "code",
      "source": [
        "categories_5 = ['comp.graphics','comp.os.ms-windows.misc','comp.sys.ibm.pc.hardware','comp.sys.mac.hardware','comp.windows.x',]\n",
        "groups_5 = fetch_20newsgroups(categories=categories_5)\n",
        "\n",
        "count_vector_sw = CountVectorizer(stop_words = \"english\" , max_features=500)\n",
        "\n",
        "data_cleaned = []\n",
        "\n",
        "for doc in groups.data:\n",
        "  doc = doc.lower()\n",
        "  doc_cleaned = ' '.join(lemmatizer.lemmatize(word) for word in doc.split()if word.isalpha() and word not in all_names)\n",
        "  data_cleaned.append(doc_cleaned)\n",
        "data_cleaned_count_5= count_vector_sw.fit_transform(data_cleaned)\n",
        "\n",
        "data_tnse = tsne_model.fit_transform(data_cleaned_count_5.toarray())\n",
        "plt.scatter(data_tnse[:, 0], data_tnse[:, 1], c=groups_5.target)\n",
        "plt.show()"
      ],
      "metadata": {
        "colab": {
          "base_uri": "https://localhost:8080/",
          "height": 1000
        },
        "id": "BEeNNdZzMN-3",
        "outputId": "9d491e0a-2a82-4fb2-dacb-ade0c8bb4c6d"
      },
      "execution_count": 97,
      "outputs": [
        {
          "output_type": "stream",
          "name": "stderr",
          "text": [
            "/usr/local/lib/python3.7/dist-packages/sklearn/manifold/_t_sne.py:783: FutureWarning: The default initialization in TSNE will change from 'random' to 'pca' in 1.2.\n",
            "  FutureWarning,\n",
            "ERROR:root:Internal Python error in the inspect module.\n",
            "Below is the traceback from this internal error.\n",
            "\n"
          ]
        },
        {
          "output_type": "stream",
          "name": "stdout",
          "text": [
            "Traceback (most recent call last):\n",
            "  File \"/usr/local/lib/python3.7/dist-packages/IPython/core/interactiveshell.py\", line 2882, in run_code\n",
            "    exec(code_obj, self.user_global_ns, self.user_ns)\n",
            "  File \"<ipython-input-97-4a2c6107feb9>\", line 14, in <module>\n",
            "    data_tnse = tsne_model.fit_transform(data_cleaned_count_5.toarray())\n",
            "  File \"/usr/local/lib/python3.7/dist-packages/sklearn/manifold/_t_sne.py\", line 1108, in fit_transform\n",
            "    embedding = self._fit(X)\n",
            "  File \"/usr/local/lib/python3.7/dist-packages/sklearn/manifold/_t_sne.py\", line 947, in _fit\n",
            "    distances_nn = knn.kneighbors_graph(mode=\"distance\")\n",
            "  File \"/usr/local/lib/python3.7/dist-packages/sklearn/neighbors/_base.py\", line 886, in kneighbors_graph\n",
            "    A_data, A_ind = self.kneighbors(X, n_neighbors, return_distance=True)\n",
            "  File \"/usr/local/lib/python3.7/dist-packages/sklearn/neighbors/_base.py\", line 759, in kneighbors\n",
            "    **kwds,\n",
            "  File \"/usr/local/lib/python3.7/dist-packages/sklearn/metrics/pairwise.py\", line 1726, in pairwise_distances_chunked\n",
            "    D_chunk = reduce_func(D_chunk, sl.start)\n",
            "  File \"/usr/local/lib/python3.7/dist-packages/sklearn/neighbors/_base.py\", line 634, in _kneighbors_reduce_func\n",
            "    neigh_ind = np.argpartition(dist, n_neighbors - 1, axis=1)\n",
            "  File \"<__array_function__ internals>\", line 6, in argpartition\n",
            "  File \"/usr/local/lib/python3.7/dist-packages/numpy/core/fromnumeric.py\", line 832, in argpartition\n",
            "    return _wrapfunc(a, 'argpartition', kth, axis=axis, kind=kind, order=order)\n",
            "  File \"/usr/local/lib/python3.7/dist-packages/numpy/core/fromnumeric.py\", line 58, in _wrapfunc\n",
            "    return bound(*args, **kwds)\n",
            "KeyboardInterrupt\n",
            "\n",
            "During handling of the above exception, another exception occurred:\n",
            "\n",
            "Traceback (most recent call last):\n",
            "  File \"/usr/local/lib/python3.7/dist-packages/IPython/core/interactiveshell.py\", line 1823, in showtraceback\n",
            "    stb = value._render_traceback_()\n",
            "AttributeError: 'KeyboardInterrupt' object has no attribute '_render_traceback_'\n",
            "\n",
            "During handling of the above exception, another exception occurred:\n",
            "\n",
            "Traceback (most recent call last):\n",
            "  File \"/usr/local/lib/python3.7/dist-packages/IPython/core/ultratb.py\", line 1132, in get_records\n",
            "    return _fixed_getinnerframes(etb, number_of_lines_of_context, tb_offset)\n",
            "  File \"/usr/local/lib/python3.7/dist-packages/IPython/core/ultratb.py\", line 313, in wrapped\n",
            "    return f(*args, **kwargs)\n",
            "  File \"/usr/local/lib/python3.7/dist-packages/IPython/core/ultratb.py\", line 358, in _fixed_getinnerframes\n",
            "    records = fix_frame_records_filenames(inspect.getinnerframes(etb, context))\n",
            "  File \"/usr/lib/python3.7/inspect.py\", line 1502, in getinnerframes\n",
            "    frameinfo = (tb.tb_frame,) + getframeinfo(tb, context)\n",
            "  File \"/usr/lib/python3.7/inspect.py\", line 1464, in getframeinfo\n",
            "    lines, lnum = findsource(frame)\n",
            "  File \"/usr/local/lib/python3.7/dist-packages/IPython/core/ultratb.py\", line 170, in findsource\n",
            "    file = getsourcefile(object) or getfile(object)\n",
            "  File \"/usr/lib/python3.7/inspect.py\", line 696, in getsourcefile\n",
            "    if getattr(getmodule(object, filename), '__loader__', None) is not None:\n",
            "  File \"/usr/lib/python3.7/inspect.py\", line 733, in getmodule\n",
            "    if ismodule(module) and hasattr(module, '__file__'):\n",
            "  File \"/usr/lib/python3.7/inspect.py\", line 70, in ismodule\n",
            "    return isinstance(object, types.ModuleType)\n",
            "KeyboardInterrupt\n"
          ]
        },
        {
          "output_type": "error",
          "ename": "KeyboardInterrupt",
          "evalue": "ignored",
          "traceback": [
            "\u001b[0;31m---------------------------------------------------------------------------\u001b[0m"
          ]
        }
      ]
    },
    {
      "cell_type": "code",
      "source": [
        ""
      ],
      "metadata": {
        "id": "T8mSbJ0fQ9NP"
      },
      "execution_count": null,
      "outputs": []
    }
  ]
}