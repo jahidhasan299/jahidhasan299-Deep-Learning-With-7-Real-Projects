{
  "nbformat": 4,
  "nbformat_minor": 0,
  "metadata": {
    "colab": {
      "name": "Regression_housing_prices_problem.ipynb",
      "provenance": [],
      "collapsed_sections": [],
      "include_colab_link": true
    },
    "kernelspec": {
      "name": "python3",
      "display_name": "Python 3"
    },
    "language_info": {
      "name": "python"
    },
    "accelerator": "GPU"
  },
  "cells": [
    {
      "cell_type": "markdown",
      "metadata": {
        "id": "view-in-github",
        "colab_type": "text"
      },
      "source": [
        "<a href=\"https://colab.research.google.com/github/jahidhasan299/jahidhasan299-Deep-Learning-With-7-Real-Projects/blob/main/Regression_housing_prices_problem.ipynb\" target=\"_parent\"><img src=\"https://colab.research.google.com/assets/colab-badge.svg\" alt=\"Open In Colab\"/></a>"
      ]
    },
    {
      "cell_type": "code",
      "metadata": {
        "id": "ioOS6r-vWZ2H",
        "colab": {
          "base_uri": "https://localhost:8080/",
          "height": 142
        },
        "outputId": "9e079401-3e7e-427b-f42e-3d8ceeb2d73e"
      },
      "source": [
        "\"\"\"\n",
        "Boston housing dataset: https://www.cs.toronto.edu/~delve/data/boston/bostonDetail.html\n",
        "Data has white spaces, not commas.\n",
        "\n",
        "The Boston house-price data of Harrison, D. and Rubinfeld, D.L. 'Hedonic\n",
        " prices and the demand for clean air', J. Environ. Economics & Management,\n",
        " vol.5, 81-102, 1978\n",
        "\n",
        "    1. CRIM      per capita crime rate by town\n",
        "    2. ZN        proportion of residential land zoned for lots over \n",
        "                 25,000 sq.ft.\n",
        "    3. INDUS     proportion of non-retail business acres per town\n",
        "    4. CHAS      Charles River dummy variable (= 1 if tract bounds \n",
        "                 river; 0 otherwise)\n",
        "    5. NOX       nitric oxides concentration (parts per 10 million)\n",
        "    6. RM        average number of rooms per dwelling\n",
        "    7. AGE       proportion of owner-occupied units built prior to 1940\n",
        "    8. DIS       weighted distances to five Boston employment centres\n",
        "    9. RAD       index of accessibility to radial highways\n",
        "    10. TAX      full-value property-tax rate per $10,000\n",
        "    11. PTRATIO  pupil-teacher ratio by town\n",
        "    12. B        1000(Bk - 0.63)^2 where Bk is the proportion of blacks \n",
        "                 by town\n",
        "    13. LSTAT    % lower status of the population\n",
        "    14. MEDV     Median value of owner-occupied homes in $1000's\n",
        "\n",
        "\n",
        "\"\"\""
      ],
      "execution_count": 1,
      "outputs": [
        {
          "output_type": "execute_result",
          "data": {
            "text/plain": [
              "\"\\nBoston housing dataset: https://www.cs.toronto.edu/~delve/data/boston/bostonDetail.html\\nData has white spaces, not commas.\\n\\nThe Boston house-price data of Harrison, D. and Rubinfeld, D.L. 'Hedonic\\n prices and the demand for clean air', J. Environ. Economics & Management,\\n vol.5, 81-102, 1978\\n\\n    1. CRIM      per capita crime rate by town\\n    2. ZN        proportion of residential land zoned for lots over \\n                 25,000 sq.ft.\\n    3. INDUS     proportion of non-retail business acres per town\\n    4. CHAS      Charles River dummy variable (= 1 if tract bounds \\n                 river; 0 otherwise)\\n    5. NOX       nitric oxides concentration (parts per 10 million)\\n    6. RM        average number of rooms per dwelling\\n    7. AGE       proportion of owner-occupied units built prior to 1940\\n    8. DIS       weighted distances to five Boston employment centres\\n    9. RAD       index of accessibility to radial highways\\n    10. TAX      full-value property-tax rate per $10,000\\n    11. PTRATIO  pupil-teacher ratio by town\\n    12. B        1000(Bk - 0.63)^2 where Bk is the proportion of blacks \\n                 by town\\n    13. LSTAT    % lower status of the population\\n    14. MEDV     Median value of owner-occupied homes in $1000's\\n\\n\\n\""
            ],
            "application/vnd.google.colaboratory.intrinsic+json": {
              "type": "string"
            }
          },
          "metadata": {},
          "execution_count": 1
        }
      ]
    },
    {
      "cell_type": "code",
      "source": [
        "from google.colab import drive\n",
        "drive.mount('/content/drive')"
      ],
      "metadata": {
        "colab": {
          "base_uri": "https://localhost:8080/"
        },
        "id": "w_Ahgl4h8WEy",
        "outputId": "483938d4-4642-4cd4-f324-fd810d19bd4d"
      },
      "execution_count": 2,
      "outputs": [
        {
          "output_type": "stream",
          "name": "stdout",
          "text": [
            "Mounted at /content/drive\n"
          ]
        }
      ]
    },
    {
      "cell_type": "code",
      "metadata": {
        "id": "prBUbeUqXTZ8"
      },
      "source": [
        "import pandas as pd\n",
        "from keras.models import Sequential\n",
        "from keras.layers import Dense, Dropout\n",
        "from keras.wrappers.scikit_learn import KerasRegressor\n",
        "from sklearn.model_selection import cross_val_score\n",
        "from sklearn.model_selection import KFold\n",
        "from sklearn.pipeline import Pipeline\n",
        "from sklearn.model_selection import train_test_split\n",
        "import seaborn as sns\n",
        "from matplotlib import pyplot as plt"
      ],
      "execution_count": 21,
      "outputs": []
    },
    {
      "cell_type": "code",
      "metadata": {
        "id": "NLobcQ9GXVws",
        "colab": {
          "base_uri": "https://localhost:8080/"
        },
        "outputId": "543a8230-87d7-4bdc-f83d-eb785dc488dd"
      },
      "source": [
        "# load data and arrange into Pandas dataframe\n",
        "df = pd.read_csv(\"/content/drive/MyDrive/Colab Notebooks/datasets/housing.csv\", delim_whitespace=True, header=None,index_col=None)\n",
        "\n",
        "print(df.head())"
      ],
      "execution_count": 4,
      "outputs": [
        {
          "output_type": "stream",
          "name": "stdout",
          "text": [
            "        0     1     2   3      4      5     6       7   8      9     10  \\\n",
            "0  0.00632  18.0  2.31   0  0.538  6.575  65.2  4.0900   1  296.0  15.3   \n",
            "1  0.02731   0.0  7.07   0  0.469  6.421  78.9  4.9671   2  242.0  17.8   \n",
            "2  0.02729   0.0  7.07   0  0.469  7.185  61.1  4.9671   2  242.0  17.8   \n",
            "3  0.03237   0.0  2.18   0  0.458  6.998  45.8  6.0622   3  222.0  18.7   \n",
            "4  0.06905   0.0  2.18   0  0.458  7.147  54.2  6.0622   3  222.0  18.7   \n",
            "\n",
            "       11    12    13  \n",
            "0  396.90  4.98  24.0  \n",
            "1  396.90  9.14  21.6  \n",
            "2  392.83  4.03  34.7  \n",
            "3  394.63  2.94  33.4  \n",
            "4  396.90  5.33  36.2  \n"
          ]
        }
      ]
    },
    {
      "cell_type": "code",
      "source": [
        "df.describe()"
      ],
      "metadata": {
        "colab": {
          "base_uri": "https://localhost:8080/",
          "height": 344
        },
        "id": "WhV8Sd_X9EFp",
        "outputId": "8da57d4a-4ef4-464d-9418-9989835b0d83"
      },
      "execution_count": 5,
      "outputs": [
        {
          "output_type": "execute_result",
          "data": {
            "text/plain": [
              "               0           1           2           3           4           5   \\\n",
              "count  506.000000  506.000000  506.000000  506.000000  506.000000  506.000000   \n",
              "mean     3.613524   11.363636   11.136779    0.069170    0.554695    6.284634   \n",
              "std      8.601545   23.322453    6.860353    0.253994    0.115878    0.702617   \n",
              "min      0.006320    0.000000    0.460000    0.000000    0.385000    3.561000   \n",
              "25%      0.082045    0.000000    5.190000    0.000000    0.449000    5.885500   \n",
              "50%      0.256510    0.000000    9.690000    0.000000    0.538000    6.208500   \n",
              "75%      3.677083   12.500000   18.100000    0.000000    0.624000    6.623500   \n",
              "max     88.976200  100.000000   27.740000    1.000000    0.871000    8.780000   \n",
              "\n",
              "               6           7           8           9           10          11  \\\n",
              "count  506.000000  506.000000  506.000000  506.000000  506.000000  506.000000   \n",
              "mean    68.574901    3.795043    9.549407  408.237154   18.455534  356.674032   \n",
              "std     28.148861    2.105710    8.707259  168.537116    2.164946   91.294864   \n",
              "min      2.900000    1.129600    1.000000  187.000000   12.600000    0.320000   \n",
              "25%     45.025000    2.100175    4.000000  279.000000   17.400000  375.377500   \n",
              "50%     77.500000    3.207450    5.000000  330.000000   19.050000  391.440000   \n",
              "75%     94.075000    5.188425   24.000000  666.000000   20.200000  396.225000   \n",
              "max    100.000000   12.126500   24.000000  711.000000   22.000000  396.900000   \n",
              "\n",
              "               12          13  \n",
              "count  506.000000  506.000000  \n",
              "mean    12.653063   22.532806  \n",
              "std      7.141062    9.197104  \n",
              "min      1.730000    5.000000  \n",
              "25%      6.950000   17.025000  \n",
              "50%     11.360000   21.200000  \n",
              "75%     16.955000   25.000000  \n",
              "max     37.970000   50.000000  "
            ],
            "text/html": [
              "\n",
              "  <div id=\"df-c6b0e19d-b682-4fc9-bff4-2ee9c4fdd287\">\n",
              "    <div class=\"colab-df-container\">\n",
              "      <div>\n",
              "<style scoped>\n",
              "    .dataframe tbody tr th:only-of-type {\n",
              "        vertical-align: middle;\n",
              "    }\n",
              "\n",
              "    .dataframe tbody tr th {\n",
              "        vertical-align: top;\n",
              "    }\n",
              "\n",
              "    .dataframe thead th {\n",
              "        text-align: right;\n",
              "    }\n",
              "</style>\n",
              "<table border=\"1\" class=\"dataframe\">\n",
              "  <thead>\n",
              "    <tr style=\"text-align: right;\">\n",
              "      <th></th>\n",
              "      <th>0</th>\n",
              "      <th>1</th>\n",
              "      <th>2</th>\n",
              "      <th>3</th>\n",
              "      <th>4</th>\n",
              "      <th>5</th>\n",
              "      <th>6</th>\n",
              "      <th>7</th>\n",
              "      <th>8</th>\n",
              "      <th>9</th>\n",
              "      <th>10</th>\n",
              "      <th>11</th>\n",
              "      <th>12</th>\n",
              "      <th>13</th>\n",
              "    </tr>\n",
              "  </thead>\n",
              "  <tbody>\n",
              "    <tr>\n",
              "      <th>count</th>\n",
              "      <td>506.000000</td>\n",
              "      <td>506.000000</td>\n",
              "      <td>506.000000</td>\n",
              "      <td>506.000000</td>\n",
              "      <td>506.000000</td>\n",
              "      <td>506.000000</td>\n",
              "      <td>506.000000</td>\n",
              "      <td>506.000000</td>\n",
              "      <td>506.000000</td>\n",
              "      <td>506.000000</td>\n",
              "      <td>506.000000</td>\n",
              "      <td>506.000000</td>\n",
              "      <td>506.000000</td>\n",
              "      <td>506.000000</td>\n",
              "    </tr>\n",
              "    <tr>\n",
              "      <th>mean</th>\n",
              "      <td>3.613524</td>\n",
              "      <td>11.363636</td>\n",
              "      <td>11.136779</td>\n",
              "      <td>0.069170</td>\n",
              "      <td>0.554695</td>\n",
              "      <td>6.284634</td>\n",
              "      <td>68.574901</td>\n",
              "      <td>3.795043</td>\n",
              "      <td>9.549407</td>\n",
              "      <td>408.237154</td>\n",
              "      <td>18.455534</td>\n",
              "      <td>356.674032</td>\n",
              "      <td>12.653063</td>\n",
              "      <td>22.532806</td>\n",
              "    </tr>\n",
              "    <tr>\n",
              "      <th>std</th>\n",
              "      <td>8.601545</td>\n",
              "      <td>23.322453</td>\n",
              "      <td>6.860353</td>\n",
              "      <td>0.253994</td>\n",
              "      <td>0.115878</td>\n",
              "      <td>0.702617</td>\n",
              "      <td>28.148861</td>\n",
              "      <td>2.105710</td>\n",
              "      <td>8.707259</td>\n",
              "      <td>168.537116</td>\n",
              "      <td>2.164946</td>\n",
              "      <td>91.294864</td>\n",
              "      <td>7.141062</td>\n",
              "      <td>9.197104</td>\n",
              "    </tr>\n",
              "    <tr>\n",
              "      <th>min</th>\n",
              "      <td>0.006320</td>\n",
              "      <td>0.000000</td>\n",
              "      <td>0.460000</td>\n",
              "      <td>0.000000</td>\n",
              "      <td>0.385000</td>\n",
              "      <td>3.561000</td>\n",
              "      <td>2.900000</td>\n",
              "      <td>1.129600</td>\n",
              "      <td>1.000000</td>\n",
              "      <td>187.000000</td>\n",
              "      <td>12.600000</td>\n",
              "      <td>0.320000</td>\n",
              "      <td>1.730000</td>\n",
              "      <td>5.000000</td>\n",
              "    </tr>\n",
              "    <tr>\n",
              "      <th>25%</th>\n",
              "      <td>0.082045</td>\n",
              "      <td>0.000000</td>\n",
              "      <td>5.190000</td>\n",
              "      <td>0.000000</td>\n",
              "      <td>0.449000</td>\n",
              "      <td>5.885500</td>\n",
              "      <td>45.025000</td>\n",
              "      <td>2.100175</td>\n",
              "      <td>4.000000</td>\n",
              "      <td>279.000000</td>\n",
              "      <td>17.400000</td>\n",
              "      <td>375.377500</td>\n",
              "      <td>6.950000</td>\n",
              "      <td>17.025000</td>\n",
              "    </tr>\n",
              "    <tr>\n",
              "      <th>50%</th>\n",
              "      <td>0.256510</td>\n",
              "      <td>0.000000</td>\n",
              "      <td>9.690000</td>\n",
              "      <td>0.000000</td>\n",
              "      <td>0.538000</td>\n",
              "      <td>6.208500</td>\n",
              "      <td>77.500000</td>\n",
              "      <td>3.207450</td>\n",
              "      <td>5.000000</td>\n",
              "      <td>330.000000</td>\n",
              "      <td>19.050000</td>\n",
              "      <td>391.440000</td>\n",
              "      <td>11.360000</td>\n",
              "      <td>21.200000</td>\n",
              "    </tr>\n",
              "    <tr>\n",
              "      <th>75%</th>\n",
              "      <td>3.677083</td>\n",
              "      <td>12.500000</td>\n",
              "      <td>18.100000</td>\n",
              "      <td>0.000000</td>\n",
              "      <td>0.624000</td>\n",
              "      <td>6.623500</td>\n",
              "      <td>94.075000</td>\n",
              "      <td>5.188425</td>\n",
              "      <td>24.000000</td>\n",
              "      <td>666.000000</td>\n",
              "      <td>20.200000</td>\n",
              "      <td>396.225000</td>\n",
              "      <td>16.955000</td>\n",
              "      <td>25.000000</td>\n",
              "    </tr>\n",
              "    <tr>\n",
              "      <th>max</th>\n",
              "      <td>88.976200</td>\n",
              "      <td>100.000000</td>\n",
              "      <td>27.740000</td>\n",
              "      <td>1.000000</td>\n",
              "      <td>0.871000</td>\n",
              "      <td>8.780000</td>\n",
              "      <td>100.000000</td>\n",
              "      <td>12.126500</td>\n",
              "      <td>24.000000</td>\n",
              "      <td>711.000000</td>\n",
              "      <td>22.000000</td>\n",
              "      <td>396.900000</td>\n",
              "      <td>37.970000</td>\n",
              "      <td>50.000000</td>\n",
              "    </tr>\n",
              "  </tbody>\n",
              "</table>\n",
              "</div>\n",
              "      <button class=\"colab-df-convert\" onclick=\"convertToInteractive('df-c6b0e19d-b682-4fc9-bff4-2ee9c4fdd287')\"\n",
              "              title=\"Convert this dataframe to an interactive table.\"\n",
              "              style=\"display:none;\">\n",
              "        \n",
              "  <svg xmlns=\"http://www.w3.org/2000/svg\" height=\"24px\"viewBox=\"0 0 24 24\"\n",
              "       width=\"24px\">\n",
              "    <path d=\"M0 0h24v24H0V0z\" fill=\"none\"/>\n",
              "    <path d=\"M18.56 5.44l.94 2.06.94-2.06 2.06-.94-2.06-.94-.94-2.06-.94 2.06-2.06.94zm-11 1L8.5 8.5l.94-2.06 2.06-.94-2.06-.94L8.5 2.5l-.94 2.06-2.06.94zm10 10l.94 2.06.94-2.06 2.06-.94-2.06-.94-.94-2.06-.94 2.06-2.06.94z\"/><path d=\"M17.41 7.96l-1.37-1.37c-.4-.4-.92-.59-1.43-.59-.52 0-1.04.2-1.43.59L10.3 9.45l-7.72 7.72c-.78.78-.78 2.05 0 2.83L4 21.41c.39.39.9.59 1.41.59.51 0 1.02-.2 1.41-.59l7.78-7.78 2.81-2.81c.8-.78.8-2.07 0-2.86zM5.41 20L4 18.59l7.72-7.72 1.47 1.35L5.41 20z\"/>\n",
              "  </svg>\n",
              "      </button>\n",
              "      \n",
              "  <style>\n",
              "    .colab-df-container {\n",
              "      display:flex;\n",
              "      flex-wrap:wrap;\n",
              "      gap: 12px;\n",
              "    }\n",
              "\n",
              "    .colab-df-convert {\n",
              "      background-color: #E8F0FE;\n",
              "      border: none;\n",
              "      border-radius: 50%;\n",
              "      cursor: pointer;\n",
              "      display: none;\n",
              "      fill: #1967D2;\n",
              "      height: 32px;\n",
              "      padding: 0 0 0 0;\n",
              "      width: 32px;\n",
              "    }\n",
              "\n",
              "    .colab-df-convert:hover {\n",
              "      background-color: #E2EBFA;\n",
              "      box-shadow: 0px 1px 2px rgba(60, 64, 67, 0.3), 0px 1px 3px 1px rgba(60, 64, 67, 0.15);\n",
              "      fill: #174EA6;\n",
              "    }\n",
              "\n",
              "    [theme=dark] .colab-df-convert {\n",
              "      background-color: #3B4455;\n",
              "      fill: #D2E3FC;\n",
              "    }\n",
              "\n",
              "    [theme=dark] .colab-df-convert:hover {\n",
              "      background-color: #434B5C;\n",
              "      box-shadow: 0px 1px 3px 1px rgba(0, 0, 0, 0.15);\n",
              "      filter: drop-shadow(0px 1px 2px rgba(0, 0, 0, 0.3));\n",
              "      fill: #FFFFFF;\n",
              "    }\n",
              "  </style>\n",
              "\n",
              "      <script>\n",
              "        const buttonEl =\n",
              "          document.querySelector('#df-c6b0e19d-b682-4fc9-bff4-2ee9c4fdd287 button.colab-df-convert');\n",
              "        buttonEl.style.display =\n",
              "          google.colab.kernel.accessAllowed ? 'block' : 'none';\n",
              "\n",
              "        async function convertToInteractive(key) {\n",
              "          const element = document.querySelector('#df-c6b0e19d-b682-4fc9-bff4-2ee9c4fdd287');\n",
              "          const dataTable =\n",
              "            await google.colab.kernel.invokeFunction('convertToInteractive',\n",
              "                                                     [key], {});\n",
              "          if (!dataTable) return;\n",
              "\n",
              "          const docLinkHtml = 'Like what you see? Visit the ' +\n",
              "            '<a target=\"_blank\" href=https://colab.research.google.com/notebooks/data_table.ipynb>data table notebook</a>'\n",
              "            + ' to learn more about interactive tables.';\n",
              "          element.innerHTML = '';\n",
              "          dataTable['output_type'] = 'display_data';\n",
              "          await google.colab.output.renderOutput(dataTable, element);\n",
              "          const docLink = document.createElement('div');\n",
              "          docLink.innerHTML = docLinkHtml;\n",
              "          element.appendChild(docLink);\n",
              "        }\n",
              "      </script>\n",
              "    </div>\n",
              "  </div>\n",
              "  "
            ]
          },
          "metadata": {},
          "execution_count": 5
        }
      ]
    },
    {
      "cell_type": "code",
      "metadata": {
        "id": "OnzyznIeXaVz",
        "colab": {
          "base_uri": "https://localhost:8080/"
        },
        "outputId": "fee2e46a-95f4-4d96-ea6e-9119aa530915"
      },
      "source": [
        "feature_names = ['CRIM', 'ZN', 'INDUS', 'CHAS', 'NOX', 'RM', 'AGE', \n",
        "                 'DIS', 'RAD', 'TAX', 'PTRATIO', 'B', 'LSTAT', 'PRICE']\n",
        "\n",
        "\n",
        "df.columns = feature_names\n",
        "print(df.head())\n",
        "\n",
        "#df = df.rename(columns={'MEDV': 'PRICE'})\n",
        "print(df.describe().T)"
      ],
      "execution_count": 6,
      "outputs": [
        {
          "output_type": "stream",
          "name": "stdout",
          "text": [
            "      CRIM    ZN  INDUS  CHAS    NOX     RM   AGE     DIS  RAD    TAX  \\\n",
            "0  0.00632  18.0   2.31     0  0.538  6.575  65.2  4.0900    1  296.0   \n",
            "1  0.02731   0.0   7.07     0  0.469  6.421  78.9  4.9671    2  242.0   \n",
            "2  0.02729   0.0   7.07     0  0.469  7.185  61.1  4.9671    2  242.0   \n",
            "3  0.03237   0.0   2.18     0  0.458  6.998  45.8  6.0622    3  222.0   \n",
            "4  0.06905   0.0   2.18     0  0.458  7.147  54.2  6.0622    3  222.0   \n",
            "\n",
            "   PTRATIO       B  LSTAT  PRICE  \n",
            "0     15.3  396.90   4.98   24.0  \n",
            "1     17.8  396.90   9.14   21.6  \n",
            "2     17.8  392.83   4.03   34.7  \n",
            "3     18.7  394.63   2.94   33.4  \n",
            "4     18.7  396.90   5.33   36.2  \n",
            "         count        mean         std        min         25%        50%  \\\n",
            "CRIM     506.0    3.613524    8.601545    0.00632    0.082045    0.25651   \n",
            "ZN       506.0   11.363636   23.322453    0.00000    0.000000    0.00000   \n",
            "INDUS    506.0   11.136779    6.860353    0.46000    5.190000    9.69000   \n",
            "CHAS     506.0    0.069170    0.253994    0.00000    0.000000    0.00000   \n",
            "NOX      506.0    0.554695    0.115878    0.38500    0.449000    0.53800   \n",
            "RM       506.0    6.284634    0.702617    3.56100    5.885500    6.20850   \n",
            "AGE      506.0   68.574901   28.148861    2.90000   45.025000   77.50000   \n",
            "DIS      506.0    3.795043    2.105710    1.12960    2.100175    3.20745   \n",
            "RAD      506.0    9.549407    8.707259    1.00000    4.000000    5.00000   \n",
            "TAX      506.0  408.237154  168.537116  187.00000  279.000000  330.00000   \n",
            "PTRATIO  506.0   18.455534    2.164946   12.60000   17.400000   19.05000   \n",
            "B        506.0  356.674032   91.294864    0.32000  375.377500  391.44000   \n",
            "LSTAT    506.0   12.653063    7.141062    1.73000    6.950000   11.36000   \n",
            "PRICE    506.0   22.532806    9.197104    5.00000   17.025000   21.20000   \n",
            "\n",
            "                75%       max  \n",
            "CRIM       3.677083   88.9762  \n",
            "ZN        12.500000  100.0000  \n",
            "INDUS     18.100000   27.7400  \n",
            "CHAS       0.000000    1.0000  \n",
            "NOX        0.624000    0.8710  \n",
            "RM         6.623500    8.7800  \n",
            "AGE       94.075000  100.0000  \n",
            "DIS        5.188425   12.1265  \n",
            "RAD       24.000000   24.0000  \n",
            "TAX      666.000000  711.0000  \n",
            "PTRATIO   20.200000   22.0000  \n",
            "B        396.225000  396.9000  \n",
            "LSTAT     16.955000   37.9700  \n",
            "PRICE     25.000000   50.0000  \n"
          ]
        }
      ]
    },
    {
      "cell_type": "code",
      "metadata": {
        "colab": {
          "base_uri": "https://localhost:8080/",
          "height": 334
        },
        "id": "zfyIBr17E7_x",
        "outputId": "c70cb493-95a8-4ded-ce88-42ceec4279ed"
      },
      "source": [
        "fig, ax =plt.subplots(1,3, figsize=(15, 5))\n",
        "sns.histplot(df['PRICE'], ax=ax[0])\n",
        "sns.histplot(df['AGE'], ax=ax[1])\n",
        "sns.histplot(df['TAX'], ax=ax[2])\n",
        "\n",
        "fig.show()"
      ],
      "execution_count": 7,
      "outputs": [
        {
          "output_type": "display_data",
          "data": {
            "text/plain": [
              "<Figure size 1080x360 with 3 Axes>"
            ],
            "image/png": "[encoded data removed]"
          },
          "metadata": {
            "needs_background": "light"
          }
        }
      ]
    },
    {
      "cell_type": "code",
      "metadata": {
        "colab": {
          "base_uri": "https://localhost:8080/",
          "height": 334
        },
        "id": "lXpw5Ng-Fq45",
        "outputId": "7fd0e3a9-345f-4c04-9128-0be761d9d6ba"
      },
      "source": [
        "#Understand the data further. \n",
        "fig, ax =plt.subplots(1,3, figsize=(15, 5))\n",
        "sns.lineplot(x=df['AGE'], y=df['PRICE'], ax=ax[0])\n",
        "sns.lineplot(x=df['TAX'], y=df['PRICE'], ax=ax[1])\n",
        "sns.lineplot(x=df['B'], y=df['PRICE'], ax=ax[2])\n",
        "\n",
        "\n",
        "fig.show()"
      ],
      "execution_count": 8,
      "outputs": [
        {
          "output_type": "display_data",
          "data": {
            "text/plain": [
              "<Figure size 1080x360 with 3 Axes>"
            ],
            "image/png": "[encoded data removed]"
          },
          "metadata": {
            "needs_background": "light"
          }
        }
      ]
    },
    {
      "cell_type": "code",
      "metadata": {
        "colab": {
          "base_uri": "https://localhost:8080/"
        },
        "id": "ExrbTajDGUaR",
        "outputId": "c1a8201c-9554-4162-e98c-814ba4e9594e"
      },
      "source": [
        "#Any strong correlation between attributes?\n",
        "corr = df.corr()\n",
        "corr_unstacked = corr.unstack()\n",
        "corr_unstacked_sorted = corr_unstacked.sort_values(kind=\"quicksort\", ascending=False)\n",
        "corr_df=pd.Series.to_frame(corr_unstacked_sorted, name='correlation')  #Convert Series to DataFrame and name correlation column accordingly. \n",
        "high_corr_features =  corr_df[corr_df.correlation != 1]  #Remove all 1s that correspond to self correlation\n",
        "print(high_corr_features.head(30))"
      ],
      "execution_count": 9,
      "outputs": [
        {
          "output_type": "stream",
          "name": "stdout",
          "text": [
            "             correlation\n",
            "RAD   TAX       0.910228\n",
            "TAX   RAD       0.910228\n",
            "INDUS NOX       0.763651\n",
            "NOX   INDUS     0.763651\n",
            "      AGE       0.731470\n",
            "AGE   NOX       0.731470\n",
            "TAX   INDUS     0.720760\n",
            "INDUS TAX       0.720760\n",
            "RM    PRICE     0.695360\n",
            "PRICE RM        0.695360\n",
            "TAX   NOX       0.668023\n",
            "NOX   TAX       0.668023\n",
            "ZN    DIS       0.664408\n",
            "DIS   ZN        0.664408\n",
            "AGE   INDUS     0.644779\n",
            "INDUS AGE       0.644779\n",
            "CRIM  RAD       0.625505\n",
            "RAD   CRIM      0.625505\n",
            "      NOX       0.611441\n",
            "NOX   RAD       0.611441\n",
            "LSTAT INDUS     0.603800\n",
            "INDUS LSTAT     0.603800\n",
            "LSTAT AGE       0.602339\n",
            "AGE   LSTAT     0.602339\n",
            "INDUS RAD       0.595129\n",
            "RAD   INDUS     0.595129\n",
            "NOX   LSTAT     0.590879\n",
            "LSTAT NOX       0.590879\n",
            "TAX   CRIM      0.582764\n",
            "CRIM  TAX       0.582764\n"
          ]
        }
      ]
    },
    {
      "cell_type": "code",
      "metadata": {
        "colab": {
          "base_uri": "https://localhost:8080/"
        },
        "id": "pjHOYk3uGsMx",
        "outputId": "a8ba3e09-e9d8-4b56-e1a5-a145d6c74526"
      },
      "source": [
        "print(df.isnull().sum())\n",
        "#df = df.dropna()"
      ],
      "execution_count": 10,
      "outputs": [
        {
          "output_type": "stream",
          "name": "stdout",
          "text": [
            "CRIM       0\n",
            "ZN         0\n",
            "INDUS      0\n",
            "CHAS       0\n",
            "NOX        0\n",
            "RM         0\n",
            "AGE        0\n",
            "DIS        0\n",
            "RAD        0\n",
            "TAX        0\n",
            "PTRATIO    0\n",
            "B          0\n",
            "LSTAT      0\n",
            "PRICE      0\n",
            "dtype: int64\n"
          ]
        }
      ]
    },
    {
      "cell_type": "code",
      "metadata": {
        "id": "TU6AE-61XbA3"
      },
      "source": [
        "#Split into features and target (Price)\n",
        "X = df.drop('PRICE', axis = 1)\n",
        "y = df['PRICE']\n",
        "\n",
        "X_train, X_test, y_train, y_test = train_test_split(X, y, test_size = 0.2, random_state = 20)\n",
        "\n"
      ],
      "execution_count": 11,
      "outputs": []
    },
    {
      "cell_type": "code",
      "metadata": {
        "id": "KOajsnJPXdWb"
      },
      "source": [
        "#Scale data, otherwise model will fail.\n",
        "#Standardize features by removing the mean and scaling to unit variance\n",
        "from sklearn.preprocessing import StandardScaler\n",
        "scaler=StandardScaler()\n",
        "scaler.fit(X_train)\n",
        "\n",
        "X_train_scaled = scaler.transform(X_train)\n",
        "X_test_scaled = scaler.transform(X_test)\n"
      ],
      "execution_count": 12,
      "outputs": []
    },
    {
      "cell_type": "code",
      "metadata": {
        "id": "NAxSVZ6BXfXP",
        "colab": {
          "base_uri": "https://localhost:8080/"
        },
        "outputId": "fb7e7f66-1f4f-47e8-8418-62f48d6a03ff"
      },
      "source": [
        "# define the model\n",
        "#Experiment with deeper and wider networks\n",
        "model = Sequential()\n",
        "model.add(Dense(128, input_dim=13, activation='relu'))\n",
        "model.add(Dropout(0.2))\n",
        "model.add(Dense(64, activation='relu'))\n",
        "model.add(Dropout(0.2))\n",
        "#Output layer\n",
        "model.add(Dense(1, activation='linear'))\n",
        "\n",
        "model.compile(loss='mean_squared_error', optimizer='adam', metrics=['mae'])\n",
        "model.summary()"
      ],
      "execution_count": 24,
      "outputs": [
        {
          "output_type": "stream",
          "name": "stdout",
          "text": [
            "Model: \"sequential_3\"\n",
            "_________________________________________________________________\n",
            " Layer (type)                Output Shape              Param #   \n",
            "=================================================================\n",
            " dense_6 (Dense)             (None, 128)               1792      \n",
            "                                                                 \n",
            " dropout_1 (Dropout)         (None, 128)               0         \n",
            "                                                                 \n",
            " dense_7 (Dense)             (None, 64)                8256      \n",
            "                                                                 \n",
            " dropout_2 (Dropout)         (None, 64)                0         \n",
            "                                                                 \n",
            " dense_8 (Dense)             (None, 1)                 65        \n",
            "                                                                 \n",
            "=================================================================\n",
            "Total params: 10,113\n",
            "Trainable params: 10,113\n",
            "Non-trainable params: 0\n",
            "_________________________________________________________________\n"
          ]
        }
      ]
    },
    {
      "cell_type": "code",
      "metadata": {
        "id": "L2Pm9SkMXrbn",
        "colab": {
          "base_uri": "https://localhost:8080/"
        },
        "outputId": "1056b451-ff1b-43af-ccd4-54a096428c3b"
      },
      "source": [
        "history = model.fit(X_train_scaled, y_train, epochs =100, validation_data=(X_test_scaled, y_test))"
      ],
      "execution_count": 25,
      "outputs": [
        {
          "output_type": "stream",
          "name": "stdout",
          "text": [
            "Epoch 1/100\n",
            "13/13 [==============================] - 1s 17ms/step - loss: 574.9650 - mae: 22.1196 - val_loss: 466.9522 - val_mae: 20.1333\n",
            "Epoch 2/100\n",
            "13/13 [==============================] - 0s 6ms/step - loss: 493.0899 - mae: 20.2322 - val_loss: 388.5090 - val_mae: 18.1653\n",
            "Epoch 3/100\n",
            "13/13 [==============================] - 0s 7ms/step - loss: 388.4632 - mae: 17.6822 - val_loss: 281.6565 - val_mae: 15.2278\n",
            "Epoch 4/100\n",
            "13/13 [==============================] - 0s 6ms/step - loss: 256.7812 - mae: 13.7611 - val_loss: 159.5880 - val_mae: 11.0730\n",
            "Epoch 5/100\n",
            "13/13 [==============================] - 0s 7ms/step - loss: 131.6249 - mae: 9.1199 - val_loss: 74.6368 - val_mae: 7.2412\n",
            "Epoch 6/100\n",
            "13/13 [==============================] - 0s 7ms/step - loss: 80.9914 - mae: 6.8408 - val_loss: 44.8950 - val_mae: 5.3691\n",
            "Epoch 7/100\n",
            "13/13 [==============================] - 0s 7ms/step - loss: 58.4814 - mae: 5.8159 - val_loss: 31.3134 - val_mae: 4.5454\n",
            "Epoch 8/100\n",
            "13/13 [==============================] - 0s 7ms/step - loss: 44.6859 - mae: 4.9152 - val_loss: 23.9896 - val_mae: 3.9778\n",
            "Epoch 9/100\n",
            "13/13 [==============================] - 0s 7ms/step - loss: 37.0870 - mae: 4.5701 - val_loss: 20.4379 - val_mae: 3.5971\n",
            "Epoch 10/100\n",
            "13/13 [==============================] - 0s 7ms/step - loss: 33.3316 - mae: 4.2910 - val_loss: 18.4690 - val_mae: 3.3980\n",
            "Epoch 11/100\n",
            "13/13 [==============================] - 0s 6ms/step - loss: 30.3615 - mae: 4.0589 - val_loss: 17.4142 - val_mae: 3.2738\n",
            "Epoch 12/100\n",
            "13/13 [==============================] - 0s 6ms/step - loss: 29.5296 - mae: 3.9361 - val_loss: 16.8887 - val_mae: 3.2113\n",
            "Epoch 13/100\n",
            "13/13 [==============================] - 0s 7ms/step - loss: 28.6310 - mae: 3.8761 - val_loss: 16.4679 - val_mae: 3.1519\n",
            "Epoch 14/100\n",
            "13/13 [==============================] - 0s 8ms/step - loss: 28.0860 - mae: 3.8882 - val_loss: 16.0102 - val_mae: 3.0954\n",
            "Epoch 15/100\n",
            "13/13 [==============================] - 0s 6ms/step - loss: 26.0190 - mae: 3.7081 - val_loss: 15.5482 - val_mae: 3.0135\n",
            "Epoch 16/100\n",
            "13/13 [==============================] - 0s 7ms/step - loss: 25.1401 - mae: 3.5670 - val_loss: 15.2051 - val_mae: 2.9672\n",
            "Epoch 17/100\n",
            "13/13 [==============================] - 0s 7ms/step - loss: 24.3257 - mae: 3.5375 - val_loss: 15.0518 - val_mae: 2.9856\n",
            "Epoch 18/100\n",
            "13/13 [==============================] - 0s 6ms/step - loss: 24.6935 - mae: 3.5459 - val_loss: 14.5977 - val_mae: 2.9291\n",
            "Epoch 19/100\n",
            "13/13 [==============================] - 0s 7ms/step - loss: 24.8919 - mae: 3.6180 - val_loss: 14.4652 - val_mae: 2.9041\n",
            "Epoch 20/100\n",
            "13/13 [==============================] - 0s 6ms/step - loss: 23.7353 - mae: 3.5213 - val_loss: 14.3757 - val_mae: 2.8788\n",
            "Epoch 21/100\n",
            "13/13 [==============================] - 0s 6ms/step - loss: 23.7543 - mae: 3.5297 - val_loss: 14.2226 - val_mae: 2.8704\n",
            "Epoch 22/100\n",
            "13/13 [==============================] - 0s 6ms/step - loss: 23.2897 - mae: 3.6175 - val_loss: 14.2337 - val_mae: 2.8815\n",
            "Epoch 23/100\n",
            "13/13 [==============================] - 0s 6ms/step - loss: 23.3903 - mae: 3.3931 - val_loss: 13.8541 - val_mae: 2.8068\n",
            "Epoch 24/100\n",
            "13/13 [==============================] - 0s 6ms/step - loss: 22.8566 - mae: 3.4654 - val_loss: 13.7453 - val_mae: 2.7942\n",
            "Epoch 25/100\n",
            "13/13 [==============================] - 0s 7ms/step - loss: 19.2231 - mae: 3.2702 - val_loss: 13.8934 - val_mae: 2.8299\n",
            "Epoch 26/100\n",
            "13/13 [==============================] - 0s 7ms/step - loss: 18.8294 - mae: 3.1770 - val_loss: 13.7538 - val_mae: 2.8232\n",
            "Epoch 27/100\n",
            "13/13 [==============================] - 0s 7ms/step - loss: 20.9567 - mae: 3.3268 - val_loss: 13.6178 - val_mae: 2.8064\n",
            "Epoch 28/100\n",
            "13/13 [==============================] - 0s 6ms/step - loss: 18.9062 - mae: 3.1051 - val_loss: 13.7361 - val_mae: 2.7993\n",
            "Epoch 29/100\n",
            "13/13 [==============================] - 0s 6ms/step - loss: 18.7916 - mae: 3.1654 - val_loss: 13.5902 - val_mae: 2.7918\n",
            "Epoch 30/100\n",
            "13/13 [==============================] - 0s 6ms/step - loss: 18.9345 - mae: 3.1891 - val_loss: 13.5086 - val_mae: 2.7991\n",
            "Epoch 31/100\n",
            "13/13 [==============================] - 0s 7ms/step - loss: 17.4745 - mae: 3.1424 - val_loss: 13.6616 - val_mae: 2.8184\n",
            "Epoch 32/100\n",
            "13/13 [==============================] - 0s 7ms/step - loss: 19.0217 - mae: 3.1606 - val_loss: 13.5560 - val_mae: 2.7433\n",
            "Epoch 33/100\n",
            "13/13 [==============================] - 0s 7ms/step - loss: 20.5273 - mae: 3.3852 - val_loss: 13.7343 - val_mae: 2.8341\n",
            "Epoch 34/100\n",
            "13/13 [==============================] - 0s 7ms/step - loss: 19.1176 - mae: 3.1486 - val_loss: 13.4235 - val_mae: 2.8041\n",
            "Epoch 35/100\n",
            "13/13 [==============================] - 0s 7ms/step - loss: 17.3220 - mae: 2.9670 - val_loss: 13.2440 - val_mae: 2.7727\n",
            "Epoch 36/100\n",
            "13/13 [==============================] - 0s 7ms/step - loss: 18.0696 - mae: 3.1680 - val_loss: 13.2615 - val_mae: 2.7911\n",
            "Epoch 37/100\n",
            "13/13 [==============================] - 0s 6ms/step - loss: 20.0327 - mae: 3.2052 - val_loss: 13.2012 - val_mae: 2.7338\n",
            "Epoch 38/100\n",
            "13/13 [==============================] - 0s 8ms/step - loss: 17.7510 - mae: 3.0985 - val_loss: 13.2036 - val_mae: 2.7325\n",
            "Epoch 39/100\n",
            "13/13 [==============================] - 0s 7ms/step - loss: 18.2737 - mae: 3.1044 - val_loss: 13.4539 - val_mae: 2.8252\n",
            "Epoch 40/100\n",
            "13/13 [==============================] - 0s 8ms/step - loss: 19.6013 - mae: 3.2111 - val_loss: 13.1981 - val_mae: 2.7598\n",
            "Epoch 41/100\n",
            "13/13 [==============================] - 0s 6ms/step - loss: 17.5766 - mae: 3.0527 - val_loss: 13.2664 - val_mae: 2.7160\n",
            "Epoch 42/100\n",
            "13/13 [==============================] - 0s 6ms/step - loss: 16.7151 - mae: 3.0877 - val_loss: 13.1650 - val_mae: 2.7531\n",
            "Epoch 43/100\n",
            "13/13 [==============================] - 0s 7ms/step - loss: 14.8879 - mae: 2.9054 - val_loss: 12.8560 - val_mae: 2.7023\n",
            "Epoch 44/100\n",
            "13/13 [==============================] - 0s 6ms/step - loss: 16.4793 - mae: 3.1029 - val_loss: 13.1490 - val_mae: 2.7817\n",
            "Epoch 45/100\n",
            "13/13 [==============================] - 0s 8ms/step - loss: 17.3997 - mae: 3.0376 - val_loss: 12.9294 - val_mae: 2.7447\n",
            "Epoch 46/100\n",
            "13/13 [==============================] - 0s 6ms/step - loss: 16.5981 - mae: 3.0722 - val_loss: 13.2566 - val_mae: 2.7566\n",
            "Epoch 47/100\n",
            "13/13 [==============================] - 0s 7ms/step - loss: 16.7634 - mae: 3.0411 - val_loss: 13.0702 - val_mae: 2.7463\n",
            "Epoch 48/100\n",
            "13/13 [==============================] - 0s 6ms/step - loss: 16.1895 - mae: 2.8945 - val_loss: 13.1688 - val_mae: 2.7790\n",
            "Epoch 49/100\n",
            "13/13 [==============================] - 0s 6ms/step - loss: 17.0611 - mae: 3.0877 - val_loss: 12.9609 - val_mae: 2.7503\n",
            "Epoch 50/100\n",
            "13/13 [==============================] - 0s 6ms/step - loss: 16.8371 - mae: 2.9855 - val_loss: 12.9779 - val_mae: 2.7415\n",
            "Epoch 51/100\n",
            "13/13 [==============================] - 0s 6ms/step - loss: 17.0807 - mae: 2.9960 - val_loss: 13.0284 - val_mae: 2.7311\n",
            "Epoch 52/100\n",
            "13/13 [==============================] - 0s 8ms/step - loss: 15.5365 - mae: 2.9869 - val_loss: 12.9357 - val_mae: 2.7292\n",
            "Epoch 53/100\n",
            "13/13 [==============================] - 0s 8ms/step - loss: 16.8353 - mae: 3.0331 - val_loss: 13.1033 - val_mae: 2.7521\n",
            "Epoch 54/100\n",
            "13/13 [==============================] - 0s 7ms/step - loss: 16.9462 - mae: 3.0038 - val_loss: 12.8491 - val_mae: 2.7173\n",
            "Epoch 55/100\n",
            "13/13 [==============================] - 0s 6ms/step - loss: 15.8110 - mae: 2.9126 - val_loss: 13.0915 - val_mae: 2.7933\n",
            "Epoch 56/100\n",
            "13/13 [==============================] - 0s 7ms/step - loss: 19.1915 - mae: 3.2314 - val_loss: 12.7348 - val_mae: 2.7004\n",
            "Epoch 57/100\n",
            "13/13 [==============================] - 0s 6ms/step - loss: 16.5311 - mae: 2.9693 - val_loss: 12.8576 - val_mae: 2.7010\n",
            "Epoch 58/100\n",
            "13/13 [==============================] - 0s 6ms/step - loss: 15.6854 - mae: 3.0237 - val_loss: 13.0037 - val_mae: 2.7367\n",
            "Epoch 59/100\n",
            "13/13 [==============================] - 0s 8ms/step - loss: 16.7074 - mae: 2.9644 - val_loss: 12.8453 - val_mae: 2.7061\n",
            "Epoch 60/100\n",
            "13/13 [==============================] - 0s 7ms/step - loss: 15.4071 - mae: 3.0056 - val_loss: 12.9631 - val_mae: 2.7173\n",
            "Epoch 61/100\n",
            "13/13 [==============================] - 0s 7ms/step - loss: 14.1315 - mae: 2.7230 - val_loss: 12.8676 - val_mae: 2.7209\n",
            "Epoch 62/100\n",
            "13/13 [==============================] - 0s 6ms/step - loss: 18.1567 - mae: 3.1261 - val_loss: 12.9601 - val_mae: 2.7233\n",
            "Epoch 63/100\n",
            "13/13 [==============================] - 0s 7ms/step - loss: 16.0170 - mae: 2.9674 - val_loss: 12.9845 - val_mae: 2.7248\n",
            "Epoch 64/100\n",
            "13/13 [==============================] - 0s 7ms/step - loss: 15.1451 - mae: 2.8525 - val_loss: 12.8586 - val_mae: 2.7135\n",
            "Epoch 65/100\n",
            "13/13 [==============================] - 0s 6ms/step - loss: 17.4295 - mae: 3.0372 - val_loss: 13.1918 - val_mae: 2.7413\n",
            "Epoch 66/100\n",
            "13/13 [==============================] - 0s 8ms/step - loss: 16.0568 - mae: 3.0961 - val_loss: 13.2116 - val_mae: 2.7291\n",
            "Epoch 67/100\n",
            "13/13 [==============================] - 0s 6ms/step - loss: 16.0622 - mae: 3.0319 - val_loss: 13.5269 - val_mae: 2.7664\n",
            "Epoch 68/100\n",
            "13/13 [==============================] - 0s 7ms/step - loss: 15.9437 - mae: 2.9702 - val_loss: 13.0304 - val_mae: 2.7056\n",
            "Epoch 69/100\n",
            "13/13 [==============================] - 0s 7ms/step - loss: 16.0156 - mae: 2.9441 - val_loss: 13.3857 - val_mae: 2.7643\n",
            "Epoch 70/100\n",
            "13/13 [==============================] - 0s 6ms/step - loss: 16.9441 - mae: 3.0376 - val_loss: 13.1380 - val_mae: 2.7053\n",
            "Epoch 71/100\n",
            "13/13 [==============================] - 0s 6ms/step - loss: 14.1948 - mae: 2.7831 - val_loss: 13.1631 - val_mae: 2.7201\n",
            "Epoch 72/100\n",
            "13/13 [==============================] - 0s 6ms/step - loss: 17.3169 - mae: 3.1145 - val_loss: 12.8148 - val_mae: 2.7027\n",
            "Epoch 73/100\n",
            "13/13 [==============================] - 0s 6ms/step - loss: 17.0452 - mae: 3.0437 - val_loss: 13.2361 - val_mae: 2.7546\n",
            "Epoch 74/100\n",
            "13/13 [==============================] - 0s 6ms/step - loss: 17.4040 - mae: 3.1369 - val_loss: 12.8794 - val_mae: 2.6972\n",
            "Epoch 75/100\n",
            "13/13 [==============================] - 0s 8ms/step - loss: 13.9487 - mae: 2.7624 - val_loss: 12.8994 - val_mae: 2.7137\n",
            "Epoch 76/100\n",
            "13/13 [==============================] - 0s 8ms/step - loss: 16.3938 - mae: 2.9235 - val_loss: 12.7223 - val_mae: 2.6902\n",
            "Epoch 77/100\n",
            "13/13 [==============================] - 0s 7ms/step - loss: 17.0025 - mae: 3.0534 - val_loss: 12.8681 - val_mae: 2.6990\n",
            "Epoch 78/100\n",
            "13/13 [==============================] - 0s 6ms/step - loss: 15.0657 - mae: 2.8214 - val_loss: 12.9970 - val_mae: 2.7517\n",
            "Epoch 79/100\n",
            "13/13 [==============================] - 0s 6ms/step - loss: 14.9023 - mae: 2.9107 - val_loss: 12.7918 - val_mae: 2.7232\n",
            "Epoch 80/100\n",
            "13/13 [==============================] - 0s 9ms/step - loss: 15.9301 - mae: 2.9347 - val_loss: 12.8172 - val_mae: 2.7094\n",
            "Epoch 81/100\n",
            "13/13 [==============================] - 0s 7ms/step - loss: 15.8414 - mae: 3.0120 - val_loss: 12.7374 - val_mae: 2.6725\n",
            "Epoch 82/100\n",
            "13/13 [==============================] - 0s 6ms/step - loss: 16.4145 - mae: 3.0296 - val_loss: 13.5668 - val_mae: 2.7565\n",
            "Epoch 83/100\n",
            "13/13 [==============================] - 0s 6ms/step - loss: 16.1730 - mae: 3.0756 - val_loss: 12.8903 - val_mae: 2.6852\n",
            "Epoch 84/100\n",
            "13/13 [==============================] - 0s 7ms/step - loss: 14.7356 - mae: 2.8866 - val_loss: 13.0137 - val_mae: 2.6863\n",
            "Epoch 85/100\n",
            "13/13 [==============================] - 0s 7ms/step - loss: 14.6705 - mae: 2.8998 - val_loss: 13.2832 - val_mae: 2.7703\n",
            "Epoch 86/100\n",
            "13/13 [==============================] - 0s 8ms/step - loss: 15.8307 - mae: 2.8605 - val_loss: 12.7484 - val_mae: 2.7011\n",
            "Epoch 87/100\n",
            "13/13 [==============================] - 0s 8ms/step - loss: 13.7372 - mae: 2.8011 - val_loss: 12.9287 - val_mae: 2.6994\n",
            "Epoch 88/100\n",
            "13/13 [==============================] - 0s 6ms/step - loss: 13.7098 - mae: 2.8226 - val_loss: 13.1855 - val_mae: 2.7076\n",
            "Epoch 89/100\n",
            "13/13 [==============================] - 0s 8ms/step - loss: 16.6385 - mae: 2.9629 - val_loss: 12.7838 - val_mae: 2.6992\n",
            "Epoch 90/100\n",
            "13/13 [==============================] - 0s 7ms/step - loss: 13.4600 - mae: 2.8450 - val_loss: 13.0346 - val_mae: 2.7387\n",
            "Epoch 91/100\n",
            "13/13 [==============================] - 0s 7ms/step - loss: 14.3942 - mae: 2.8638 - val_loss: 12.9714 - val_mae: 2.7217\n",
            "Epoch 92/100\n",
            "13/13 [==============================] - 0s 6ms/step - loss: 13.7247 - mae: 2.7800 - val_loss: 12.8659 - val_mae: 2.7183\n",
            "Epoch 93/100\n",
            "13/13 [==============================] - 0s 7ms/step - loss: 14.9874 - mae: 2.9114 - val_loss: 13.0758 - val_mae: 2.7029\n",
            "Epoch 94/100\n",
            "13/13 [==============================] - 0s 7ms/step - loss: 12.5106 - mae: 2.6841 - val_loss: 13.0799 - val_mae: 2.7024\n",
            "Epoch 95/100\n",
            "13/13 [==============================] - 0s 6ms/step - loss: 14.6234 - mae: 2.8917 - val_loss: 12.8746 - val_mae: 2.6638\n",
            "Epoch 96/100\n",
            "13/13 [==============================] - 0s 6ms/step - loss: 12.2582 - mae: 2.6538 - val_loss: 13.1849 - val_mae: 2.6747\n",
            "Epoch 97/100\n",
            "13/13 [==============================] - 0s 8ms/step - loss: 14.5835 - mae: 2.9555 - val_loss: 13.2126 - val_mae: 2.6815\n",
            "Epoch 98/100\n",
            "13/13 [==============================] - 0s 6ms/step - loss: 14.2591 - mae: 2.8405 - val_loss: 13.0922 - val_mae: 2.6883\n",
            "Epoch 99/100\n",
            "13/13 [==============================] - 0s 6ms/step - loss: 13.6254 - mae: 2.7655 - val_loss: 13.5319 - val_mae: 2.7736\n",
            "Epoch 100/100\n",
            "13/13 [==============================] - 0s 6ms/step - loss: 14.0113 - mae: 2.8227 - val_loss: 12.8756 - val_mae: 2.6983\n"
          ]
        }
      ]
    },
    {
      "cell_type": "code",
      "metadata": {
        "id": "tNuhndA-XtXj",
        "colab": {
          "base_uri": "https://localhost:8080/",
          "height": 573
        },
        "outputId": "c8fb0ff3-44f1-404d-cb4e-7c26c8401915"
      },
      "source": [
        "from matplotlib import pyplot as plt\n",
        "#plot the training and validation accuracy and loss at each epoch\n",
        "loss = history.history['loss']\n",
        "val_loss = history.history['val_loss']\n",
        "epochs = range(1, len(loss) + 1)\n",
        "plt.plot(epochs, loss, 'y', label='Training loss')\n",
        "plt.plot(epochs, val_loss, 'r', label='Validation loss')\n",
        "plt.title('Training and validation loss')\n",
        "plt.xlabel('Epochs')\n",
        "plt.ylabel('Loss')\n",
        "plt.legend()\n",
        "plt.show()\n",
        "\n",
        "\n",
        "acc = history.history['mae']\n",
        "val_acc = history.history['val_mae']\n",
        "plt.plot(epochs, acc, 'y', label='Training MAE')\n",
        "plt.plot(epochs, val_acc, 'r', label='Validation MAE')\n",
        "plt.title('Training and validation MAE')\n",
        "plt.xlabel('Epochs')\n",
        "plt.ylabel('Accuracy')\n",
        "plt.legend()\n",
        "plt.show()"
      ],
      "execution_count": 26,
      "outputs": [
        {
          "output_type": "display_data",
          "data": {
            "text/plain": [
              "<Figure size 432x288 with 1 Axes>"
            ],
            "image/png": "[encoded data removed]"
          },
          "metadata": {
            "needs_background": "light"
          }
        },
        {
          "output_type": "display_data",
          "data": {
            "text/plain": [
              "<Figure size 432x288 with 1 Axes>"
            ],
            "image/png": "[encoded data removed]"
          },
          "metadata": {
            "needs_background": "light"
          }
        }
      ]
    },
    {
      "cell_type": "code",
      "metadata": {
        "id": "ecwEBzCvXvac",
        "colab": {
          "base_uri": "https://localhost:8080/"
        },
        "outputId": "ee2a0181-1e04-40bf-a243-115a00ae879f"
      },
      "source": [
        "#Predict on test data\n",
        "predictions = model.predict(X_test_scaled[:5])\n",
        "print(\"Predicted values are: \", predictions)\n",
        "print(\"Real values are: \", y_test[:5])"
      ],
      "execution_count": 27,
      "outputs": [
        {
          "output_type": "stream",
          "name": "stdout",
          "text": [
            "Predicted values are:  [[18.474228]\n",
            " [20.209219]\n",
            " [19.769096]\n",
            " [20.537132]\n",
            " [13.612046]]\n",
            "Real values are:  498    21.2\n",
            "94     20.6\n",
            "150    21.5\n",
            "221    21.7\n",
            "423    13.4\n",
            "Name: PRICE, dtype: float64\n"
          ]
        }
      ]
    },
    {
      "cell_type": "code",
      "metadata": {
        "id": "0ptG2e3SX2y2",
        "colab": {
          "base_uri": "https://localhost:8080/"
        },
        "outputId": "6818dd0c-66c0-42e6-a77c-e69213f8681d"
      },
      "source": [
        "#Comparison with other models..\n",
        "#Neural network - from the current code\n",
        "mse_neural, mae_neural = model.evaluate(X_test_scaled, y_test)\n",
        "print('Mean squared error from neural net: ', mse_neural)\n",
        "print('Mean absolute error from neural net: ', mae_neural)"
      ],
      "execution_count": 28,
      "outputs": [
        {
          "output_type": "stream",
          "name": "stdout",
          "text": [
            "4/4 [==============================] - 0s 4ms/step - loss: 12.8756 - mae: 2.6983\n",
            "Mean squared error from neural net:  12.875588417053223\n",
            "Mean absolute error from neural net:  2.6982524394989014\n"
          ]
        }
      ]
    },
    {
      "cell_type": "code",
      "metadata": {
        "id": "aDN4loIDX3Zc",
        "colab": {
          "base_uri": "https://localhost:8080/"
        },
        "outputId": "8010168a-1f61-47a6-a69d-2d5dff6540ed"
      },
      "source": [
        "#Linear regression\n",
        "from sklearn import linear_model\n",
        "from sklearn.tree import DecisionTreeRegressor\n",
        "from sklearn.metrics import mean_squared_error, mean_absolute_error\n",
        "\n",
        "### Linear regression\n",
        "lr_model = linear_model.LinearRegression()\n",
        "lr_model.fit(X_train_scaled, y_train)\n",
        "y_pred_lr = lr_model.predict(X_test_scaled)\n",
        "mse_lr = mean_squared_error(y_test, y_pred_lr)\n",
        "mae_lr = mean_absolute_error(y_test, y_pred_lr)\n",
        "print('Mean squared error from linear regression: ', mse_lr)\n",
        "print('Mean absolute error from linear regression: ', mae_lr)"
      ],
      "execution_count": 29,
      "outputs": [
        {
          "output_type": "stream",
          "name": "stdout",
          "text": [
            "Mean squared error from linear regression:  16.49535197593168\n",
            "Mean absolute error from linear regression:  3.0558941538909594\n"
          ]
        }
      ]
    },
    {
      "cell_type": "code",
      "metadata": {
        "id": "J7Viu9PvX50z",
        "colab": {
          "base_uri": "https://localhost:8080/"
        },
        "outputId": "86a06ee8-c89e-414d-fe02-87d5403e0b16"
      },
      "source": [
        "#Random forest.\n",
        "#Increase number of tress and see the effect\n",
        "from sklearn.ensemble import RandomForestRegressor\n",
        "model = RandomForestRegressor(n_estimators = 30, random_state=30)\n",
        "model.fit(X_train_scaled, y_train)\n",
        "\n",
        "y_pred_RF = model.predict(X_test_scaled)\n",
        "\n",
        "mse_RF = mean_squared_error(y_test, y_pred_RF)\n",
        "mae_RF = mean_absolute_error(y_test, y_pred_RF)\n",
        "print('Mean squared error using Random Forest: ', mse_RF)\n",
        "print('Mean absolute error Using Random Forest: ', mae_RF)\n",
        "\n",
        "#Feature ranking...\n",
        "import pandas as pd\n",
        "feature_list = list(X.columns)\n",
        "feature_imp = pd.Series(model.feature_importances_, index=feature_list).sort_values(ascending=False)\n",
        "print(feature_imp)"
      ],
      "execution_count": 33,
      "outputs": [
        {
          "output_type": "stream",
          "name": "stdout",
          "text": [
            "Mean squared error using Random Forest:  12.701104793028327\n",
            "Mean absolute error Using Random Forest:  2.408235294117647\n",
            "LSTAT      0.478879\n",
            "RM         0.338097\n",
            "DIS        0.063072\n",
            "CRIM       0.038339\n",
            "NOX        0.019377\n",
            "PTRATIO    0.014499\n",
            "B          0.013671\n",
            "TAX        0.013144\n",
            "AGE        0.010595\n",
            "INDUS      0.004749\n",
            "RAD        0.003753\n",
            "ZN         0.001460\n",
            "CHAS       0.000364\n",
            "dtype: float64\n"
          ]
        }
      ]
    },
    {
      "cell_type": "code",
      "source": [
        ""
      ],
      "metadata": {
        "id": "zfomdwinEEbF"
      },
      "execution_count": null,
      "outputs": []
    }
  ]
}