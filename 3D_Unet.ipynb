{
  "nbformat": 4,
  "nbformat_minor": 0,
  "metadata": {
    "accelerator": "GPU",
    "colab": {
      "name": "3D_Unet.ipynb",
      "provenance": [],
      "collapsed_sections": [],
      "include_colab_link": true
    },
    "kernelspec": {
      "display_name": "Python 3",
      "name": "python3"
    }
  },
  "cells": [
    {
      "cell_type": "markdown",
      "metadata": {
        "id": "view-in-github",
        "colab_type": "text"
      },
      "source": [
        "<a href=\"https://colab.research.google.com/github/jahidhasan299/jahidhasan299-Deep-Learning-With-7-Real-Projects/blob/main/3D_Unet.ipynb\" target=\"_parent\"><img src=\"https://colab.research.google.com/assets/colab-badge.svg\" alt=\"Open In Colab\"/></a>"
      ]
    },
    {
      "cell_type": "markdown",
      "metadata": {
        "id": "91j4KQKXl8Pr"
      },
      "source": [
        "This code uses 3D Unet to train a network on 3D subvolumes (64x64x64).\n",
        "It also segments a large volume and outputs a multidimensional OMETIFF file.<p>\n",
        "Custom dataset is used for this code but it should work on any dataset.\n",
        "<p>"
      ]
    },
    {
      "cell_type": "code",
      "metadata": {
        "id": "5iIMqTEEOuUZ"
      },
      "source": [
        "# Building Unet by dividing encoder and decoder into blocks\n",
        "#This is exactly the same unet used in earlier exercises for 2D images.\n",
        "#Except here we change conv2D to conv3D, Maxpooling2D to Maxpooling3D\n",
        "#upsampling2D to upsampling3D and Conv2DTranspose to Conv3DTranspose.\n",
        "#We also change the filter size and pooling sizes from 3x3 and 2x2 to\n",
        "# 3x3x3 and 2x2x2, respectively. \n",
        "\n",
        "from keras.models import Model\n",
        "from keras.layers import Input, Conv3D, MaxPooling3D, UpSampling3D, concatenate, Conv3DTranspose, BatchNormalization, Dropout, Lambda\n",
        "from tensorflow.keras.optimizers import Adam\n",
        "from keras.layers import Activation, MaxPool2D, Concatenate\n",
        "\n",
        "\n",
        "def conv_block(input, num_filters):\n",
        "    x = Conv3D(num_filters, 3, padding=\"same\")(input)\n",
        "    x = BatchNormalization()(x)   #Not in the original network. \n",
        "    x = Activation(\"relu\")(x)\n",
        "\n",
        "    x = Conv3D(num_filters, 3, padding=\"same\")(x)\n",
        "    x = BatchNormalization()(x)  #Not in the original network\n",
        "    x = Activation(\"relu\")(x)\n",
        "\n",
        "    return x\n",
        "\n",
        "#Encoder block: Conv block followed by maxpooling\n",
        "\n",
        "\n",
        "def encoder_block(input, num_filters):\n",
        "    x = conv_block(input, num_filters)\n",
        "    p = MaxPooling3D((2, 2, 2))(x)\n",
        "    return x, p   \n",
        "\n",
        "#Decoder block\n",
        "#skip features gets input from encoder for concatenation\n",
        "\n",
        "def decoder_block(input, skip_features, num_filters):\n",
        "    x = Conv3DTranspose(num_filters, (2, 2, 2), strides=2, padding=\"same\")(input)\n",
        "    x = Concatenate()([x, skip_features])\n",
        "    x = conv_block(x, num_filters)\n",
        "    return x\n",
        "\n",
        "#Build Unet using the blocks\n",
        "def build_unet(input_shape, n_classes):\n",
        "    inputs = Input(input_shape)\n",
        "\n",
        "    s1, p1 = encoder_block(inputs, 64)\n",
        "    s2, p2 = encoder_block(p1, 128)\n",
        "    s3, p3 = encoder_block(p2, 256)\n",
        "    s4, p4 = encoder_block(p3, 512)\n",
        "\n",
        "    b1 = conv_block(p4, 1024) #Bridge\n",
        "\n",
        "    d1 = decoder_block(b1, s4, 512)\n",
        "    d2 = decoder_block(d1, s3, 256)\n",
        "    d3 = decoder_block(d2, s2, 128)\n",
        "    d4 = decoder_block(d3, s1, 64)\n",
        "\n",
        "    if n_classes == 1:  #Binary\n",
        "      activation = 'sigmoid'\n",
        "    else:\n",
        "      activation = 'softmax'\n",
        "\n",
        "    outputs = Conv3D(n_classes, 1, padding=\"same\", activation=activation)(d4)  #Change the activation based on n_classes\n",
        "    print(activation)\n",
        "\n",
        "    model = Model(inputs, outputs, name=\"U-Net\")\n",
        "    return model"
      ],
      "execution_count": 1,
      "outputs": []
    },
    {
      "cell_type": "code",
      "metadata": {
        "colab": {
          "base_uri": "https://localhost:8080/"
        },
        "id": "dWrKrCXtPLon",
        "outputId": "dcb15ac5-ea59-4455-951b-b99c37d24984"
      },
      "source": [
        "my_model = build_unet((64,64,64,3), n_classes=4)"
      ],
      "execution_count": 2,
      "outputs": [
        {
          "output_type": "stream",
          "name": "stdout",
          "text": [
            "softmax\n"
          ]
        }
      ]
    },
    {
      "cell_type": "code",
      "metadata": {
        "id": "xFiKt9hRPlSQ",
        "colab": {
          "base_uri": "https://localhost:8080/"
        },
        "outputId": "0ed970a1-5e39-4d78-ce7b-1133d0c424f6"
      },
      "source": [
        "print(my_model.summary())"
      ],
      "execution_count": 3,
      "outputs": [
        {
          "output_type": "stream",
          "name": "stdout",
          "text": [
            "Model: \"U-Net\"\n",
            "__________________________________________________________________________________________________\n",
            " Layer (type)                   Output Shape         Param #     Connected to                     \n",
            "==================================================================================================\n",
            " input_1 (InputLayer)           [(None, 64, 64, 64,  0           []                               \n",
            "                                 3)]                                                              \n",
            "                                                                                                  \n",
            " conv3d (Conv3D)                (None, 64, 64, 64,   5248        ['input_1[0][0]']                \n",
            "                                64)                                                               \n",
            "                                                                                                  \n",
            " batch_normalization (BatchNorm  (None, 64, 64, 64,   256        ['conv3d[0][0]']                 \n",
            " alization)                     64)                                                               \n",
            "                                                                                                  \n",
            " activation (Activation)        (None, 64, 64, 64,   0           ['batch_normalization[0][0]']    \n",
            "                                64)                                                               \n",
            "                                                                                                  \n",
            " conv3d_1 (Conv3D)              (None, 64, 64, 64,   110656      ['activation[0][0]']             \n",
            "                                64)                                                               \n",
            "                                                                                                  \n",
            " batch_normalization_1 (BatchNo  (None, 64, 64, 64,   256        ['conv3d_1[0][0]']               \n",
            " rmalization)                   64)                                                               \n",
            "                                                                                                  \n",
            " activation_1 (Activation)      (None, 64, 64, 64,   0           ['batch_normalization_1[0][0]']  \n",
            "                                64)                                                               \n",
            "                                                                                                  \n",
            " max_pooling3d (MaxPooling3D)   (None, 32, 32, 32,   0           ['activation_1[0][0]']           \n",
            "                                64)                                                               \n",
            "                                                                                                  \n",
            " conv3d_2 (Conv3D)              (None, 32, 32, 32,   221312      ['max_pooling3d[0][0]']          \n",
            "                                128)                                                              \n",
            "                                                                                                  \n",
            " batch_normalization_2 (BatchNo  (None, 32, 32, 32,   512        ['conv3d_2[0][0]']               \n",
            " rmalization)                   128)                                                              \n",
            "                                                                                                  \n",
            " activation_2 (Activation)      (None, 32, 32, 32,   0           ['batch_normalization_2[0][0]']  \n",
            "                                128)                                                              \n",
            "                                                                                                  \n",
            " conv3d_3 (Conv3D)              (None, 32, 32, 32,   442496      ['activation_2[0][0]']           \n",
            "                                128)                                                              \n",
            "                                                                                                  \n",
            " batch_normalization_3 (BatchNo  (None, 32, 32, 32,   512        ['conv3d_3[0][0]']               \n",
            " rmalization)                   128)                                                              \n",
            "                                                                                                  \n",
            " activation_3 (Activation)      (None, 32, 32, 32,   0           ['batch_normalization_3[0][0]']  \n",
            "                                128)                                                              \n",
            "                                                                                                  \n",
            " max_pooling3d_1 (MaxPooling3D)  (None, 16, 16, 16,   0          ['activation_3[0][0]']           \n",
            "                                128)                                                              \n",
            "                                                                                                  \n",
            " conv3d_4 (Conv3D)              (None, 16, 16, 16,   884992      ['max_pooling3d_1[0][0]']        \n",
            "                                256)                                                              \n",
            "                                                                                                  \n",
            " batch_normalization_4 (BatchNo  (None, 16, 16, 16,   1024       ['conv3d_4[0][0]']               \n",
            " rmalization)                   256)                                                              \n",
            "                                                                                                  \n",
            " activation_4 (Activation)      (None, 16, 16, 16,   0           ['batch_normalization_4[0][0]']  \n",
            "                                256)                                                              \n",
            "                                                                                                  \n",
            " conv3d_5 (Conv3D)              (None, 16, 16, 16,   1769728     ['activation_4[0][0]']           \n",
            "                                256)                                                              \n",
            "                                                                                                  \n",
            " batch_normalization_5 (BatchNo  (None, 16, 16, 16,   1024       ['conv3d_5[0][0]']               \n",
            " rmalization)                   256)                                                              \n",
            "                                                                                                  \n",
            " activation_5 (Activation)      (None, 16, 16, 16,   0           ['batch_normalization_5[0][0]']  \n",
            "                                256)                                                              \n",
            "                                                                                                  \n",
            " max_pooling3d_2 (MaxPooling3D)  (None, 8, 8, 8, 256  0          ['activation_5[0][0]']           \n",
            "                                )                                                                 \n",
            "                                                                                                  \n",
            " conv3d_6 (Conv3D)              (None, 8, 8, 8, 512  3539456     ['max_pooling3d_2[0][0]']        \n",
            "                                )                                                                 \n",
            "                                                                                                  \n",
            " batch_normalization_6 (BatchNo  (None, 8, 8, 8, 512  2048       ['conv3d_6[0][0]']               \n",
            " rmalization)                   )                                                                 \n",
            "                                                                                                  \n",
            " activation_6 (Activation)      (None, 8, 8, 8, 512  0           ['batch_normalization_6[0][0]']  \n",
            "                                )                                                                 \n",
            "                                                                                                  \n",
            " conv3d_7 (Conv3D)              (None, 8, 8, 8, 512  7078400     ['activation_6[0][0]']           \n",
            "                                )                                                                 \n",
            "                                                                                                  \n",
            " batch_normalization_7 (BatchNo  (None, 8, 8, 8, 512  2048       ['conv3d_7[0][0]']               \n",
            " rmalization)                   )                                                                 \n",
            "                                                                                                  \n",
            " activation_7 (Activation)      (None, 8, 8, 8, 512  0           ['batch_normalization_7[0][0]']  \n",
            "                                )                                                                 \n",
            "                                                                                                  \n",
            " max_pooling3d_3 (MaxPooling3D)  (None, 4, 4, 4, 512  0          ['activation_7[0][0]']           \n",
            "                                )                                                                 \n",
            "                                                                                                  \n",
            " conv3d_8 (Conv3D)              (None, 4, 4, 4, 102  14156800    ['max_pooling3d_3[0][0]']        \n",
            "                                4)                                                                \n",
            "                                                                                                  \n",
            " batch_normalization_8 (BatchNo  (None, 4, 4, 4, 102  4096       ['conv3d_8[0][0]']               \n",
            " rmalization)                   4)                                                                \n",
            "                                                                                                  \n",
            " activation_8 (Activation)      (None, 4, 4, 4, 102  0           ['batch_normalization_8[0][0]']  \n",
            "                                4)                                                                \n",
            "                                                                                                  \n",
            " conv3d_9 (Conv3D)              (None, 4, 4, 4, 102  28312576    ['activation_8[0][0]']           \n",
            "                                4)                                                                \n",
            "                                                                                                  \n",
            " batch_normalization_9 (BatchNo  (None, 4, 4, 4, 102  4096       ['conv3d_9[0][0]']               \n",
            " rmalization)                   4)                                                                \n",
            "                                                                                                  \n",
            " activation_9 (Activation)      (None, 4, 4, 4, 102  0           ['batch_normalization_9[0][0]']  \n",
            "                                4)                                                                \n",
            "                                                                                                  \n",
            " conv3d_transpose (Conv3DTransp  (None, 8, 8, 8, 512  4194816    ['activation_9[0][0]']           \n",
            " ose)                           )                                                                 \n",
            "                                                                                                  \n",
            " concatenate (Concatenate)      (None, 8, 8, 8, 102  0           ['conv3d_transpose[0][0]',       \n",
            "                                4)                                'activation_7[0][0]']           \n",
            "                                                                                                  \n",
            " conv3d_10 (Conv3D)             (None, 8, 8, 8, 512  14156288    ['concatenate[0][0]']            \n",
            "                                )                                                                 \n",
            "                                                                                                  \n",
            " batch_normalization_10 (BatchN  (None, 8, 8, 8, 512  2048       ['conv3d_10[0][0]']              \n",
            " ormalization)                  )                                                                 \n",
            "                                                                                                  \n",
            " activation_10 (Activation)     (None, 8, 8, 8, 512  0           ['batch_normalization_10[0][0]'] \n",
            "                                )                                                                 \n",
            "                                                                                                  \n",
            " conv3d_11 (Conv3D)             (None, 8, 8, 8, 512  7078400     ['activation_10[0][0]']          \n",
            "                                )                                                                 \n",
            "                                                                                                  \n",
            " batch_normalization_11 (BatchN  (None, 8, 8, 8, 512  2048       ['conv3d_11[0][0]']              \n",
            " ormalization)                  )                                                                 \n",
            "                                                                                                  \n",
            " activation_11 (Activation)     (None, 8, 8, 8, 512  0           ['batch_normalization_11[0][0]'] \n",
            "                                )                                                                 \n",
            "                                                                                                  \n",
            " conv3d_transpose_1 (Conv3DTran  (None, 16, 16, 16,   1048832    ['activation_11[0][0]']          \n",
            " spose)                         256)                                                              \n",
            "                                                                                                  \n",
            " concatenate_1 (Concatenate)    (None, 16, 16, 16,   0           ['conv3d_transpose_1[0][0]',     \n",
            "                                512)                              'activation_5[0][0]']           \n",
            "                                                                                                  \n",
            " conv3d_12 (Conv3D)             (None, 16, 16, 16,   3539200     ['concatenate_1[0][0]']          \n",
            "                                256)                                                              \n",
            "                                                                                                  \n",
            " batch_normalization_12 (BatchN  (None, 16, 16, 16,   1024       ['conv3d_12[0][0]']              \n",
            " ormalization)                  256)                                                              \n",
            "                                                                                                  \n",
            " activation_12 (Activation)     (None, 16, 16, 16,   0           ['batch_normalization_12[0][0]'] \n",
            "                                256)                                                              \n",
            "                                                                                                  \n",
            " conv3d_13 (Conv3D)             (None, 16, 16, 16,   1769728     ['activation_12[0][0]']          \n",
            "                                256)                                                              \n",
            "                                                                                                  \n",
            " batch_normalization_13 (BatchN  (None, 16, 16, 16,   1024       ['conv3d_13[0][0]']              \n",
            " ormalization)                  256)                                                              \n",
            "                                                                                                  \n",
            " activation_13 (Activation)     (None, 16, 16, 16,   0           ['batch_normalization_13[0][0]'] \n",
            "                                256)                                                              \n",
            "                                                                                                  \n",
            " conv3d_transpose_2 (Conv3DTran  (None, 32, 32, 32,   262272     ['activation_13[0][0]']          \n",
            " spose)                         128)                                                              \n",
            "                                                                                                  \n",
            " concatenate_2 (Concatenate)    (None, 32, 32, 32,   0           ['conv3d_transpose_2[0][0]',     \n",
            "                                256)                              'activation_3[0][0]']           \n",
            "                                                                                                  \n",
            " conv3d_14 (Conv3D)             (None, 32, 32, 32,   884864      ['concatenate_2[0][0]']          \n",
            "                                128)                                                              \n",
            "                                                                                                  \n",
            " batch_normalization_14 (BatchN  (None, 32, 32, 32,   512        ['conv3d_14[0][0]']              \n",
            " ormalization)                  128)                                                              \n",
            "                                                                                                  \n",
            " activation_14 (Activation)     (None, 32, 32, 32,   0           ['batch_normalization_14[0][0]'] \n",
            "                                128)                                                              \n",
            "                                                                                                  \n",
            " conv3d_15 (Conv3D)             (None, 32, 32, 32,   442496      ['activation_14[0][0]']          \n",
            "                                128)                                                              \n",
            "                                                                                                  \n",
            " batch_normalization_15 (BatchN  (None, 32, 32, 32,   512        ['conv3d_15[0][0]']              \n",
            " ormalization)                  128)                                                              \n",
            "                                                                                                  \n",
            " activation_15 (Activation)     (None, 32, 32, 32,   0           ['batch_normalization_15[0][0]'] \n",
            "                                128)                                                              \n",
            "                                                                                                  \n",
            " conv3d_transpose_3 (Conv3DTran  (None, 64, 64, 64,   65600      ['activation_15[0][0]']          \n",
            " spose)                         64)                                                               \n",
            "                                                                                                  \n",
            " concatenate_3 (Concatenate)    (None, 64, 64, 64,   0           ['conv3d_transpose_3[0][0]',     \n",
            "                                128)                              'activation_1[0][0]']           \n",
            "                                                                                                  \n",
            " conv3d_16 (Conv3D)             (None, 64, 64, 64,   221248      ['concatenate_3[0][0]']          \n",
            "                                64)                                                               \n",
            "                                                                                                  \n",
            " batch_normalization_16 (BatchN  (None, 64, 64, 64,   256        ['conv3d_16[0][0]']              \n",
            " ormalization)                  64)                                                               \n",
            "                                                                                                  \n",
            " activation_16 (Activation)     (None, 64, 64, 64,   0           ['batch_normalization_16[0][0]'] \n",
            "                                64)                                                               \n",
            "                                                                                                  \n",
            " conv3d_17 (Conv3D)             (None, 64, 64, 64,   110656      ['activation_16[0][0]']          \n",
            "                                64)                                                               \n",
            "                                                                                                  \n",
            " batch_normalization_17 (BatchN  (None, 64, 64, 64,   256        ['conv3d_17[0][0]']              \n",
            " ormalization)                  64)                                                               \n",
            "                                                                                                  \n",
            " activation_17 (Activation)     (None, 64, 64, 64,   0           ['batch_normalization_17[0][0]'] \n",
            "                                64)                                                               \n",
            "                                                                                                  \n",
            " conv3d_18 (Conv3D)             (None, 64, 64, 64,   260         ['activation_17[0][0]']          \n",
            "                                4)                                                                \n",
            "                                                                                                  \n",
            "==================================================================================================\n",
            "Total params: 90,319,876\n",
            "Trainable params: 90,308,100\n",
            "Non-trainable params: 11,776\n",
            "__________________________________________________________________________________________________\n",
            "None\n"
          ]
        }
      ]
    },
    {
      "cell_type": "code",
      "metadata": {
        "colab": {
          "base_uri": "https://localhost:8080/"
        },
        "id": "uusLfD-VzEN-",
        "outputId": "b1806f00-af93-4670-9965-b618da7629bc"
      },
      "source": [
        "my_model.input_shape"
      ],
      "execution_count": 4,
      "outputs": [
        {
          "output_type": "execute_result",
          "data": {
            "text/plain": [
              "(None, 64, 64, 64, 3)"
            ]
          },
          "metadata": {},
          "execution_count": 4
        }
      ]
    },
    {
      "cell_type": "code",
      "metadata": {
        "id": "DFJYJc1p_LRy",
        "colab": {
          "base_uri": "https://localhost:8080/"
        },
        "outputId": "08a2ff4b-f02c-491c-b15b-5f2ba44938a8"
      },
      "source": [
        "#Use patchify to break large volumes into smaller for training \n",
        "#and also to put patches back together after prediction.\n",
        "!pip install patchify"
      ],
      "execution_count": 5,
      "outputs": [
        {
          "output_type": "stream",
          "name": "stdout",
          "text": [
            "Collecting patchify\n",
            "  Downloading patchify-0.2.3-py3-none-any.whl (6.6 kB)\n",
            "Requirement already satisfied: numpy<2,>=1 in /usr/local/lib/python3.7/dist-packages (from patchify) (1.21.5)\n",
            "Installing collected packages: patchify\n",
            "Successfully installed patchify-0.2.3\n"
          ]
        }
      ]
    },
    {
      "cell_type": "code",
      "metadata": {
        "id": "foXdS4Uil4WP",
        "colab": {
          "base_uri": "https://localhost:8080/"
        },
        "outputId": "6a39a81f-6ac7-4cf3-d4b1-6d706c5f1f64"
      },
      "source": [
        "import tensorflow as tf\n",
        "import keras\n",
        "print(tf.__version__)\n",
        "print(keras.__version__)"
      ],
      "execution_count": 6,
      "outputs": [
        {
          "output_type": "stream",
          "name": "stdout",
          "text": [
            "2.8.0\n",
            "2.8.0\n"
          ]
        }
      ]
    },
    {
      "cell_type": "code",
      "metadata": {
        "id": "45aZsgManbdG",
        "colab": {
          "base_uri": "https://localhost:8080/"
        },
        "outputId": "481702b1-9f04-4c47-a023-9ffa5a4fee8f"
      },
      "source": [
        "#Make sure the GPU is available. \n",
        "import tensorflow as tf\n",
        "device_name = tf.test.gpu_device_name()\n",
        "if device_name != '/device:GPU:0':\n",
        "  raise SystemError('GPU device not found')\n",
        "print('Found GPU at: {}'.format(device_name))"
      ],
      "execution_count": 7,
      "outputs": [
        {
          "output_type": "stream",
          "name": "stdout",
          "text": [
            "Found GPU at: /device:GPU:0\n"
          ]
        }
      ]
    },
    {
      "cell_type": "code",
      "metadata": {
        "id": "d7hKivzw-0V9"
      },
      "source": [
        "from skimage import io\n",
        "from patchify import patchify, unpatchify\n",
        "import numpy as np\n",
        "from matplotlib import pyplot as plt\n",
        "from keras import backend as K\n",
        "from tensorflow.keras.utils import to_categorical\n",
        "from sklearn.model_selection import train_test_split"
      ],
      "execution_count": 8,
      "outputs": []
    },
    {
      "cell_type": "code",
      "metadata": {
        "colab": {
          "base_uri": "https://localhost:8080/"
        },
        "id": "bdE84tORQ7vP",
        "outputId": "964a7981-8a3c-43a5-f2ed-553dc9bfed2d"
      },
      "source": [
        "from google.colab import drive\n",
        "drive.mount('/content/drive')"
      ],
      "execution_count": 9,
      "outputs": [
        {
          "output_type": "stream",
          "name": "stdout",
          "text": [
            "Mounted at /content/drive\n"
          ]
        }
      ]
    },
    {
      "cell_type": "code",
      "metadata": {
        "id": "HWZiqrMK-kVb"
      },
      "source": [
        "#Load input images and masks. \n",
        "#Here we load 256x256x256 pixel volume. We will break it into patches of 64x64x64 for training. \n",
        "image = io.imread('/content/drive/MyDrive/Colab Notebooks/datasets/sandstone_data_for_ML 2/data_for_3D_Unet/train_images_256_256_256.tif')\n",
        "img_patches = patchify(image, (64, 64, 64), step=64)  #Step=64 for 64 patches means no overlap\n",
        "\n",
        "mask = io.imread('/content/drive/MyDrive/Colab Notebooks/datasets/sandstone_data_for_ML 2/data_for_3D_Unet/train_masks_256_256_256.tif')\n",
        "mask_patches = patchify(mask, (64, 64, 64), step=64)  \n"
      ],
      "execution_count": 10,
      "outputs": []
    },
    {
      "cell_type": "code",
      "metadata": {
        "id": "A8a8BumA_qpa",
        "colab": {
          "base_uri": "https://localhost:8080/",
          "height": 286
        },
        "outputId": "52bebfb3-cdba-4cc4-abd3-c339435ae9a9"
      },
      "source": [
        "plt.imshow(img_patches[1,2,3,:,:,32])\n",
        "#"
      ],
      "execution_count": 11,
      "outputs": [
        {
          "output_type": "execute_result",
          "data": {
            "text/plain": [
              "<matplotlib.image.AxesImage at 0x7f144bb2c6d0>"
            ]
          },
          "metadata": {},
          "execution_count": 11
        },
        {
          "output_type": "display_data",
          "data": {
            "text/plain": [
              "<Figure size 432x288 with 1 Axes>"
            ],
            "image/png": "[encoded data removed]"
          },
          "metadata": {
            "needs_background": "light"
          }
        }
      ]
    },
    {
      "cell_type": "code",
      "metadata": {
        "colab": {
          "base_uri": "https://localhost:8080/",
          "height": 286
        },
        "id": "JfyLfO5-z5f-",
        "outputId": "91fe1880-0b1c-43d7-f7b8-31efb62ac94a"
      },
      "source": [
        "plt.imshow(mask_patches[1,2,3,:,:,32])"
      ],
      "execution_count": 12,
      "outputs": [
        {
          "output_type": "execute_result",
          "data": {
            "text/plain": [
              "<matplotlib.image.AxesImage at 0x7f144b611810>"
            ]
          },
          "metadata": {},
          "execution_count": 12
        },
        {
          "output_type": "display_data",
          "data": {
            "text/plain": [
              "<Figure size 432x288 with 1 Axes>"
            ],
            "image/png": "[encoded data removed]"
          },
          "metadata": {
            "needs_background": "light"
          }
        }
      ]
    },
    {
      "cell_type": "code",
      "metadata": {
        "id": "K08wiQ0y-ogu",
        "colab": {
          "base_uri": "https://localhost:8080/"
        },
        "outputId": "db5d80ca-2954-459b-d6ce-daddaf4f2239"
      },
      "source": [
        "input_img = np.reshape(img_patches, (-1, img_patches.shape[3], img_patches.shape[4], img_patches.shape[5]))\n",
        "input_mask = np.reshape(mask_patches, (-1, mask_patches.shape[3], mask_patches.shape[4], mask_patches.shape[5]))\n",
        "\n",
        "print(input_img.shape)  # n_patches, x, y, z\n",
        "\n"
      ],
      "execution_count": 13,
      "outputs": [
        {
          "output_type": "stream",
          "name": "stdout",
          "text": [
            "(64, 64, 64, 64)\n"
          ]
        }
      ]
    },
    {
      "cell_type": "code",
      "metadata": {
        "id": "3FqzxzsX_4YQ"
      },
      "source": [
        "n_classes=4"
      ],
      "execution_count": 14,
      "outputs": []
    },
    {
      "cell_type": "code",
      "metadata": {
        "id": "av8BBXU0-rdw"
      },
      "source": [
        "#Convert grey image to 3 channels by copying channel 3 times.\n",
        "#We do this as our unet model expects 3 channel input. \n",
        "\n",
        "train_img = np.stack((input_img,)*3, axis=-1)\n",
        "train_img = train_img / 255. \n",
        "train_mask = np.expand_dims(input_mask, axis=4)\n",
        "\n",
        "train_mask_cat = to_categorical(train_mask, num_classes=n_classes)\n",
        "\n",
        "X_train, X_test, y_train, y_test = train_test_split(train_img, train_mask_cat, test_size = 0.10, random_state = 0)"
      ],
      "execution_count": 15,
      "outputs": []
    },
    {
      "cell_type": "code",
      "metadata": {
        "id": "Higavd5lmj6A"
      },
      "source": [
        "# Loss Function and coefficients to be used during training:\n",
        "def dice_coefficient(y_true, y_pred):\n",
        "    smoothing_factor = 1\n",
        "    flat_y_true = K.flatten(y_true)\n",
        "    flat_y_pred = K.flatten(y_pred)\n",
        "    return (2. * K.sum(flat_y_true * flat_y_pred) + smoothing_factor) / (K.sum(flat_y_true) + K.sum(flat_y_pred) + smoothing_factor)\n",
        "\n",
        "def dice_coefficient_loss(y_true, y_pred):\n",
        "    return 1 - dice_coefficient(y_true, y_pred)\n"
      ],
      "execution_count": 16,
      "outputs": []
    },
    {
      "cell_type": "code",
      "source": [
        "from tensorflow.python.keras import Sequential\n",
        "from tensorflow.python.keras.layers import Dense"
      ],
      "metadata": {
        "id": "tfAFB3uPtYVx"
      },
      "execution_count": 17,
      "outputs": []
    },
    {
      "cell_type": "code",
      "metadata": {
        "id": "mWiQsv6IqGGF"
      },
      "source": [
        "#Define parameters for our model.\n",
        "\n",
        "patch_size = 64\n",
        "channels=3\n",
        "\n",
        "LR = 0.0001\n",
        "optim = Adam(LR)\n"
      ],
      "execution_count": 18,
      "outputs": []
    },
    {
      "cell_type": "code",
      "metadata": {
        "colab": {
          "base_uri": "https://localhost:8080/"
        },
        "id": "SYR2h6i3SPLU",
        "outputId": "0a7d01af-67ae-4897-83ad-64ecd0811a6e"
      },
      "source": [
        "model = build_unet((patch_size,patch_size,patch_size,channels), n_classes=n_classes)"
      ],
      "execution_count": 19,
      "outputs": [
        {
          "output_type": "stream",
          "name": "stdout",
          "text": [
            "softmax\n"
          ]
        }
      ]
    },
    {
      "cell_type": "code",
      "metadata": {
        "id": "BS6ojei4SfyF",
        "colab": {
          "base_uri": "https://localhost:8080/"
        },
        "outputId": "ae1ded7f-3efd-4631-f088-127d6d8ac869"
      },
      "source": [
        "model.compile(optimizer = optim, loss=dice_coefficient_loss, metrics=dice_coefficient)\n",
        "print(model.summary())"
      ],
      "execution_count": 20,
      "outputs": [
        {
          "output_type": "stream",
          "name": "stdout",
          "text": [
            "Model: \"U-Net\"\n",
            "__________________________________________________________________________________________________\n",
            " Layer (type)                   Output Shape         Param #     Connected to                     \n",
            "==================================================================================================\n",
            " input_2 (InputLayer)           [(None, 64, 64, 64,  0           []                               \n",
            "                                 3)]                                                              \n",
            "                                                                                                  \n",
            " conv3d_19 (Conv3D)             (None, 64, 64, 64,   5248        ['input_2[0][0]']                \n",
            "                                64)                                                               \n",
            "                                                                                                  \n",
            " batch_normalization_18 (BatchN  (None, 64, 64, 64,   256        ['conv3d_19[0][0]']              \n",
            " ormalization)                  64)                                                               \n",
            "                                                                                                  \n",
            " activation_18 (Activation)     (None, 64, 64, 64,   0           ['batch_normalization_18[0][0]'] \n",
            "                                64)                                                               \n",
            "                                                                                                  \n",
            " conv3d_20 (Conv3D)             (None, 64, 64, 64,   110656      ['activation_18[0][0]']          \n",
            "                                64)                                                               \n",
            "                                                                                                  \n",
            " batch_normalization_19 (BatchN  (None, 64, 64, 64,   256        ['conv3d_20[0][0]']              \n",
            " ormalization)                  64)                                                               \n",
            "                                                                                                  \n",
            " activation_19 (Activation)     (None, 64, 64, 64,   0           ['batch_normalization_19[0][0]'] \n",
            "                                64)                                                               \n",
            "                                                                                                  \n",
            " max_pooling3d_4 (MaxPooling3D)  (None, 32, 32, 32,   0          ['activation_19[0][0]']          \n",
            "                                64)                                                               \n",
            "                                                                                                  \n",
            " conv3d_21 (Conv3D)             (None, 32, 32, 32,   221312      ['max_pooling3d_4[0][0]']        \n",
            "                                128)                                                              \n",
            "                                                                                                  \n",
            " batch_normalization_20 (BatchN  (None, 32, 32, 32,   512        ['conv3d_21[0][0]']              \n",
            " ormalization)                  128)                                                              \n",
            "                                                                                                  \n",
            " activation_20 (Activation)     (None, 32, 32, 32,   0           ['batch_normalization_20[0][0]'] \n",
            "                                128)                                                              \n",
            "                                                                                                  \n",
            " conv3d_22 (Conv3D)             (None, 32, 32, 32,   442496      ['activation_20[0][0]']          \n",
            "                                128)                                                              \n",
            "                                                                                                  \n",
            " batch_normalization_21 (BatchN  (None, 32, 32, 32,   512        ['conv3d_22[0][0]']              \n",
            " ormalization)                  128)                                                              \n",
            "                                                                                                  \n",
            " activation_21 (Activation)     (None, 32, 32, 32,   0           ['batch_normalization_21[0][0]'] \n",
            "                                128)                                                              \n",
            "                                                                                                  \n",
            " max_pooling3d_5 (MaxPooling3D)  (None, 16, 16, 16,   0          ['activation_21[0][0]']          \n",
            "                                128)                                                              \n",
            "                                                                                                  \n",
            " conv3d_23 (Conv3D)             (None, 16, 16, 16,   884992      ['max_pooling3d_5[0][0]']        \n",
            "                                256)                                                              \n",
            "                                                                                                  \n",
            " batch_normalization_22 (BatchN  (None, 16, 16, 16,   1024       ['conv3d_23[0][0]']              \n",
            " ormalization)                  256)                                                              \n",
            "                                                                                                  \n",
            " activation_22 (Activation)     (None, 16, 16, 16,   0           ['batch_normalization_22[0][0]'] \n",
            "                                256)                                                              \n",
            "                                                                                                  \n",
            " conv3d_24 (Conv3D)             (None, 16, 16, 16,   1769728     ['activation_22[0][0]']          \n",
            "                                256)                                                              \n",
            "                                                                                                  \n",
            " batch_normalization_23 (BatchN  (None, 16, 16, 16,   1024       ['conv3d_24[0][0]']              \n",
            " ormalization)                  256)                                                              \n",
            "                                                                                                  \n",
            " activation_23 (Activation)     (None, 16, 16, 16,   0           ['batch_normalization_23[0][0]'] \n",
            "                                256)                                                              \n",
            "                                                                                                  \n",
            " max_pooling3d_6 (MaxPooling3D)  (None, 8, 8, 8, 256  0          ['activation_23[0][0]']          \n",
            "                                )                                                                 \n",
            "                                                                                                  \n",
            " conv3d_25 (Conv3D)             (None, 8, 8, 8, 512  3539456     ['max_pooling3d_6[0][0]']        \n",
            "                                )                                                                 \n",
            "                                                                                                  \n",
            " batch_normalization_24 (BatchN  (None, 8, 8, 8, 512  2048       ['conv3d_25[0][0]']              \n",
            " ormalization)                  )                                                                 \n",
            "                                                                                                  \n",
            " activation_24 (Activation)     (None, 8, 8, 8, 512  0           ['batch_normalization_24[0][0]'] \n",
            "                                )                                                                 \n",
            "                                                                                                  \n",
            " conv3d_26 (Conv3D)             (None, 8, 8, 8, 512  7078400     ['activation_24[0][0]']          \n",
            "                                )                                                                 \n",
            "                                                                                                  \n",
            " batch_normalization_25 (BatchN  (None, 8, 8, 8, 512  2048       ['conv3d_26[0][0]']              \n",
            " ormalization)                  )                                                                 \n",
            "                                                                                                  \n",
            " activation_25 (Activation)     (None, 8, 8, 8, 512  0           ['batch_normalization_25[0][0]'] \n",
            "                                )                                                                 \n",
            "                                                                                                  \n",
            " max_pooling3d_7 (MaxPooling3D)  (None, 4, 4, 4, 512  0          ['activation_25[0][0]']          \n",
            "                                )                                                                 \n",
            "                                                                                                  \n",
            " conv3d_27 (Conv3D)             (None, 4, 4, 4, 102  14156800    ['max_pooling3d_7[0][0]']        \n",
            "                                4)                                                                \n",
            "                                                                                                  \n",
            " batch_normalization_26 (BatchN  (None, 4, 4, 4, 102  4096       ['conv3d_27[0][0]']              \n",
            " ormalization)                  4)                                                                \n",
            "                                                                                                  \n",
            " activation_26 (Activation)     (None, 4, 4, 4, 102  0           ['batch_normalization_26[0][0]'] \n",
            "                                4)                                                                \n",
            "                                                                                                  \n",
            " conv3d_28 (Conv3D)             (None, 4, 4, 4, 102  28312576    ['activation_26[0][0]']          \n",
            "                                4)                                                                \n",
            "                                                                                                  \n",
            " batch_normalization_27 (BatchN  (None, 4, 4, 4, 102  4096       ['conv3d_28[0][0]']              \n",
            " ormalization)                  4)                                                                \n",
            "                                                                                                  \n",
            " activation_27 (Activation)     (None, 4, 4, 4, 102  0           ['batch_normalization_27[0][0]'] \n",
            "                                4)                                                                \n",
            "                                                                                                  \n",
            " conv3d_transpose_4 (Conv3DTran  (None, 8, 8, 8, 512  4194816    ['activation_27[0][0]']          \n",
            " spose)                         )                                                                 \n",
            "                                                                                                  \n",
            " concatenate_4 (Concatenate)    (None, 8, 8, 8, 102  0           ['conv3d_transpose_4[0][0]',     \n",
            "                                4)                                'activation_25[0][0]']          \n",
            "                                                                                                  \n",
            " conv3d_29 (Conv3D)             (None, 8, 8, 8, 512  14156288    ['concatenate_4[0][0]']          \n",
            "                                )                                                                 \n",
            "                                                                                                  \n",
            " batch_normalization_28 (BatchN  (None, 8, 8, 8, 512  2048       ['conv3d_29[0][0]']              \n",
            " ormalization)                  )                                                                 \n",
            "                                                                                                  \n",
            " activation_28 (Activation)     (None, 8, 8, 8, 512  0           ['batch_normalization_28[0][0]'] \n",
            "                                )                                                                 \n",
            "                                                                                                  \n",
            " conv3d_30 (Conv3D)             (None, 8, 8, 8, 512  7078400     ['activation_28[0][0]']          \n",
            "                                )                                                                 \n",
            "                                                                                                  \n",
            " batch_normalization_29 (BatchN  (None, 8, 8, 8, 512  2048       ['conv3d_30[0][0]']              \n",
            " ormalization)                  )                                                                 \n",
            "                                                                                                  \n",
            " activation_29 (Activation)     (None, 8, 8, 8, 512  0           ['batch_normalization_29[0][0]'] \n",
            "                                )                                                                 \n",
            "                                                                                                  \n",
            " conv3d_transpose_5 (Conv3DTran  (None, 16, 16, 16,   1048832    ['activation_29[0][0]']          \n",
            " spose)                         256)                                                              \n",
            "                                                                                                  \n",
            " concatenate_5 (Concatenate)    (None, 16, 16, 16,   0           ['conv3d_transpose_5[0][0]',     \n",
            "                                512)                              'activation_23[0][0]']          \n",
            "                                                                                                  \n",
            " conv3d_31 (Conv3D)             (None, 16, 16, 16,   3539200     ['concatenate_5[0][0]']          \n",
            "                                256)                                                              \n",
            "                                                                                                  \n",
            " batch_normalization_30 (BatchN  (None, 16, 16, 16,   1024       ['conv3d_31[0][0]']              \n",
            " ormalization)                  256)                                                              \n",
            "                                                                                                  \n",
            " activation_30 (Activation)     (None, 16, 16, 16,   0           ['batch_normalization_30[0][0]'] \n",
            "                                256)                                                              \n",
            "                                                                                                  \n",
            " conv3d_32 (Conv3D)             (None, 16, 16, 16,   1769728     ['activation_30[0][0]']          \n",
            "                                256)                                                              \n",
            "                                                                                                  \n",
            " batch_normalization_31 (BatchN  (None, 16, 16, 16,   1024       ['conv3d_32[0][0]']              \n",
            " ormalization)                  256)                                                              \n",
            "                                                                                                  \n",
            " activation_31 (Activation)     (None, 16, 16, 16,   0           ['batch_normalization_31[0][0]'] \n",
            "                                256)                                                              \n",
            "                                                                                                  \n",
            " conv3d_transpose_6 (Conv3DTran  (None, 32, 32, 32,   262272     ['activation_31[0][0]']          \n",
            " spose)                         128)                                                              \n",
            "                                                                                                  \n",
            " concatenate_6 (Concatenate)    (None, 32, 32, 32,   0           ['conv3d_transpose_6[0][0]',     \n",
            "                                256)                              'activation_21[0][0]']          \n",
            "                                                                                                  \n",
            " conv3d_33 (Conv3D)             (None, 32, 32, 32,   884864      ['concatenate_6[0][0]']          \n",
            "                                128)                                                              \n",
            "                                                                                                  \n",
            " batch_normalization_32 (BatchN  (None, 32, 32, 32,   512        ['conv3d_33[0][0]']              \n",
            " ormalization)                  128)                                                              \n",
            "                                                                                                  \n",
            " activation_32 (Activation)     (None, 32, 32, 32,   0           ['batch_normalization_32[0][0]'] \n",
            "                                128)                                                              \n",
            "                                                                                                  \n",
            " conv3d_34 (Conv3D)             (None, 32, 32, 32,   442496      ['activation_32[0][0]']          \n",
            "                                128)                                                              \n",
            "                                                                                                  \n",
            " batch_normalization_33 (BatchN  (None, 32, 32, 32,   512        ['conv3d_34[0][0]']              \n",
            " ormalization)                  128)                                                              \n",
            "                                                                                                  \n",
            " activation_33 (Activation)     (None, 32, 32, 32,   0           ['batch_normalization_33[0][0]'] \n",
            "                                128)                                                              \n",
            "                                                                                                  \n",
            " conv3d_transpose_7 (Conv3DTran  (None, 64, 64, 64,   65600      ['activation_33[0][0]']          \n",
            " spose)                         64)                                                               \n",
            "                                                                                                  \n",
            " concatenate_7 (Concatenate)    (None, 64, 64, 64,   0           ['conv3d_transpose_7[0][0]',     \n",
            "                                128)                              'activation_19[0][0]']          \n",
            "                                                                                                  \n",
            " conv3d_35 (Conv3D)             (None, 64, 64, 64,   221248      ['concatenate_7[0][0]']          \n",
            "                                64)                                                               \n",
            "                                                                                                  \n",
            " batch_normalization_34 (BatchN  (None, 64, 64, 64,   256        ['conv3d_35[0][0]']              \n",
            " ormalization)                  64)                                                               \n",
            "                                                                                                  \n",
            " activation_34 (Activation)     (None, 64, 64, 64,   0           ['batch_normalization_34[0][0]'] \n",
            "                                64)                                                               \n",
            "                                                                                                  \n",
            " conv3d_36 (Conv3D)             (None, 64, 64, 64,   110656      ['activation_34[0][0]']          \n",
            "                                64)                                                               \n",
            "                                                                                                  \n",
            " batch_normalization_35 (BatchN  (None, 64, 64, 64,   256        ['conv3d_36[0][0]']              \n",
            " ormalization)                  64)                                                               \n",
            "                                                                                                  \n",
            " activation_35 (Activation)     (None, 64, 64, 64,   0           ['batch_normalization_35[0][0]'] \n",
            "                                64)                                                               \n",
            "                                                                                                  \n",
            " conv3d_37 (Conv3D)             (None, 64, 64, 64,   260         ['activation_35[0][0]']          \n",
            "                                4)                                                                \n",
            "                                                                                                  \n",
            "==================================================================================================\n",
            "Total params: 90,319,876\n",
            "Trainable params: 90,308,100\n",
            "Non-trainable params: 11,776\n",
            "__________________________________________________________________________________________________\n",
            "None\n"
          ]
        }
      ]
    },
    {
      "cell_type": "code",
      "metadata": {
        "colab": {
          "base_uri": "https://localhost:8080/"
        },
        "id": "sivlad34SyKP",
        "outputId": "12696885-0bc5-4211-f093-b8fce0f8ea16"
      },
      "source": [
        "print(model.input_shape)\n",
        "print(X_train.shape)\n",
        "print(model.output_shape)\n",
        "print(y_train.shape)\n",
        "print(\"-------------------\")\n",
        "print(X_train.max())  #Shpuld be 1 after scaling. If it shows 255, go back and normalize/scale inputs\n"
      ],
      "execution_count": 21,
      "outputs": [
        {
          "output_type": "stream",
          "name": "stdout",
          "text": [
            "(None, 64, 64, 64, 3)\n",
            "(57, 64, 64, 64, 3)\n",
            "(None, 64, 64, 64, 4)\n",
            "(57, 64, 64, 64, 4)\n",
            "-------------------\n",
            "1.0\n"
          ]
        }
      ]
    },
    {
      "cell_type": "code",
      "metadata": {
        "id": "f69gK8DoAQ1C",
        "colab": {
          "base_uri": "https://localhost:8080/"
        },
        "outputId": "851114b7-6b0d-4698-9c80-9365824b373f"
      },
      "source": [
        "#Fit the model\n",
        "history=model.fit(X_train, \n",
        "          y_train,\n",
        "          batch_size=8, \n",
        "          epochs=120,\n",
        "          verbose=1,\n",
        "          validation_data=(X_test, y_test))"
      ],
      "execution_count": 22,
      "outputs": [
        {
          "output_type": "stream",
          "name": "stdout",
          "text": [
            "Epoch 1/120\n",
            "8/8 [==============================] - 73s 5s/step - loss: 0.4786 - dice_coefficient: 0.5287 - val_loss: 0.7513 - val_dice_coefficient: 0.2487\n",
            "Epoch 2/120\n",
            "8/8 [==============================] - 28s 3s/step - loss: 0.3111 - dice_coefficient: 0.6931 - val_loss: 0.7432 - val_dice_coefficient: 0.2568\n",
            "Epoch 3/120\n",
            "8/8 [==============================] - 27s 3s/step - loss: 0.2486 - dice_coefficient: 0.7439 - val_loss: 0.7084 - val_dice_coefficient: 0.2916\n",
            "Epoch 4/120\n",
            "8/8 [==============================] - 27s 3s/step - loss: 0.2128 - dice_coefficient: 0.7884 - val_loss: 0.6675 - val_dice_coefficient: 0.3325\n",
            "Epoch 5/120\n",
            "8/8 [==============================] - 27s 3s/step - loss: 0.1901 - dice_coefficient: 0.7975 - val_loss: 0.6177 - val_dice_coefficient: 0.3823\n",
            "Epoch 6/120\n",
            "8/8 [==============================] - 27s 3s/step - loss: 0.1753 - dice_coefficient: 0.8217 - val_loss: 0.5703 - val_dice_coefficient: 0.4297\n",
            "Epoch 7/120\n",
            "8/8 [==============================] - 27s 3s/step - loss: 0.1609 - dice_coefficient: 0.8391 - val_loss: 0.5285 - val_dice_coefficient: 0.4715\n",
            "Epoch 8/120\n",
            "8/8 [==============================] - 27s 3s/step - loss: 0.1487 - dice_coefficient: 0.8508 - val_loss: 0.5140 - val_dice_coefficient: 0.4860\n",
            "Epoch 9/120\n",
            "8/8 [==============================] - 27s 3s/step - loss: 0.1462 - dice_coefficient: 0.8456 - val_loss: 0.4995 - val_dice_coefficient: 0.5005\n",
            "Epoch 10/120\n",
            "8/8 [==============================] - 28s 3s/step - loss: 0.1343 - dice_coefficient: 0.8576 - val_loss: 0.4441 - val_dice_coefficient: 0.5559\n",
            "Epoch 11/120\n",
            "8/8 [==============================] - 27s 3s/step - loss: 0.1301 - dice_coefficient: 0.8705 - val_loss: 0.4471 - val_dice_coefficient: 0.5529\n",
            "Epoch 12/120\n",
            "8/8 [==============================] - 27s 3s/step - loss: 0.1252 - dice_coefficient: 0.8749 - val_loss: 0.4115 - val_dice_coefficient: 0.5885\n",
            "Epoch 13/120\n",
            "8/8 [==============================] - 28s 3s/step - loss: 0.1217 - dice_coefficient: 0.8794 - val_loss: 0.3975 - val_dice_coefficient: 0.6025\n",
            "Epoch 14/120\n",
            "8/8 [==============================] - 28s 3s/step - loss: 0.1168 - dice_coefficient: 0.8796 - val_loss: 0.3750 - val_dice_coefficient: 0.6250\n",
            "Epoch 15/120\n",
            "8/8 [==============================] - 27s 3s/step - loss: 0.1169 - dice_coefficient: 0.8708 - val_loss: 0.3777 - val_dice_coefficient: 0.6223\n",
            "Epoch 16/120\n",
            "8/8 [==============================] - 27s 3s/step - loss: 0.1197 - dice_coefficient: 0.8807 - val_loss: 0.3696 - val_dice_coefficient: 0.6304\n",
            "Epoch 17/120\n",
            "8/8 [==============================] - 28s 3s/step - loss: 0.1149 - dice_coefficient: 0.8805 - val_loss: 0.3567 - val_dice_coefficient: 0.6433\n",
            "Epoch 18/120\n",
            "8/8 [==============================] - 28s 3s/step - loss: 0.1101 - dice_coefficient: 0.8906 - val_loss: 0.3554 - val_dice_coefficient: 0.6446\n",
            "Epoch 19/120\n",
            "8/8 [==============================] - 27s 3s/step - loss: 0.1050 - dice_coefficient: 0.8917 - val_loss: 0.3323 - val_dice_coefficient: 0.6677\n",
            "Epoch 20/120\n",
            "8/8 [==============================] - 27s 3s/step - loss: 0.1051 - dice_coefficient: 0.8897 - val_loss: 0.3318 - val_dice_coefficient: 0.6682\n",
            "Epoch 21/120\n",
            "8/8 [==============================] - 27s 3s/step - loss: 0.1040 - dice_coefficient: 0.8936 - val_loss: 0.3128 - val_dice_coefficient: 0.6872\n",
            "Epoch 22/120\n",
            "8/8 [==============================] - 28s 3s/step - loss: 0.0999 - dice_coefficient: 0.8996 - val_loss: 0.3154 - val_dice_coefficient: 0.6846\n",
            "Epoch 23/120\n",
            "8/8 [==============================] - 27s 3s/step - loss: 0.0971 - dice_coefficient: 0.9010 - val_loss: 0.2934 - val_dice_coefficient: 0.7066\n",
            "Epoch 24/120\n",
            "8/8 [==============================] - 27s 3s/step - loss: 0.0948 - dice_coefficient: 0.9015 - val_loss: 0.2879 - val_dice_coefficient: 0.7121\n",
            "Epoch 25/120\n",
            "8/8 [==============================] - 27s 3s/step - loss: 0.0947 - dice_coefficient: 0.9057 - val_loss: 0.2728 - val_dice_coefficient: 0.7272\n",
            "Epoch 26/120\n",
            "8/8 [==============================] - 27s 3s/step - loss: 0.0934 - dice_coefficient: 0.9040 - val_loss: 0.2762 - val_dice_coefficient: 0.7238\n",
            "Epoch 27/120\n",
            "8/8 [==============================] - 28s 3s/step - loss: 0.0920 - dice_coefficient: 0.9076 - val_loss: 0.2684 - val_dice_coefficient: 0.7316\n",
            "Epoch 28/120\n",
            "8/8 [==============================] - 27s 3s/step - loss: 0.0895 - dice_coefficient: 0.9080 - val_loss: 0.2697 - val_dice_coefficient: 0.7303\n",
            "Epoch 29/120\n",
            "8/8 [==============================] - 27s 3s/step - loss: 0.0852 - dice_coefficient: 0.9154 - val_loss: 0.2607 - val_dice_coefficient: 0.7393\n",
            "Epoch 30/120\n",
            "8/8 [==============================] - 27s 3s/step - loss: 0.0855 - dice_coefficient: 0.9153 - val_loss: 0.2534 - val_dice_coefficient: 0.7466\n",
            "Epoch 31/120\n",
            "8/8 [==============================] - 28s 3s/step - loss: 0.0855 - dice_coefficient: 0.9123 - val_loss: 0.2615 - val_dice_coefficient: 0.7385\n",
            "Epoch 32/120\n",
            "8/8 [==============================] - 27s 3s/step - loss: 0.0826 - dice_coefficient: 0.9157 - val_loss: 0.2465 - val_dice_coefficient: 0.7535\n",
            "Epoch 33/120\n",
            "8/8 [==============================] - 27s 3s/step - loss: 0.0813 - dice_coefficient: 0.9157 - val_loss: 0.2522 - val_dice_coefficient: 0.7478\n",
            "Epoch 34/120\n",
            "8/8 [==============================] - 27s 3s/step - loss: 0.0809 - dice_coefficient: 0.9181 - val_loss: 0.2448 - val_dice_coefficient: 0.7552\n",
            "Epoch 35/120\n",
            "8/8 [==============================] - 27s 3s/step - loss: 0.0780 - dice_coefficient: 0.9156 - val_loss: 0.2406 - val_dice_coefficient: 0.7594\n",
            "Epoch 36/120\n",
            "8/8 [==============================] - 28s 3s/step - loss: 0.0845 - dice_coefficient: 0.9124 - val_loss: 0.2408 - val_dice_coefficient: 0.7592\n",
            "Epoch 37/120\n",
            "8/8 [==============================] - 27s 3s/step - loss: 0.0799 - dice_coefficient: 0.9211 - val_loss: 0.2524 - val_dice_coefficient: 0.7476\n",
            "Epoch 38/120\n",
            "8/8 [==============================] - 27s 3s/step - loss: 0.0776 - dice_coefficient: 0.9163 - val_loss: 0.2482 - val_dice_coefficient: 0.7518\n",
            "Epoch 39/120\n",
            "8/8 [==============================] - 27s 3s/step - loss: 0.0764 - dice_coefficient: 0.9236 - val_loss: 0.2449 - val_dice_coefficient: 0.7551\n",
            "Epoch 40/120\n",
            "8/8 [==============================] - 27s 3s/step - loss: 0.0770 - dice_coefficient: 0.9180 - val_loss: 0.2457 - val_dice_coefficient: 0.7543\n",
            "Epoch 41/120\n",
            "8/8 [==============================] - 27s 3s/step - loss: 0.0764 - dice_coefficient: 0.9115 - val_loss: 0.2355 - val_dice_coefficient: 0.7645\n",
            "Epoch 42/120\n",
            "8/8 [==============================] - 27s 3s/step - loss: 0.0761 - dice_coefficient: 0.9184 - val_loss: 0.2262 - val_dice_coefficient: 0.7738\n",
            "Epoch 43/120\n",
            "8/8 [==============================] - 27s 3s/step - loss: 0.0748 - dice_coefficient: 0.9267 - val_loss: 0.2314 - val_dice_coefficient: 0.7686\n",
            "Epoch 44/120\n",
            "8/8 [==============================] - 28s 3s/step - loss: 0.0725 - dice_coefficient: 0.9279 - val_loss: 0.2256 - val_dice_coefficient: 0.7744\n",
            "Epoch 45/120\n",
            "8/8 [==============================] - 27s 3s/step - loss: 0.0697 - dice_coefficient: 0.9256 - val_loss: 0.2239 - val_dice_coefficient: 0.7761\n",
            "Epoch 46/120\n",
            "8/8 [==============================] - 27s 3s/step - loss: 0.0675 - dice_coefficient: 0.9292 - val_loss: 0.2216 - val_dice_coefficient: 0.7784\n",
            "Epoch 47/120\n",
            "8/8 [==============================] - 27s 3s/step - loss: 0.0670 - dice_coefficient: 0.9328 - val_loss: 0.2162 - val_dice_coefficient: 0.7838\n",
            "Epoch 48/120\n",
            "8/8 [==============================] - 28s 3s/step - loss: 0.0667 - dice_coefficient: 0.9303 - val_loss: 0.2118 - val_dice_coefficient: 0.7882\n",
            "Epoch 49/120\n",
            "8/8 [==============================] - 27s 3s/step - loss: 0.0664 - dice_coefficient: 0.9280 - val_loss: 0.2108 - val_dice_coefficient: 0.7892\n",
            "Epoch 50/120\n",
            "8/8 [==============================] - 27s 3s/step - loss: 0.0711 - dice_coefficient: 0.9286 - val_loss: 0.2091 - val_dice_coefficient: 0.7909\n",
            "Epoch 51/120\n",
            "8/8 [==============================] - 27s 3s/step - loss: 0.0668 - dice_coefficient: 0.9332 - val_loss: 0.2133 - val_dice_coefficient: 0.7867\n",
            "Epoch 52/120\n",
            "8/8 [==============================] - 28s 3s/step - loss: 0.0677 - dice_coefficient: 0.9250 - val_loss: 0.2049 - val_dice_coefficient: 0.7951\n",
            "Epoch 53/120\n",
            "8/8 [==============================] - 27s 3s/step - loss: 0.0649 - dice_coefficient: 0.9329 - val_loss: 0.2054 - val_dice_coefficient: 0.7946\n",
            "Epoch 54/120\n",
            "8/8 [==============================] - 28s 3s/step - loss: 0.0644 - dice_coefficient: 0.9351 - val_loss: 0.2041 - val_dice_coefficient: 0.7959\n",
            "Epoch 55/120\n",
            "8/8 [==============================] - 27s 3s/step - loss: 0.0661 - dice_coefficient: 0.9319 - val_loss: 0.2083 - val_dice_coefficient: 0.7917\n",
            "Epoch 56/120\n",
            "8/8 [==============================] - 27s 3s/step - loss: 0.0642 - dice_coefficient: 0.9353 - val_loss: 0.2001 - val_dice_coefficient: 0.7999\n",
            "Epoch 57/120\n",
            "8/8 [==============================] - 27s 3s/step - loss: 0.0619 - dice_coefficient: 0.9390 - val_loss: 0.2043 - val_dice_coefficient: 0.7957\n",
            "Epoch 58/120\n",
            "8/8 [==============================] - 27s 3s/step - loss: 0.0606 - dice_coefficient: 0.9348 - val_loss: 0.1964 - val_dice_coefficient: 0.8036\n",
            "Epoch 59/120\n",
            "8/8 [==============================] - 27s 3s/step - loss: 0.0619 - dice_coefficient: 0.9392 - val_loss: 0.1922 - val_dice_coefficient: 0.8078\n",
            "Epoch 60/120\n",
            "8/8 [==============================] - 28s 3s/step - loss: 0.0592 - dice_coefficient: 0.9385 - val_loss: 0.2040 - val_dice_coefficient: 0.7959\n",
            "Epoch 61/120\n",
            "8/8 [==============================] - 27s 3s/step - loss: 0.0612 - dice_coefficient: 0.9361 - val_loss: 0.1813 - val_dice_coefficient: 0.8187\n",
            "Epoch 62/120\n",
            "8/8 [==============================] - 27s 3s/step - loss: 0.0585 - dice_coefficient: 0.9400 - val_loss: 0.1782 - val_dice_coefficient: 0.8218\n",
            "Epoch 63/120\n",
            "8/8 [==============================] - 27s 3s/step - loss: 0.0569 - dice_coefficient: 0.9423 - val_loss: 0.1767 - val_dice_coefficient: 0.8233\n",
            "Epoch 64/120\n",
            "8/8 [==============================] - 28s 3s/step - loss: 0.0568 - dice_coefficient: 0.9396 - val_loss: 0.1739 - val_dice_coefficient: 0.8261\n",
            "Epoch 65/120\n",
            "8/8 [==============================] - 27s 3s/step - loss: 0.0605 - dice_coefficient: 0.9398 - val_loss: 0.1458 - val_dice_coefficient: 0.8542\n",
            "Epoch 66/120\n",
            "8/8 [==============================] - 27s 3s/step - loss: 0.0563 - dice_coefficient: 0.9439 - val_loss: 0.1643 - val_dice_coefficient: 0.8357\n",
            "Epoch 67/120\n",
            "8/8 [==============================] - 27s 3s/step - loss: 0.0559 - dice_coefficient: 0.9441 - val_loss: 0.1404 - val_dice_coefficient: 0.8596\n",
            "Epoch 68/120\n",
            "8/8 [==============================] - 27s 3s/step - loss: 0.0542 - dice_coefficient: 0.9447 - val_loss: 0.1470 - val_dice_coefficient: 0.8530\n",
            "Epoch 69/120\n",
            "8/8 [==============================] - 27s 3s/step - loss: 0.0526 - dice_coefficient: 0.9465 - val_loss: 0.1113 - val_dice_coefficient: 0.8887\n",
            "Epoch 70/120\n",
            "8/8 [==============================] - 27s 3s/step - loss: 0.0561 - dice_coefficient: 0.9334 - val_loss: 0.1227 - val_dice_coefficient: 0.8773\n",
            "Epoch 71/120\n",
            "8/8 [==============================] - 27s 3s/step - loss: 0.0590 - dice_coefficient: 0.9397 - val_loss: 0.0835 - val_dice_coefficient: 0.9165\n",
            "Epoch 72/120\n",
            "8/8 [==============================] - 27s 3s/step - loss: 0.0570 - dice_coefficient: 0.9342 - val_loss: 0.0820 - val_dice_coefficient: 0.9180\n",
            "Epoch 73/120\n",
            "8/8 [==============================] - 28s 3s/step - loss: 0.0549 - dice_coefficient: 0.9429 - val_loss: 0.0939 - val_dice_coefficient: 0.9061\n",
            "Epoch 74/120\n",
            "8/8 [==============================] - 27s 3s/step - loss: 0.0550 - dice_coefficient: 0.9415 - val_loss: 0.0818 - val_dice_coefficient: 0.9182\n",
            "Epoch 75/120\n",
            "8/8 [==============================] - 27s 3s/step - loss: 0.0545 - dice_coefficient: 0.9446 - val_loss: 0.0775 - val_dice_coefficient: 0.9225\n",
            "Epoch 76/120\n",
            "8/8 [==============================] - 27s 3s/step - loss: 0.0536 - dice_coefficient: 0.9438 - val_loss: 0.0883 - val_dice_coefficient: 0.9117\n",
            "Epoch 77/120\n",
            "8/8 [==============================] - 28s 3s/step - loss: 0.0520 - dice_coefficient: 0.9401 - val_loss: 0.0805 - val_dice_coefficient: 0.9195\n",
            "Epoch 78/120\n",
            "8/8 [==============================] - 27s 3s/step - loss: 0.0523 - dice_coefficient: 0.9314 - val_loss: 0.0742 - val_dice_coefficient: 0.9258\n",
            "Epoch 79/120\n",
            "8/8 [==============================] - 27s 3s/step - loss: 0.0533 - dice_coefficient: 0.9469 - val_loss: 0.0806 - val_dice_coefficient: 0.9194\n",
            "Epoch 80/120\n",
            "8/8 [==============================] - 27s 3s/step - loss: 0.0529 - dice_coefficient: 0.9463 - val_loss: 0.0766 - val_dice_coefficient: 0.9234\n",
            "Epoch 81/120\n",
            "8/8 [==============================] - 27s 3s/step - loss: 0.0594 - dice_coefficient: 0.8776 - val_loss: 0.0976 - val_dice_coefficient: 0.9024\n",
            "Epoch 82/120\n",
            "8/8 [==============================] - 27s 3s/step - loss: 0.0618 - dice_coefficient: 0.9374 - val_loss: 0.1383 - val_dice_coefficient: 0.8617\n",
            "Epoch 83/120\n",
            "8/8 [==============================] - 27s 3s/step - loss: 0.0580 - dice_coefficient: 0.9376 - val_loss: 0.1587 - val_dice_coefficient: 0.8413\n",
            "Epoch 84/120\n",
            "8/8 [==============================] - 27s 3s/step - loss: 0.0583 - dice_coefficient: 0.9417 - val_loss: 0.1202 - val_dice_coefficient: 0.8798\n",
            "Epoch 85/120\n",
            "8/8 [==============================] - 27s 3s/step - loss: 0.0602 - dice_coefficient: 0.8975 - val_loss: 0.1186 - val_dice_coefficient: 0.8814\n",
            "Epoch 86/120\n",
            "8/8 [==============================] - 27s 3s/step - loss: 0.0602 - dice_coefficient: 0.9274 - val_loss: 0.1723 - val_dice_coefficient: 0.8277\n",
            "Epoch 87/120\n",
            "8/8 [==============================] - 27s 3s/step - loss: 0.0611 - dice_coefficient: 0.9378 - val_loss: 0.3358 - val_dice_coefficient: 0.6642\n",
            "Epoch 88/120\n",
            "8/8 [==============================] - 27s 3s/step - loss: 0.0640 - dice_coefficient: 0.9335 - val_loss: 0.2354 - val_dice_coefficient: 0.7646\n",
            "Epoch 89/120\n",
            "8/8 [==============================] - 27s 3s/step - loss: 0.0579 - dice_coefficient: 0.9421 - val_loss: 0.2234 - val_dice_coefficient: 0.7766\n",
            "Epoch 90/120\n",
            "8/8 [==============================] - 28s 3s/step - loss: 0.0529 - dice_coefficient: 0.9475 - val_loss: 0.2277 - val_dice_coefficient: 0.7723\n",
            "Epoch 91/120\n",
            "8/8 [==============================] - 28s 3s/step - loss: 0.0525 - dice_coefficient: 0.9481 - val_loss: 0.2034 - val_dice_coefficient: 0.7966\n",
            "Epoch 92/120\n",
            "8/8 [==============================] - 28s 3s/step - loss: 0.0505 - dice_coefficient: 0.9462 - val_loss: 0.1914 - val_dice_coefficient: 0.8086\n",
            "Epoch 93/120\n",
            "8/8 [==============================] - 27s 3s/step - loss: 0.0497 - dice_coefficient: 0.9483 - val_loss: 0.1685 - val_dice_coefficient: 0.8315\n",
            "Epoch 94/120\n",
            "8/8 [==============================] - 28s 3s/step - loss: 0.0488 - dice_coefficient: 0.9521 - val_loss: 0.1507 - val_dice_coefficient: 0.8493\n",
            "Epoch 95/120\n",
            "8/8 [==============================] - 28s 3s/step - loss: 0.0468 - dice_coefficient: 0.9504 - val_loss: 0.1562 - val_dice_coefficient: 0.8438\n",
            "Epoch 96/120\n",
            "8/8 [==============================] - 27s 3s/step - loss: 0.0491 - dice_coefficient: 0.9346 - val_loss: 0.1232 - val_dice_coefficient: 0.8768\n",
            "Epoch 97/120\n",
            "8/8 [==============================] - 28s 3s/step - loss: 0.0482 - dice_coefficient: 0.9479 - val_loss: 0.1150 - val_dice_coefficient: 0.8850\n",
            "Epoch 98/120\n",
            "8/8 [==============================] - 27s 3s/step - loss: 0.0518 - dice_coefficient: 0.9454 - val_loss: 0.0734 - val_dice_coefficient: 0.9266\n",
            "Epoch 99/120\n",
            "8/8 [==============================] - 27s 3s/step - loss: 0.0557 - dice_coefficient: 0.8925 - val_loss: 0.1055 - val_dice_coefficient: 0.8945\n",
            "Epoch 100/120\n",
            "8/8 [==============================] - 27s 3s/step - loss: 0.0507 - dice_coefficient: 0.9497 - val_loss: 0.0914 - val_dice_coefficient: 0.9086\n",
            "Epoch 101/120\n",
            "8/8 [==============================] - 27s 3s/step - loss: 0.0521 - dice_coefficient: 0.9466 - val_loss: 0.0698 - val_dice_coefficient: 0.9302\n",
            "Epoch 102/120\n",
            "8/8 [==============================] - 28s 3s/step - loss: 0.0490 - dice_coefficient: 0.9502 - val_loss: 0.0662 - val_dice_coefficient: 0.9338\n",
            "Epoch 103/120\n",
            "8/8 [==============================] - 27s 3s/step - loss: 0.0448 - dice_coefficient: 0.9541 - val_loss: 0.0663 - val_dice_coefficient: 0.9337\n",
            "Epoch 104/120\n",
            "8/8 [==============================] - 27s 3s/step - loss: 0.0450 - dice_coefficient: 0.9556 - val_loss: 0.0702 - val_dice_coefficient: 0.9298\n",
            "Epoch 105/120\n",
            "8/8 [==============================] - 27s 3s/step - loss: 0.0437 - dice_coefficient: 0.9483 - val_loss: 0.0675 - val_dice_coefficient: 0.9325\n",
            "Epoch 106/120\n",
            "8/8 [==============================] - 27s 3s/step - loss: 0.0428 - dice_coefficient: 0.9565 - val_loss: 0.0720 - val_dice_coefficient: 0.9280\n",
            "Epoch 107/120\n",
            "8/8 [==============================] - 27s 3s/step - loss: 0.0412 - dice_coefficient: 0.9574 - val_loss: 0.0672 - val_dice_coefficient: 0.9328\n",
            "Epoch 108/120\n",
            "8/8 [==============================] - 27s 3s/step - loss: 0.0418 - dice_coefficient: 0.9538 - val_loss: 0.0693 - val_dice_coefficient: 0.9307\n",
            "Epoch 109/120\n",
            "8/8 [==============================] - 27s 3s/step - loss: 0.0443 - dice_coefficient: 0.9530 - val_loss: 0.0606 - val_dice_coefficient: 0.9394\n",
            "Epoch 110/120\n",
            "8/8 [==============================] - 28s 3s/step - loss: 0.0463 - dice_coefficient: 0.9432 - val_loss: 0.0674 - val_dice_coefficient: 0.9326\n",
            "Epoch 111/120\n",
            "8/8 [==============================] - 27s 3s/step - loss: 0.0445 - dice_coefficient: 0.9546 - val_loss: 0.0651 - val_dice_coefficient: 0.9349\n",
            "Epoch 112/120\n",
            "8/8 [==============================] - 27s 3s/step - loss: 0.0447 - dice_coefficient: 0.9548 - val_loss: 0.0747 - val_dice_coefficient: 0.9253\n",
            "Epoch 113/120\n",
            "8/8 [==============================] - 28s 3s/step - loss: 0.0420 - dice_coefficient: 0.9506 - val_loss: 0.0704 - val_dice_coefficient: 0.9296\n",
            "Epoch 114/120\n",
            "8/8 [==============================] - 27s 3s/step - loss: 0.0419 - dice_coefficient: 0.9457 - val_loss: 0.0680 - val_dice_coefficient: 0.9320\n",
            "Epoch 115/120\n",
            "8/8 [==============================] - 28s 3s/step - loss: 0.0418 - dice_coefficient: 0.9577 - val_loss: 0.0720 - val_dice_coefficient: 0.9280\n",
            "Epoch 116/120\n",
            "8/8 [==============================] - 27s 3s/step - loss: 0.0401 - dice_coefficient: 0.9592 - val_loss: 0.0766 - val_dice_coefficient: 0.9234\n",
            "Epoch 117/120\n",
            "8/8 [==============================] - 27s 3s/step - loss: 0.0395 - dice_coefficient: 0.9614 - val_loss: 0.0700 - val_dice_coefficient: 0.9300\n",
            "Epoch 118/120\n",
            "8/8 [==============================] - 27s 3s/step - loss: 0.0393 - dice_coefficient: 0.9617 - val_loss: 0.0693 - val_dice_coefficient: 0.9307\n",
            "Epoch 119/120\n",
            "8/8 [==============================] - 27s 3s/step - loss: 0.0379 - dice_coefficient: 0.9629 - val_loss: 0.0628 - val_dice_coefficient: 0.9372\n",
            "Epoch 120/120\n",
            "8/8 [==============================] - 28s 3s/step - loss: 0.0387 - dice_coefficient: 0.9611 - val_loss: 0.0658 - val_dice_coefficient: 0.9342\n"
          ]
        }
      ]
    },
    {
      "cell_type": "code",
      "metadata": {
        "id": "LVTe3TrrE6DS"
      },
      "source": [
        "#Save model for future use\n",
        "model.save('/content/drive/MyDrive/Colab Notebooks/models/sandstone_3D_120epochs.h5')"
      ],
      "execution_count": 23,
      "outputs": []
    },
    {
      "cell_type": "code",
      "metadata": {
        "id": "5Nk4OFMzAoLk",
        "colab": {
          "base_uri": "https://localhost:8080/",
          "height": 573
        },
        "outputId": "767b4dce-a99f-4d68-e9ea-8a9bbe2903ed"
      },
      "source": [
        "###\n",
        "#plot the training and validation IoU and loss at each epoch\n",
        "loss = history.history['loss']\n",
        "val_loss = history.history['val_loss']\n",
        "epochs = range(1, len(loss) + 1)\n",
        "plt.plot(epochs, loss, 'y', label='Training loss')\n",
        "plt.plot(epochs, val_loss, 'r', label='Validation loss')\n",
        "plt.title('Training and validation loss')\n",
        "plt.xlabel('Epochs')\n",
        "plt.ylabel('Loss')\n",
        "plt.legend()\n",
        "plt.show()\n",
        "\n",
        "acc = history.history['dice_coefficient']\n",
        "val_acc = history.history['val_dice_coefficient']\n",
        "\n",
        "plt.plot(epochs, acc, 'y', label='Training Dice')\n",
        "plt.plot(epochs, val_acc, 'r', label='Validation Dice')\n",
        "plt.title('Training and validation Dice')\n",
        "plt.xlabel('Epochs')\n",
        "plt.ylabel('Dice')\n",
        "plt.legend()\n",
        "plt.show()"
      ],
      "execution_count": 24,
      "outputs": [
        {
          "output_type": "display_data",
          "data": {
            "text/plain": [
              "<Figure size 432x288 with 1 Axes>"
            ],
            "image/png": "[encoded data removed]"
          },
          "metadata": {
            "needs_background": "light"
          }
        },
        {
          "output_type": "display_data",
          "data": {
            "text/plain": [
              "<Figure size 432x288 with 1 Axes>"
            ],
            "image/png": "[encoded data removed]"
          },
          "metadata": {
            "needs_background": "light"
          }
        }
      ]
    },
    {
      "cell_type": "code",
      "metadata": {
        "id": "lwjlR25nF54w"
      },
      "source": [
        "#Load the pretrained model for testing and predictions. \n",
        "from keras.models import load_model\n",
        "my_model = load_model('/content/drive/MyDrive/Colab Notebooks/models/sandstone_3D_100epochs.h5', compile=False)\n",
        "#If you load a different model do not forget to preprocess accordingly. "
      ],
      "execution_count": 25,
      "outputs": []
    },
    {
      "cell_type": "code",
      "metadata": {
        "id": "kTAQpcUQA7SN"
      },
      "source": [
        "#Predict on the test data\n",
        "y_pred=my_model.predict(X_test)\n",
        "y_pred_argmax=np.argmax(y_pred, axis=4)\n",
        "y_test_argmax = np.argmax(y_test, axis=4)\n"
      ],
      "execution_count": 26,
      "outputs": []
    },
    {
      "cell_type": "code",
      "metadata": {
        "id": "FjHYiOqYBifK",
        "colab": {
          "base_uri": "https://localhost:8080/"
        },
        "outputId": "244135a1-bdc5-45f1-f9d9-e38bb604fb58"
      },
      "source": [
        "print(y_pred_argmax.shape)\n",
        "print(y_test_argmax.shape)\n",
        "print(np.unique(y_pred_argmax))"
      ],
      "execution_count": 27,
      "outputs": [
        {
          "output_type": "stream",
          "name": "stdout",
          "text": [
            "(7, 64, 64, 64)\n",
            "(7, 64, 64, 64)\n",
            "[0 1 2 3]\n"
          ]
        }
      ]
    },
    {
      "cell_type": "code",
      "metadata": {
        "id": "3lv4EhPCHsrz",
        "colab": {
          "base_uri": "https://localhost:8080/"
        },
        "outputId": "8c262a40-51ba-4423-b99c-b04524a98e57"
      },
      "source": [
        "#Using built in keras function for IoU\n",
        "#Only works on TF > 2.0\n",
        "from keras.metrics import MeanIoU\n",
        "from keras.metrics import MeanIoU\n",
        "n_classes = 4\n",
        "IOU_keras = MeanIoU(num_classes=n_classes)  \n",
        "IOU_keras.update_state(y_test_argmax, y_pred_argmax)\n",
        "print(\"Mean IoU =\", IOU_keras.result().numpy())"
      ],
      "execution_count": 28,
      "outputs": [
        {
          "output_type": "stream",
          "name": "stdout",
          "text": [
            "Mean IoU = 0.7543529\n"
          ]
        }
      ]
    },
    {
      "cell_type": "code",
      "metadata": {
        "id": "BPcRSfobCBrE",
        "colab": {
          "base_uri": "https://localhost:8080/"
        },
        "outputId": "d2773810-4a15-4806-94d4-cf1031177479"
      },
      "source": [
        "#Test some random images\n",
        "import random\n",
        "test_img_number = random.randint(0, len(X_test))\n",
        "test_img = X_test[test_img_number]\n",
        "ground_truth=y_test[test_img_number]\n",
        "\n",
        "test_img_input=np.expand_dims(test_img, 0)\n",
        "\n",
        "\n",
        "test_pred = my_model.predict(test_img_input)\n",
        "test_prediction = np.argmax(test_pred, axis=4)[0,:,:,:]\n",
        "\n",
        "ground_truth_argmax = np.argmax(ground_truth, axis=3)\n",
        "print(ground_truth_argmax.shape)"
      ],
      "execution_count": 29,
      "outputs": [
        {
          "output_type": "stream",
          "name": "stdout",
          "text": [
            "(64, 64, 64)\n"
          ]
        }
      ]
    },
    {
      "cell_type": "code",
      "metadata": {
        "id": "7W9XsGK7FMuN",
        "colab": {
          "base_uri": "https://localhost:8080/",
          "height": 261
        },
        "outputId": "864dd4ee-b5b9-40a8-df07-5bd5a9659f4c"
      },
      "source": [
        "#Plot individual slices from test predictions for verification\n",
        "slice = random.randint(0, ground_truth_argmax.shape[2]-1)\n",
        "plt.figure(figsize=(12, 8))\n",
        "plt.subplot(231)\n",
        "plt.title('Testing Image')\n",
        "plt.imshow(test_img[slice,:,:,0], cmap='gray')\n",
        "plt.subplot(232)\n",
        "plt.title('Testing Label')\n",
        "plt.imshow(ground_truth_argmax[slice,:,:])\n",
        "plt.subplot(233)\n",
        "plt.title('Prediction on test image')\n",
        "plt.imshow(test_prediction[slice,:,:])\n",
        "plt.show()"
      ],
      "execution_count": 35,
      "outputs": [
        {
          "output_type": "display_data",
          "data": {
            "text/plain": [
              "<Figure size 864x576 with 3 Axes>"
            ],
            "image/png": "[encoded data removed]"
          },
          "metadata": {
            "needs_background": "light"
          }
        }
      ]
    },
    {
      "cell_type": "markdown",
      "metadata": {
        "id": "CNi7_zeC7SmG"
      },
      "source": [
        "Now segment the full volume using the trained model."
      ]
    },
    {
      "cell_type": "code",
      "metadata": {
        "id": "C1eYttiN7tH4",
        "colab": {
          "base_uri": "https://localhost:8080/"
        },
        "outputId": "4a9feb36-7e4c-4ec5-deed-f5a5292b73a2"
      },
      "source": [
        "#Break the large image (volume) into patches of same size as the training images (patches)\n",
        "large_image = io.imread('/content/drive/MyDrive/Colab Notebooks/datasets/sandstone_data_for_ML 2/data_for_3D_Unet/448_images_512x512.tif')\n",
        "patches = patchify(large_image, (64, 64, 64), step=64)  #Step=256 for 256 patches means no overlap\n",
        "print(large_image.shape)\n",
        "print(patches.shape)"
      ],
      "execution_count": 36,
      "outputs": [
        {
          "output_type": "stream",
          "name": "stdout",
          "text": [
            "(448, 512, 512)\n",
            "(7, 8, 8, 64, 64, 64)\n"
          ]
        }
      ]
    },
    {
      "cell_type": "code",
      "metadata": {
        "id": "G6KXGtea89wi"
      },
      "source": [
        "# Predict each 3D patch   \n",
        "predicted_patches = []\n",
        "for i in range(patches.shape[0]):\n",
        "  for j in range(patches.shape[1]):\n",
        "    for k in range(patches.shape[2]):\n",
        "      #print(i,j,k)\n",
        "      single_patch = patches[i,j,k, :,:,:]\n",
        "      single_patch_3ch = np.stack((single_patch,)*3, axis=-1)\n",
        "      single_patch_3ch = single_patch_3ch/255.\n",
        "      single_patch_3ch_input = np.expand_dims(single_patch_3ch, axis=0)\n",
        "      single_patch_prediction = my_model.predict(single_patch_3ch_input)\n",
        "      single_patch_prediction_argmax = np.argmax(single_patch_prediction, axis=4)[0,:,:,:]\n",
        "      predicted_patches.append(single_patch_prediction_argmax)\n",
        "      \n"
      ],
      "execution_count": 37,
      "outputs": []
    },
    {
      "cell_type": "code",
      "metadata": {
        "id": "yxX9vrPMAvK2",
        "colab": {
          "base_uri": "https://localhost:8080/"
        },
        "outputId": "5f148153-7089-4b8b-fe12-fb57bc1cc5b6"
      },
      "source": [
        "#Convert list to numpy array\n",
        "predicted_patches = np.array(predicted_patches)\n",
        "print(predicted_patches.shape)"
      ],
      "execution_count": 38,
      "outputs": [
        {
          "output_type": "stream",
          "name": "stdout",
          "text": [
            "(448, 64, 64, 64)\n"
          ]
        }
      ]
    },
    {
      "cell_type": "code",
      "metadata": {
        "id": "qYQi_STcA6gw",
        "colab": {
          "base_uri": "https://localhost:8080/"
        },
        "outputId": "3c222238-36ac-4c59-b334-1daa258e37fd"
      },
      "source": [
        "#Reshape to the shape we had after patchifying\n",
        "predicted_patches_reshaped = np.reshape(predicted_patches, \n",
        "                                        (patches.shape[0], patches.shape[1], patches.shape[2],\n",
        "                                         patches.shape[3], patches.shape[4], patches.shape[5]) )\n",
        "print(predicted_patches_reshaped.shape)"
      ],
      "execution_count": 39,
      "outputs": [
        {
          "output_type": "stream",
          "name": "stdout",
          "text": [
            "(7, 8, 8, 64, 64, 64)\n"
          ]
        }
      ]
    },
    {
      "cell_type": "code",
      "metadata": {
        "id": "SQcYSuaeBP2i",
        "colab": {
          "base_uri": "https://localhost:8080/"
        },
        "outputId": "9cf40450-897b-4fc7-9843-3a71b950caf5"
      },
      "source": [
        "#Repach individual patches into the orginal volume shape\n",
        "reconstructed_image = unpatchify(predicted_patches_reshaped, large_image.shape)\n",
        "print(reconstructed_image.shape)"
      ],
      "execution_count": 40,
      "outputs": [
        {
          "output_type": "stream",
          "name": "stdout",
          "text": [
            "(448, 512, 512)\n"
          ]
        }
      ]
    },
    {
      "cell_type": "code",
      "metadata": {
        "id": "rFF2FwCGDR1A",
        "colab": {
          "base_uri": "https://localhost:8080/"
        },
        "outputId": "c8392218-c085-4f63-dc57-39c31555b55f"
      },
      "source": [
        "print(reconstructed_image.dtype)"
      ],
      "execution_count": 41,
      "outputs": [
        {
          "output_type": "stream",
          "name": "stdout",
          "text": [
            "int64\n"
          ]
        }
      ]
    },
    {
      "cell_type": "code",
      "metadata": {
        "id": "6VF_g8oLDjKp",
        "colab": {
          "base_uri": "https://localhost:8080/"
        },
        "outputId": "9c742b9e-ced2-4902-95da-0552edeff999"
      },
      "source": [
        "#Convert to uint8 so we can open image in most image viewing software packages\n",
        "reconstructed_image=reconstructed_image.astype(np.uint8)\n",
        "print(reconstructed_image.dtype)"
      ],
      "execution_count": 42,
      "outputs": [
        {
          "output_type": "stream",
          "name": "stdout",
          "text": [
            "uint8\n"
          ]
        }
      ]
    },
    {
      "cell_type": "code",
      "metadata": {
        "id": "OdjWCDYoKLgM"
      },
      "source": [
        "#Now save it as segmented volume.\n",
        "from tifffile import imsave\n",
        "imsave('/content/drive/MyDrive/Colab Notebooks/datasets/sandstone_data_for_ML 2/data_for_3D_Unet/448_images_segmented.tif', reconstructed_image)\n",
        "    "
      ],
      "execution_count": 44,
      "outputs": []
    },
    {
      "cell_type": "code",
      "metadata": {
        "id": "SsBu290SNNSD"
      },
      "source": [
        "#If you would like to save the volume as multichannel dataset...."
      ],
      "execution_count": 45,
      "outputs": []
    },
    {
      "cell_type": "code",
      "metadata": {
        "id": "EMFGGwT8FpEl",
        "colab": {
          "base_uri": "https://localhost:8080/"
        },
        "outputId": "ee1b1183-d18e-451a-fc27-2fe2222f459a"
      },
      "source": [
        "print(np.unique(reconstructed_image))"
      ],
      "execution_count": 46,
      "outputs": [
        {
          "output_type": "stream",
          "name": "stdout",
          "text": [
            "[0 1 2 3]\n"
          ]
        }
      ]
    },
    {
      "cell_type": "code",
      "metadata": {
        "id": "USCSJT4rGBDt"
      },
      "source": [
        "#Seperate each channel/segment to be combined as multiple channels.\n",
        "num_segments=4\n",
        "segm0 = (reconstructed_image == 0)\n",
        "segm1 = (reconstructed_image == 1)\n",
        "segm2 = (reconstructed_image == 2)\n",
        "segm3 = (reconstructed_image == 3)\n",
        "\n",
        "final = np.empty((reconstructed_image.shape[0], reconstructed_image.shape[1], reconstructed_image.shape[2], num_segments))\n",
        "final[:,:,:,0] = segm0\n",
        "final[:,:,:,1] = segm1\n",
        "final[:,:,:,2] = segm2\n",
        "final[:,:,:,3] = segm3"
      ],
      "execution_count": 47,
      "outputs": []
    },
    {
      "cell_type": "code",
      "metadata": {
        "id": "F4ZfPm41J4yk",
        "colab": {
          "base_uri": "https://localhost:8080/"
        },
        "outputId": "3e227f5a-0e85-4fa7-aa55-e54af400e88f"
      },
      "source": [
        "#Use APEER OMETIFF library to read and write multidimensional images\n",
        "!pip install apeer-ometiff-library"
      ],
      "execution_count": 48,
      "outputs": [
        {
          "output_type": "stream",
          "name": "stdout",
          "text": [
            "Collecting apeer-ometiff-library\n",
            "  Downloading apeer_ometiff_library-1.8.2-py3-none-any.whl (17 kB)\n",
            "Requirement already satisfied: numpy in /usr/local/lib/python3.7/dist-packages (from apeer-ometiff-library) (1.21.5)\n",
            "Requirement already satisfied: tifffile in /usr/local/lib/python3.7/dist-packages (from apeer-ometiff-library) (2021.11.2)\n",
            "Installing collected packages: apeer-ometiff-library\n",
            "Successfully installed apeer-ometiff-library-1.8.2\n"
          ]
        }
      ]
    },
    {
      "cell_type": "code",
      "metadata": {
        "id": "enE_X9SCJoYA"
      },
      "source": [
        "from apeer_ometiff_library import io"
      ],
      "execution_count": 49,
      "outputs": []
    },
    {
      "cell_type": "code",
      "metadata": {
        "id": "bj0QC8OWINAD"
      },
      "source": [
        "# Expand image array to 5D of order (T, Z, C, X, Y)\n",
        "# This is the convention for OMETIFF format as written by APEER library\n",
        "final = np.expand_dims(final, axis=0)\n",
        "final=np.swapaxes(final, 2, 4)\n",
        "\n",
        "final = final.astype(np.int8)\n",
        "\n"
      ],
      "execution_count": 50,
      "outputs": []
    },
    {
      "cell_type": "code",
      "metadata": {
        "id": "StgpqkJbIa2F",
        "colab": {
          "base_uri": "https://localhost:8080/"
        },
        "outputId": "71c62eab-8ef0-43c6-9bbf-33d8fd0d8e70"
      },
      "source": [
        "print(\"Shape of the segmented volume is: T, Z, C, X, Y \", final.shape)\n",
        "print(final.dtype)\n"
      ],
      "execution_count": 51,
      "outputs": [
        {
          "output_type": "stream",
          "name": "stdout",
          "text": [
            "Shape of the segmented volume is: T, Z, C, X, Y  (1, 448, 4, 512, 512)\n",
            "int8\n"
          ]
        }
      ]
    },
    {
      "cell_type": "code",
      "metadata": {
        "id": "oT2L6880WY1k"
      },
      "source": [
        "# Write dataset as multi-dimensional OMETIFF *image*\n",
        "io.write_ometiff(\"/content/drive/MyDrive/Colab Notebooks/datasets/sandstone_data_for_ML 2/data_for_3D_Unet/448_segmented_multi_channel.ome.tiff\", final)"
      ],
      "execution_count": 53,
      "outputs": []
    },
    {
      "cell_type": "markdown",
      "metadata": {
        "id": "cFuW0zJBnXqd"
      },
      "source": [
        "You can view multichannel images for free on: www.apeer.com <p>"
      ]
    }
  ]
}