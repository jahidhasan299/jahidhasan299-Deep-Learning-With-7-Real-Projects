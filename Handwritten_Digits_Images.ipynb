{
  "nbformat": 4,
  "nbformat_minor": 0,
  "metadata": {
    "colab": {
      "name": "Handwritten Digits Images.ipynb",
      "provenance": [],
      "collapsed_sections": [],
      "authorship_tag": "ABX9TyOrLxIVtVmPKNpkX6ds2wua",
      "include_colab_link": true
    },
    "kernelspec": {
      "name": "python3",
      "display_name": "Python 3"
    },
    "language_info": {
      "name": "python"
    },
    "accelerator": "GPU"
  },
  "cells": [
    {
      "cell_type": "markdown",
      "metadata": {
        "id": "view-in-github",
        "colab_type": "text"
      },
      "source": [
        "<a href=\"https://colab.research.google.com/github/jahidhasan299/jahidhasan299-Deep-Learning-With-7-Real-Projects/blob/main/Handwritten_Digits_Images.ipynb\" target=\"_parent\"><img src=\"https://colab.research.google.com/assets/colab-badge.svg\" alt=\"Open In Colab\"/></a>"
      ]
    },
    {
      "cell_type": "markdown",
      "source": [
        "An autocoder is a neural network whose purpose is to code it's input into small dimensions and the result obtained to be able to reconstruct the input itself.\n",
        "\n",
        "**Autoencoder's are made up of the union of the following two subnets:**\n",
        "\n",
        "1.   Encoder\n",
        "2.   Decoder\n",
        "\n",
        "It's a loss function calculated as the distance between the amount of information loss between the compressed representation of the data and the data decompressed representation.\n",
        "\n",
        "The keras functional API is the way to go fora defining complex models, such as multioutput models, directed acylic graphs or models with shared layes.\n",
        "\n",
        "There's are 4 simple steps:\n",
        "1.   Define the input: InputModel = input(shape=(784,))\n",
        "2.   Add the encoder layer: EncoderLayer = Dense(32, activation=\"relu\")(InputModel)\n",
        "3. Add the decoder layer: DecoderLayer = Dense(784, activation=\"sigmoid\")(EncoderLayer)\n",
        "4. Instantiate a model: AutoencoderModel = Model(InputModel, DecoderLayer)\n",
        "\n",
        "\n",
        "\n"
      ],
      "metadata": {
        "id": "In4nVxxCKXox"
      }
    },
    {
      "cell_type": "markdown",
      "source": [
        "# Autoencoder Implementation\n",
        "The encoder is a function that compress the index x, info a low dimentional latent vector, 1. This vector represents the important features of the input distribution. The decoder will try to recover the orginal input from the latent vector in the form of x~.\n",
        "\n",
        "x -> Encoder (f(x)) -> latent vector (z) -> (g(z)) -> x~\n",
        "\n",
        "To out the auto encoder into context, x can be MNIST digit that has a dimension of 28 * 28 * 1 = 784. The encoder tranforms the input into a low-dimensional z that can be a 16-dimension latent vector. The decoder will attemp to recover the input in the form of x~ from z.\n",
        "\n",
        "Every MNIST digit z appears to be very similar to x~.\n",
        "\n",
        "7 -> Encoder (f(x)) -> 16-dim (z) -> decoder (g(z)) -> 7\n"
      ],
      "metadata": {
        "id": "ylLCBw7cMg_j"
      }
    },
    {
      "cell_type": "markdown",
      "source": [
        "# Import the nescessary library and data"
      ],
      "metadata": {
        "id": "-5OqsO9XQGvc"
      }
    },
    {
      "cell_type": "code",
      "source": [
        "from tensorflow.keras.layers import Dense, Input, Conv2D, Flatten, Reshape, Conv2DTranspose\n",
        "from tensorflow.keras.models import Model\n",
        "from tensorflow.keras.datasets import mnist\n",
        "from tensorflow.keras.utils import plot_model\n",
        "from tensorflow.keras import backend as k\n",
        "import numpy as np\n",
        "import matplotlib.pyplot as plt"
      ],
      "metadata": {
        "id": "j0ONZE5PMU1X"
      },
      "execution_count": 1,
      "outputs": []
    },
    {
      "cell_type": "code",
      "source": [
        "# Load MNIST Dataset\n",
        "(x_train, _), (x_test, _) = mnist.load_data()\n",
        "# Reshape to (28, 28,1) and normalize input images\n",
        "image_size = x_train.shape[1]\n",
        "x_train = np.reshape(x_train,[-1, image_size, image_size, 1])\n",
        "x_test  = np.reshape(x_test,[-1, image_size, image_size, 1])\n",
        "# Convert the image pixel from 0-255 to 0-1\n",
        "x_train = x_train.astype('float32') / 255\n",
        "x_test  = x_test.astype('float32') / 255\n"
      ],
      "metadata": {
        "colab": {
          "base_uri": "https://localhost:8080/"
        },
        "id": "9dgyT_nOQ2sM",
        "outputId": "28e37225-c1e9-48b9-bdc6-08c38444f6c9"
      },
      "execution_count": 2,
      "outputs": [
        {
          "output_type": "stream",
          "name": "stdout",
          "text": [
            "Downloading data from https://storage.googleapis.com/tensorflow/tf-keras-datasets/mnist.npz\n",
            "11493376/11490434 [==============================] - 0s 0us/step\n",
            "11501568/11490434 [==============================] - 0s 0us/step\n"
          ]
        }
      ]
    },
    {
      "cell_type": "code",
      "source": [
        "#network parameters\n",
        "input_shape = (image_size, image_size, 1)\n",
        "batch_size = 32\n",
        "kernel_size = 3\n",
        "latent_dim = 16\n",
        "# encode / decode number of CNN layers and filters per layer\n",
        "layer_filters = [32,64]\n",
        "# build autoencoder model\n",
        "# The first we will build the encoder model\n",
        "inputs = Input(shape=input_shape, name= 'encoder_input')\n",
        "x = inputs\n",
        "#stack of Conv2D(32)-Conv2D(64)\n",
        "for filters in layer_filters:\n",
        "  x = Conv2D(\n",
        "      filters=filters,\n",
        "      kernel_size = kernel_size,\n",
        "      activation='relu',\n",
        "      strides= 2,\n",
        "      padding='same'\n",
        "  )(x)"
      ],
      "metadata": {
        "id": "5TGKROmXS38z"
      },
      "execution_count": 3,
      "outputs": []
    },
    {
      "cell_type": "code",
      "source": [
        "#shape info needed to build decoder mode\n",
        "# so we do not do hand computation\n",
        "# The input to the decoder's first\n",
        "# Conv2DTranspose will have this shape\n",
        "# shape is (7,7,64) which is processed by the decoder back to (28,28,1)\n",
        "shape = k.int_shape(x)"
      ],
      "metadata": {
        "id": "tK8RtDCHbP8V"
      },
      "execution_count": 4,
      "outputs": []
    },
    {
      "cell_type": "code",
      "source": [
        "#generate latent vector\n",
        "x = Flatten()(x)\n",
        "latent = Dense(latent_dim, name='latent_vector')(x)\n",
        "# instantiate encoder model\n",
        "encoder = Model(inputs,latent,name='encoder')\n",
        "encoder.summary()\n",
        "plot_model(encoder,to_file='encoder.png',show_shapes=True)"
      ],
      "metadata": {
        "id": "GjQQkMUzYbp8"
      },
      "execution_count": null,
      "outputs": []
    },
    {
      "cell_type": "code",
      "source": [
        "# Build the decoder model\n",
        "latent_inputs = Input(shape=(latent_dim, ), name='decoder_input')\n",
        "# use the shape(7, 7, 64) that was earlier saved\n",
        "x = Dense(shape[1] * shape[2] * shape[3])(latent_inputs)\n",
        "# from vector to suitable shape for transposed conv\n",
        "x = Reshape((shape[1], shape[2], shape[3]))(x)\n"
      ],
      "metadata": {
        "id": "LhyA69G2YvBY"
      },
      "execution_count": 6,
      "outputs": []
    },
    {
      "cell_type": "code",
      "source": [
        "#stack of Conv2DTransepose (64)-Conv2DTranspose(32)\n",
        "for filters in layer_filters[::-1]:\n",
        "  x = Conv2DTranspose(\n",
        "      filters=filters,\n",
        "      kernel_size = kernel_size,\n",
        "      activation='relu',\n",
        "      strides= 2,\n",
        "      padding='same'\n",
        "  )(x)"
      ],
      "metadata": {
        "id": "bmnYOX5CZ7Oh"
      },
      "execution_count": 7,
      "outputs": []
    },
    {
      "cell_type": "code",
      "source": [
        "# reconstuct the input\n",
        "outputs = Conv2DTranspose(\n",
        "    filters=1,\n",
        "    kernel_size = kernel_size,\n",
        "    activation='sigmoid',\n",
        "    padding='same',\n",
        "    name = 'decoder_output'\n",
        ")(x)"
      ],
      "metadata": {
        "id": "ERx5YGdjcxpg"
      },
      "execution_count": 8,
      "outputs": []
    },
    {
      "cell_type": "code",
      "source": [
        "# instantiate decoder model\n",
        "decoder = Model(latent_inputs, outputs, name = 'decoder')\n",
        "decoder.summary()"
      ],
      "metadata": {
        "id": "kryOAeJQH_Bx"
      },
      "execution_count": null,
      "outputs": []
    },
    {
      "cell_type": "code",
      "source": [
        "plot_model(decoder, to_file='decoder.png', show_shapes=True)"
      ],
      "metadata": {
        "id": "cGui8MT6IaNa"
      },
      "execution_count": null,
      "outputs": []
    },
    {
      "cell_type": "code",
      "source": [
        "# autoencoder = encoder + decoder\n",
        "# instantiate autoencoder model\n",
        "autoencoder = Model(inputs, decoder(encoder(inputs)),name='autoencoder')\n",
        "autoencoder.summary()"
      ],
      "metadata": {
        "id": "DESGZ23bIriX"
      },
      "execution_count": null,
      "outputs": []
    },
    {
      "cell_type": "code",
      "source": [
        "plot_model(autoencoder, to_file='autoencoder.png', show_shapes=True)\n"
      ],
      "metadata": {
        "id": "gSez4KqAJtcz"
      },
      "execution_count": null,
      "outputs": []
    },
    {
      "cell_type": "code",
      "source": [
        "# Mean square error (MSE) loss function, Adam optimizer\n",
        "autoencoder.compile(loss='mse', optimizer='adam')\n",
        "# Train the autoencoder model\n",
        "autoencoder.fit(x_train, x_train, validation_data=(x_test, x_test), epochs=1, batch_size=batch_size)"
      ],
      "metadata": {
        "colab": {
          "base_uri": "https://localhost:8080/"
        },
        "id": "iOwCRBqbJ3W7",
        "outputId": "e243e9ba-0310-4cef-b908-e2bd29bacfd2"
      },
      "execution_count": 13,
      "outputs": [
        {
          "output_type": "stream",
          "name": "stdout",
          "text": [
            "1875/1875 [==============================] - 24s 8ms/step - loss: 0.0213 - val_loss: 0.0106\n"
          ]
        },
        {
          "output_type": "execute_result",
          "data": {
            "text/plain": [
              "<keras.callbacks.History at 0x7fdd106bca90>"
            ]
          },
          "metadata": {},
          "execution_count": 13
        }
      ]
    },
    {
      "cell_type": "code",
      "source": [
        "# Predict the autoencoder output from the test data\n",
        "x_decoded = autoencoder.predict(x_test)"
      ],
      "metadata": {
        "id": "JTE52iEqKJjl"
      },
      "execution_count": 14,
      "outputs": []
    },
    {
      "cell_type": "markdown",
      "source": [
        "Display the first 8 test input and decoded input"
      ],
      "metadata": {
        "id": "oWbkHomjK1gk"
      }
    },
    {
      "cell_type": "code",
      "source": [
        "imgs = np.concatenate([x_test[:8],x_decoded[:8]])\n",
        "imgs = imgs.reshape(4,4, image_size, image_size)\n",
        "imgs = np.vstack([np.hstack(i) for i in imgs])\n",
        "plt.figure()\n",
        "plt.axis('off')\n",
        "plt.title('Input: 1st and 2nd, Decoder: last 2 rows')\n",
        "plt.imshow(imgs,interpolation='none', cmap='gray')\n",
        "plt.savefig('input_and_deocded.png')\n",
        "plt.show()"
      ],
      "metadata": {
        "colab": {
          "base_uri": "https://localhost:8080/",
          "height": 264
        },
        "id": "o3c3D19rKw6m",
        "outputId": "70aca986-8dcb-46ee-a726-fdd3ad7fdec3"
      },
      "execution_count": 15,
      "outputs": [
        {
          "output_type": "display_data",
          "data": {
            "image/png": "[encoded data removed]",
            "text/plain": [
              "<Figure size 432x288 with 1 Axes>"
            ]
          },
          "metadata": {
            "needs_background": "light"
          }
        }
      ]
    },
    {
      "cell_type": "markdown",
      "source": [
        "Example of autoencoder model on MNIST dataset using 2dim latent The autoencoder forces the encoder to discover 2-dim latent vector that the decoder can recover the original input. The 2-dim latent vector is projected on 2D space to analyze the distribution of codes in the latent space. The latent space can be navigated by vaying the values of latent vetor to produce new MNIST digits.\n",
        "\n",
        "The autoencoder has modular disign. The encoder, decoder and autoencoder are 3 models that share weights. For example, after training the autoencoder, the encoder can be used to genarate latent vectors of input data for low-dim visualization like PCA or TSNE."
      ],
      "metadata": {
        "id": "3gefNuPFVqBb"
      }
    },
    {
      "cell_type": "code",
      "source": [
        "from __future__ import absolute_import, division, print_function\n",
        "import os"
      ],
      "metadata": {
        "id": "zzxNlVJ8L2y7"
      },
      "execution_count": 16,
      "outputs": []
    },
    {
      "cell_type": "code",
      "source": [
        "def plot_result(models, data, batch_size=32, model_name='autoencoder_2dim'):\n",
        "  encoder, decoder = models\n",
        "  x_test, y_test = data\n",
        "  xmin = ymin = -4\n",
        "  xmax = ymax = +4\n",
        "  os.makedurs(model_name,exist_ok=True)\n",
        "  filename = os.path.join(model_name, \"latent2dim.png\")\n",
        "  z = encoder.predict(x_test, batch_size=batch_size)\n",
        "  plt.figure(figsize=(12,10))\n",
        "  axes = plt.gca()\n",
        "  axes.set_xlim([xmin, xmax])\n",
        "  axes.set_ylim([ymin, ymax])\n",
        "  z = z[0::2]\n",
        "  y_test = y_test[0::2]\n",
        "\n",
        "  plt.scatter(z[:, 0], z[:,1], marker=\"\")\n",
        "  for i, digit in enumerate(y_test):\n",
        "    axes.annotate(digit,(z[i, 0], z[i, 1]))\n",
        "    plt.xlabel(\"z[0]\")\n",
        "    plt.ylabel(\"z[1]\")\n",
        "    plt.savefig(filename)\n",
        "    plt.show()\n",
        "    filename = os.path.join(model_name, \"digits_over_latent.png\")\n",
        "    n = 30\n",
        "    digit_size = 28\n",
        "    figure = np.zeros((digit_size*n, digit_size*n))\n",
        "    grid_x = np.linspace(xmin,xmax, n)\n",
        "    grid_y = np.linspace(ymin,ymax, n)[::-1]\n",
        "\n",
        "    for i, yi, in enumerate(grid_y):\n",
        "      for j, xi, in enumerate(grid_x):\n",
        "        z = np.array([[xi,yi]])\n",
        "        x_decoded = decoder.predict(z)\n",
        "        digit = x_decoded[0].reshape(digit_size, digit_size)\n",
        "        figure[i*digit_size: (i+1) * digit_size,j*digit_size: (j+1) * digit_size] = digit\n",
        "    plt.figure(figsize=(10,10))\n",
        "    start_range = digit_size//2\n",
        "    end_range = n * digit_size + start_range + 1\n",
        "    pixel_range = np.arange(start_range, end_range, digit_size)\n",
        "\n",
        "    sample_range_x = np.round(grid_x, 1)\n",
        "    sample_range_y = np.round(grid_y, 1)\n",
        "    plt.xlabel(\"x[0]\")\n",
        "    plt.ylabel(\"x[1]\")\n",
        "    plt.imshow(figure, cmap=\"Grey_r\")\n",
        "    plt.savefig(filename)\n",
        "    plt.show()\n",
        "(x_train, _), (x_test, _) = mnist.load_data()\n",
        "image_size = x_train.shape[1]\n",
        "x_train = np.reshape(x_train,[-1, image_size, image_size, 1])\n",
        "x_test  = np.reshape(x_test,[-1, image_size, image_size, 1])\n",
        "x_train = x_train.astype('float32') / 255\n",
        "x_test  = x_test.astype('float32') / 255\n",
        "input_shape = (image_size, image_size, 1)\n",
        "batch_size = 32\n",
        "kernel_size = 3\n",
        "latent_dim = 2\n",
        "layer_filters = [32,64]\n",
        "inputs = Input(shape=input_shape, name= 'encoder_input')\n",
        "x = inputs\n",
        "for filters in layer_filters:\n",
        "  x = Conv2D(filters=filters,kernel_size = kernel_size,activation='relu',strides= 2,padding='same')(x)\n",
        "shape = k.int_shape(x)\n",
        "x = Flatten()(x)\n",
        "latent = Dense(latent_dim, name='latent_vector')(x)\n",
        "encoder = Model(inputs,latent,name='encoder')\n",
        "encoder.summary()\n",
        "plot_model(encoder,to_file='encoder.png',show_shapes=True)\n",
        "latent_inputs = Input(shape=(latent_dim, ), name='decoder_input')\n",
        "x = Dense(shape[1] * shape[2] * shape[3])(latent_inputs)\n",
        "x = Reshape((shape[1], shape[2], shape[3]))(x)\n",
        "for filters in layer_filters[::-1]:\n",
        "  x = Conv2DTranspose(filters=filters,kernel_size = kernel_size,activation='relu',strides= 2,padding='same')(x)\n",
        "outputs = Conv2DTranspose(filters=1,kernel_size = kernel_size,activation='sigmoid',padding='same',name='decoder_output')(x)\n",
        "decoder = Model(latent_inputs, outputs, name = 'decoder')\n",
        "decoder.summary()\n",
        "plot_model(decoder, to_file='decoder.png', show_shapes=True) # autoencoder = encoder + decoder\n",
        "autoencoder = Model(inputs, decoder(encoder(inputs)),name='autoencoder')\n",
        "autoencoder.summary()\n",
        "plot_model(autoencoder, to_file='autoencoder.png', show_shapes=True)\n",
        "autoencoder.compile(loss='mse',optimizer='adam')\n",
        "autoencoder.fit(x_train, x_train, validation_data=(x_test, x_test), epochs=2, batch_size=batch_size)\n",
        "x_decoded = autoencoder.predict(x_test)\n",
        "imgs = np.concatenate([x_test[:8],x_decoded[:8]])\n",
        "imgs = imgs.reshape(4,4, image_size, image_size)\n",
        "imgs = np.vstack([np.hstack(i) for i in imgs])\n",
        "plt.figure()\n",
        "plt.axis('off')\n",
        "plt.title('Input: 1st and 2nd, Decoder: last 2 rows')\n",
        "plt.imshow(imgs,interpolation='none', cmap='gray')\n",
        "plt.savefig('input_and_decoded.png')\n",
        "plt.show()\n",
        "models = (encoder, decoder)\n",
        "data = (x_test, y_test)\n",
        "plot_result(models, data, batch_size=batch_size, model_name=\"autoencoder_2dim\")"
      ],
      "metadata": {
        "colab": {
          "base_uri": "https://localhost:8080/",
          "height": 1000
        },
        "id": "JVo9tyMqblL4",
        "outputId": "f2d08327-97e2-4aaa-da22-f9cc67e49d4c"
      },
      "execution_count": 22,
      "outputs": [
        {
          "output_type": "stream",
          "name": "stdout",
          "text": [
            "Model: \"encoder\"\n",
            "_________________________________________________________________\n",
            " Layer (type)                Output Shape              Param #   \n",
            "=================================================================\n",
            " encoder_input (InputLayer)  [(None, 28, 28, 1)]       0         \n",
            "                                                                 \n",
            " conv2d_4 (Conv2D)           (None, 14, 14, 32)        320       \n",
            "                                                                 \n",
            " conv2d_5 (Conv2D)           (None, 7, 7, 64)          18496     \n",
            "                                                                 \n",
            " flatten_2 (Flatten)         (None, 3136)              0         \n",
            "                                                                 \n",
            " latent_vector (Dense)       (None, 2)                 6274      \n",
            "                                                                 \n",
            "=================================================================\n",
            "Total params: 25,090\n",
            "Trainable params: 25,090\n",
            "Non-trainable params: 0\n",
            "_________________________________________________________________\n",
            "Model: \"decoder\"\n",
            "_________________________________________________________________\n",
            " Layer (type)                Output Shape              Param #   \n",
            "=================================================================\n",
            " decoder_input (InputLayer)  [(None, 2)]               0         \n",
            "                                                                 \n",
            " dense_2 (Dense)             (None, 3136)              9408      \n",
            "                                                                 \n",
            " reshape_2 (Reshape)         (None, 7, 7, 64)          0         \n",
            "                                                                 \n",
            " conv2d_transpose_4 (Conv2DT  (None, 14, 14, 64)       36928     \n",
            " ranspose)                                                       \n",
            "                                                                 \n",
            " conv2d_transpose_5 (Conv2DT  (None, 28, 28, 32)       18464     \n",
            " ranspose)                                                       \n",
            "                                                                 \n",
            " decoder_output (Conv2DTrans  (None, 28, 28, 1)        289       \n",
            " pose)                                                           \n",
            "                                                                 \n",
            "=================================================================\n",
            "Total params: 65,089\n",
            "Trainable params: 65,089\n",
            "Non-trainable params: 0\n",
            "_________________________________________________________________\n",
            "Model: \"autoencoder\"\n",
            "_________________________________________________________________\n",
            " Layer (type)                Output Shape              Param #   \n",
            "=================================================================\n",
            " encoder_input (InputLayer)  [(None, 28, 28, 1)]       0         \n",
            "                                                                 \n",
            " encoder (Functional)        (None, 2)                 25090     \n",
            "                                                                 \n",
            " decoder (Functional)        (None, 28, 28, 1)         65089     \n",
            "                                                                 \n",
            "=================================================================\n",
            "Total params: 90,179\n",
            "Trainable params: 90,179\n",
            "Non-trainable params: 0\n",
            "_________________________________________________________________\n",
            "Epoch 1/2\n",
            "1875/1875 [==============================] - 15s 8ms/step - loss: 0.0530 - val_loss: 0.0463\n",
            "Epoch 2/2\n",
            "1875/1875 [==============================] - 14s 7ms/step - loss: 0.0453 - val_loss: 0.0445\n"
          ]
        },
        {
          "output_type": "display_data",
          "data": {
            "image/png": "[encoded data removed]",
            "text/plain": [
              "<Figure size 432x288 with 1 Axes>"
            ]
          },
          "metadata": {
            "needs_background": "light"
          }
        },
        {
          "output_type": "error",
          "ename": "NameError",
          "evalue": "ignored",
          "traceback": [
            "\u001b[0;31m---------------------------------------------------------------------------\u001b[0m",
            "\u001b[0;31mNameError\u001b[0m                                 Traceback (most recent call last)",
            "\u001b[0;32m<ipython-input-22-b37f9b64a6fd>\u001b[0m in \u001b[0;36m<module>\u001b[0;34m()\u001b[0m\n\u001b[1;32m     92\u001b[0m \u001b[0mplt\u001b[0m\u001b[0;34m.\u001b[0m\u001b[0mshow\u001b[0m\u001b[0;34m(\u001b[0m\u001b[0;34m)\u001b[0m\u001b[0;34m\u001b[0m\u001b[0;34m\u001b[0m\u001b[0m\n\u001b[1;32m     93\u001b[0m \u001b[0mmodels\u001b[0m \u001b[0;34m=\u001b[0m \u001b[0;34m(\u001b[0m\u001b[0mencoder\u001b[0m\u001b[0;34m,\u001b[0m \u001b[0mdecoder\u001b[0m\u001b[0;34m)\u001b[0m\u001b[0;34m\u001b[0m\u001b[0;34m\u001b[0m\u001b[0m\n\u001b[0;32m---> 94\u001b[0;31m \u001b[0mdata\u001b[0m \u001b[0;34m=\u001b[0m \u001b[0;34m(\u001b[0m\u001b[0mx_test\u001b[0m\u001b[0;34m,\u001b[0m \u001b[0my_test\u001b[0m\u001b[0;34m)\u001b[0m\u001b[0;34m\u001b[0m\u001b[0;34m\u001b[0m\u001b[0m\n\u001b[0m\u001b[1;32m     95\u001b[0m \u001b[0mplot_result\u001b[0m\u001b[0;34m(\u001b[0m\u001b[0mmodels\u001b[0m\u001b[0;34m,\u001b[0m \u001b[0mdata\u001b[0m\u001b[0;34m,\u001b[0m \u001b[0mbatch_size\u001b[0m\u001b[0;34m=\u001b[0m\u001b[0mbatch_size\u001b[0m\u001b[0;34m,\u001b[0m \u001b[0mmodel_name\u001b[0m\u001b[0;34m=\u001b[0m\u001b[0;34m\"autoencoder_2dim\"\u001b[0m\u001b[0;34m)\u001b[0m\u001b[0;34m\u001b[0m\u001b[0;34m\u001b[0m\u001b[0m\n",
            "\u001b[0;31mNameError\u001b[0m: name 'y_test' is not defined"
          ]
        }
      ]
    },
    {
      "cell_type": "markdown",
      "source": [
        "# Image Denoising autoencoders implementaion"
      ],
      "metadata": {
        "id": "qJADhGpU0-4W"
      }
    },
    {
      "cell_type": "code",
      "source": [
        "# Genarate corrupted MNIST images by adding noise with normal dist cetered at 0.5 and std = 0.5 \n",
        "noise = np.random.normal(loc = 0.5, scale=0.5, size=x_train.shape)\n",
        "x_train_noisy = x_train + noise\n",
        "noise = np.random.normal(loc = 0.5, scale=0.5, size=x_test.shape)\n",
        "x_test_noisy = x_test + noise\n",
        "# add noise may exceed normalized pixel value > 1.0 and 0.0\n",
        "x_train_noisy  = np.clip(x_train_noisy, 0., 1.)\n",
        "x_test_noisy  = np.clip(x_test_noisy, 0., 1.)\n",
        "# network parameters\n",
        "input_shape = (image_size, image_size, 1)\n",
        "batch_size = 32\n",
        "kernel_size = 3\n",
        "latent_dim = 16\n",
        "# encoder / decoder number of CNN layers and filters per layer\n",
        "layer_filters = [32,64]"
      ],
      "metadata": {
        "id": "0oqKYsgGb9YW"
      },
      "execution_count": 8,
      "outputs": []
    },
    {
      "cell_type": "code",
      "source": [
        "# build the encoder model\n",
        "inputs = Input(shape=input_shape, name= 'encoder_input')\n",
        "x = inputs\n",
        "\n",
        "# stack of Conv2D (32)-Conv@D(64)\n",
        "for filters in layer_filters:\n",
        "  x = Conv2D(filters=filters, kernel_size=kernel_size, strides=2, activation='relu', padding='same')(x)\n",
        "shape = k.int_shape(x)\n",
        "x = Flatten()(x)\n",
        "latent = Dense(latent_dim, name='latent_vertor')(x)\n",
        "encoder = Model(inputs, latent, name='encoder')\n",
        "encoder.summary()"
      ],
      "metadata": {
        "colab": {
          "base_uri": "https://localhost:8080/"
        },
        "id": "jDQ2t0xd263e",
        "outputId": "951e0058-a4ae-4a32-cd05-ee78d24b6a8a"
      },
      "execution_count": 12,
      "outputs": [
        {
          "output_type": "stream",
          "name": "stdout",
          "text": [
            "Model: \"encoder\"\n",
            "_________________________________________________________________\n",
            " Layer (type)                Output Shape              Param #   \n",
            "=================================================================\n",
            " encoder_input (InputLayer)  [(None, 28, 28, 1)]       0         \n",
            "                                                                 \n",
            " conv2d_8 (Conv2D)           (None, 14, 14, 32)        320       \n",
            "                                                                 \n",
            " conv2d_9 (Conv2D)           (None, 7, 7, 64)          18496     \n",
            "                                                                 \n",
            " flatten_4 (Flatten)         (None, 3136)              0         \n",
            "                                                                 \n",
            " latent_vertor (Dense)       (None, 16)                50192     \n",
            "                                                                 \n",
            "=================================================================\n",
            "Total params: 69,008\n",
            "Trainable params: 69,008\n",
            "Non-trainable params: 0\n",
            "_________________________________________________________________\n"
          ]
        }
      ]
    },
    {
      "cell_type": "code",
      "source": [
        "latent_inputs = Input(shape=(latent_dim, ), name='decoder_input')\n",
        "x = Dense(shape[1] * shape[2] * shape[3])(latent_inputs)\n",
        "x = Reshape((shape[1], shape[2], shape[3]))(x)\n",
        "for filters in layer_filters[::-1]:\n",
        "  x = Conv2DTranspose(filters=filters,kernel_size = kernel_size,activation='relu',strides= 2,padding='same')(x)\n",
        "outputs = Conv2DTranspose(filters=1,kernel_size = kernel_size,activation='sigmoid',padding='same',name='decoder_output')(x)\n",
        "decoder = Model(latent_inputs, outputs, name = 'decoder')\n",
        "decoder.summary()"
      ],
      "metadata": {
        "colab": {
          "base_uri": "https://localhost:8080/"
        },
        "id": "fbXpr2Fu4B--",
        "outputId": "4288d4e9-1b9a-46cd-bbb9-5e5547b0a426"
      },
      "execution_count": 13,
      "outputs": [
        {
          "output_type": "stream",
          "name": "stdout",
          "text": [
            "Model: \"decoder\"\n",
            "_________________________________________________________________\n",
            " Layer (type)                Output Shape              Param #   \n",
            "=================================================================\n",
            " decoder_input (InputLayer)  [(None, 16)]              0         \n",
            "                                                                 \n",
            " dense (Dense)               (None, 3136)              53312     \n",
            "                                                                 \n",
            " reshape (Reshape)           (None, 7, 7, 64)          0         \n",
            "                                                                 \n",
            " conv2d_transpose (Conv2DTra  (None, 14, 14, 64)       36928     \n",
            " nspose)                                                         \n",
            "                                                                 \n",
            " conv2d_transpose_1 (Conv2DT  (None, 28, 28, 32)       18464     \n",
            " ranspose)                                                       \n",
            "                                                                 \n",
            " decoder_output (Conv2DTrans  (None, 28, 28, 1)        289       \n",
            " pose)                                                           \n",
            "                                                                 \n",
            "=================================================================\n",
            "Total params: 108,993\n",
            "Trainable params: 108,993\n",
            "Non-trainable params: 0\n",
            "_________________________________________________________________\n"
          ]
        }
      ]
    },
    {
      "cell_type": "code",
      "source": [
        "autoencoder = Model(inputs, decoder(encoder(inputs)),name='autoencoder')\n",
        "autoencoder.summary()"
      ],
      "metadata": {
        "colab": {
          "base_uri": "https://localhost:8080/"
        },
        "id": "oRb2DPem5RJi",
        "outputId": "8f8bfe9b-17e7-4e6c-ba0a-5dbc6bee8b8f"
      },
      "execution_count": 14,
      "outputs": [
        {
          "output_type": "stream",
          "name": "stdout",
          "text": [
            "Model: \"autoencoder\"\n",
            "_________________________________________________________________\n",
            " Layer (type)                Output Shape              Param #   \n",
            "=================================================================\n",
            " encoder_input (InputLayer)  [(None, 28, 28, 1)]       0         \n",
            "                                                                 \n",
            " encoder (Functional)        (None, 16)                69008     \n",
            "                                                                 \n",
            " decoder (Functional)        (None, 28, 28, 1)         108993    \n",
            "                                                                 \n",
            "=================================================================\n",
            "Total params: 178,001\n",
            "Trainable params: 178,001\n",
            "Non-trainable params: 0\n",
            "_________________________________________________________________\n"
          ]
        }
      ]
    },
    {
      "cell_type": "code",
      "source": [
        "autoencoder.compile(loss='mse',optimizer='adam')\n",
        "autoencoder.fit(x_train, x_train, validation_data=(x_test, x_test), epochs=2, batch_size=batch_size)"
      ],
      "metadata": {
        "colab": {
          "base_uri": "https://localhost:8080/"
        },
        "id": "ZsjWqVWQ5eXH",
        "outputId": "13d87097-660d-461e-9b25-d08203ab4d56"
      },
      "execution_count": 15,
      "outputs": [
        {
          "output_type": "stream",
          "name": "stdout",
          "text": [
            "Epoch 1/2\n",
            "1875/1875 [==============================] - 24s 8ms/step - loss: 0.0214 - val_loss: 0.0105\n",
            "Epoch 2/2\n",
            "1875/1875 [==============================] - 19s 10ms/step - loss: 0.0098 - val_loss: 0.0090\n"
          ]
        },
        {
          "output_type": "execute_result",
          "data": {
            "text/plain": [
              "<keras.callbacks.History at 0x7f3070505650>"
            ]
          },
          "metadata": {},
          "execution_count": 15
        }
      ]
    },
    {
      "cell_type": "code",
      "source": [
        "# Predict the autoencoder output from currupted test images\n",
        "x_decoded = autoencoder.predict(x_test)"
      ],
      "metadata": {
        "id": "3a9dvX105pRY"
      },
      "execution_count": 17,
      "outputs": []
    },
    {
      "cell_type": "code",
      "source": [
        "from PIL import Image\n",
        "rows, cols = 3, 9\n",
        "num = rows * cols\n",
        "imgs = np.concatenate([x_test[:num], x_test_noisy[:num], x_decoded[:num]])\n",
        "imgs = imgs.reshape((rows*3, cols, image_size, image_size))\n",
        "imgs = np.vstack(np.split(imgs, rows, axis=1))\n",
        "imgs = imgs.reshape((rows*3, -1, image_size, image_size))\n",
        "imgs = np.vstack([np.hstack(i) for i in imgs])\n",
        "imgs = (imgs*255).astype(np.uint8)\n",
        "plt.figure()\n",
        "plt.axis('off')\n",
        "plt.title('Original images: top tows, ' 'Currpted images: middle rows,' 'Disnoised images: bottom rows')\n",
        "plt.imshow(imgs, interpolation='none',cmap='gray')\n",
        "Image.fromarray(imgs).save('Currpted_and_Denoised.png')\n",
        "plt.show()"
      ],
      "metadata": {
        "colab": {
          "base_uri": "https://localhost:8080/",
          "height": 264
        },
        "id": "nBSXA0Hk5_ut",
        "outputId": "82e93f86-e9ce-4ca8-ab9c-38615d0491d8"
      },
      "execution_count": 21,
      "outputs": [
        {
          "output_type": "display_data",
          "data": {
            "image/png": "[encoded data removed]",
            "text/plain": [
              "<Figure size 432x288 with 1 Axes>"
            ]
          },
          "metadata": {
            "needs_background": "light"
          }
        }
      ]
    },
    {
      "cell_type": "markdown",
      "source": [
        "The noise added is a Gaussian distribution with a mean of 0.5 and standard deviation of 0.5."
      ],
      "metadata": {
        "id": "542POQrO8JQ7"
      }
    }
  ]
}