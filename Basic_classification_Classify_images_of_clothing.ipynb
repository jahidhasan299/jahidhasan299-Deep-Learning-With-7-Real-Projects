{
  "nbformat": 4,
  "nbformat_minor": 0,
  "metadata": {
    "colab": {
      "name": "Basic classification: Classify images of clothing.ipynb",
      "provenance": [],
      "collapsed_sections": [],
      "authorship_tag": "ABX9TyNP0K3VfqAXQGb/7+zwbZmt",
      "include_colab_link": true
    },
    "kernelspec": {
      "name": "python3",
      "display_name": "Python 3"
    },
    "language_info": {
      "name": "python"
    },
    "accelerator": "GPU"
  },
  "cells": [
    {
      "cell_type": "markdown",
      "metadata": {
        "id": "view-in-github",
        "colab_type": "text"
      },
      "source": [
        "<a href=\"https://colab.research.google.com/github/jahidhasan299/jahidhasan299-Deep-Learning-With-7-Real-Projects/blob/main/Basic_classification_Classify_images_of_clothing.ipynb\" target=\"_parent\"><img src=\"https://colab.research.google.com/assets/colab-badge.svg\" alt=\"Open In Colab\"/></a>"
      ]
    },
    {
      "cell_type": "markdown",
      "source": [
        "# Project Introduction\n",
        "The clothing Fashion_MNIST is a dataset of images from Zalando(Europe's biggest online fashion retailer)\n",
        "It's consists of 60000 training samples and 10000 testing samples\n",
        "Each sample is a 28*28 grayscale image assciated with a label from 10 classes\n",
        "\n",
        "0\tT-shirt/top\n",
        "\n",
        "1\tTrouser\n",
        "\n",
        "2\tPullover\n",
        "\n",
        "3\tDress\n",
        "\n",
        "4\tCoat\n",
        "\n",
        "5\tSandal\n",
        "\n",
        "6\tShirt\n",
        "\n",
        "7\tSneaker\n",
        "\n",
        "8\tBag\n",
        "\n",
        "9\tAnkle boot"
      ],
      "metadata": {
        "id": "ZkjjwGIDQHdw"
      }
    },
    {
      "cell_type": "markdown",
      "source": [
        "# Importing the neccessary library and data"
      ],
      "metadata": {
        "id": "VPXsM_o1RVbG"
      }
    },
    {
      "cell_type": "code",
      "source": [
        "# TensorFlow and tf.keras\n",
        "import tensorflow as tf\n",
        "\n",
        "# Helper libraries\n",
        "import numpy as np\n",
        "import matplotlib.pyplot as plt\n",
        "\n",
        "fashion_mnist = tf.keras.datasets.fashion_mnist"
      ],
      "metadata": {
        "id": "QPLZ9vnNQ1fo"
      },
      "execution_count": 1,
      "outputs": []
    },
    {
      "cell_type": "code",
      "source": [
        "(train_images, train_labels), (test_images, test_labels) = fashion_mnist.load_data()"
      ],
      "metadata": {
        "colab": {
          "base_uri": "https://localhost:8080/"
        },
        "id": "RTqeq5hVRs1I",
        "outputId": "c61d6371-4e5f-4a48-e2c6-bc37ea3221a5"
      },
      "execution_count": 2,
      "outputs": [
        {
          "output_type": "stream",
          "name": "stdout",
          "text": [
            "Downloading data from https://storage.googleapis.com/tensorflow/tf-keras-datasets/train-labels-idx1-ubyte.gz\n",
            "32768/29515 [=================================] - 0s 0us/step\n",
            "40960/29515 [=========================================] - 0s 0us/step\n",
            "Downloading data from https://storage.googleapis.com/tensorflow/tf-keras-datasets/train-images-idx3-ubyte.gz\n",
            "26427392/26421880 [==============================] - 0s 0us/step\n",
            "26435584/26421880 [==============================] - 0s 0us/step\n",
            "Downloading data from https://storage.googleapis.com/tensorflow/tf-keras-datasets/t10k-labels-idx1-ubyte.gz\n",
            "16384/5148 [===============================================================================================] - 0s 0us/step\n",
            "Downloading data from https://storage.googleapis.com/tensorflow/tf-keras-datasets/t10k-images-idx3-ubyte.gz\n",
            "4423680/4422102 [==============================] - 0s 0us/step\n",
            "4431872/4422102 [==============================] - 0s 0us/step\n"
          ]
        }
      ]
    },
    {
      "cell_type": "code",
      "source": [
        "print(train_labels)"
      ],
      "metadata": {
        "colab": {
          "base_uri": "https://localhost:8080/"
        },
        "id": "BZJu_NkgR50I",
        "outputId": "65e5b172-47c7-4593-d7f7-acfd44e34e14"
      },
      "execution_count": 4,
      "outputs": [
        {
          "output_type": "stream",
          "name": "stdout",
          "text": [
            "[9 0 0 ... 3 0 5]\n"
          ]
        }
      ]
    },
    {
      "cell_type": "markdown",
      "source": [
        "Each image is mapped to a single label. Since the class names are not included with the dataset, store them here to use later when plotting the images:\n"
      ],
      "metadata": {
        "id": "q-bnG2g4SW8x"
      }
    },
    {
      "cell_type": "code",
      "source": [
        "class_names = ['T-shirt/top', 'Trouser', 'Pullover', 'Dress', 'Coat','Sandal', 'Shirt', 'Sneaker', 'Bag', 'Ankle boot']"
      ],
      "metadata": {
        "id": "zf4X1SwvSPpF"
      },
      "execution_count": 7,
      "outputs": []
    },
    {
      "cell_type": "markdown",
      "source": [
        "# Explore the data\n",
        "Let's explore the format of the dataset before training the model. The following shows there are 60,000 images in the training set, with each image represented as 28 x 28 pixels:"
      ],
      "metadata": {
        "id": "ojxl4yMlSj9P"
      }
    },
    {
      "cell_type": "code",
      "source": [
        "train_images.shape"
      ],
      "metadata": {
        "colab": {
          "base_uri": "https://localhost:8080/"
        },
        "id": "zp6Qxk0mSbVX",
        "outputId": "a94079f8-ed7f-42c1-8813-9d38c635c651"
      },
      "execution_count": 8,
      "outputs": [
        {
          "output_type": "execute_result",
          "data": {
            "text/plain": [
              "(60000, 28, 28)"
            ]
          },
          "metadata": {},
          "execution_count": 8
        }
      ]
    },
    {
      "cell_type": "code",
      "source": [
        "# There are 10,000 images in the test set. Again, each image is represented as 28 x 28 pixels:\n",
        "test_images.shape"
      ],
      "metadata": {
        "colab": {
          "base_uri": "https://localhost:8080/"
        },
        "id": "B1Orx72JSmOa",
        "outputId": "3d698e20-8558-479f-cbe7-1f21165e60b5"
      },
      "execution_count": 12,
      "outputs": [
        {
          "output_type": "execute_result",
          "data": {
            "text/plain": [
              "(10000, 28, 28)"
            ]
          },
          "metadata": {},
          "execution_count": 12
        }
      ]
    },
    {
      "cell_type": "code",
      "source": [
        "# Likewise, there are 60,000 labels in the training set:\n",
        "len(train_labels)"
      ],
      "metadata": {
        "colab": {
          "base_uri": "https://localhost:8080/"
        },
        "id": "c0GBN1D0SqeF",
        "outputId": "33c32732-e57c-47ff-be7b-5bfdd1deb0d5"
      },
      "execution_count": 10,
      "outputs": [
        {
          "output_type": "execute_result",
          "data": {
            "text/plain": [
              "60000"
            ]
          },
          "metadata": {},
          "execution_count": 10
        }
      ]
    },
    {
      "cell_type": "code",
      "source": [
        "# Each label is an integer between 0 and 9:\n",
        "train_labels"
      ],
      "metadata": {
        "colab": {
          "base_uri": "https://localhost:8080/"
        },
        "id": "P9xyTfoNS1I6",
        "outputId": "1b9ac037-f7cc-433e-d913-535909cf75cc"
      },
      "execution_count": 11,
      "outputs": [
        {
          "output_type": "execute_result",
          "data": {
            "text/plain": [
              "array([9, 0, 0, ..., 3, 0, 5], dtype=uint8)"
            ]
          },
          "metadata": {},
          "execution_count": 11
        }
      ]
    },
    {
      "cell_type": "markdown",
      "source": [
        "# Preprocess the data\n",
        "The data must be preprocessed before training the network. If inspect the first image in the training set, we will see that the pixel values fall in the range of 0 to 255:"
      ],
      "metadata": {
        "id": "gTo0gykuTEKD"
      }
    },
    {
      "cell_type": "code",
      "source": [
        "plt.figure()\n",
        "plt.imshow(train_images[0])\n",
        "plt.colorbar()\n",
        "plt.grid(False)\n",
        "plt.show()"
      ],
      "metadata": {
        "colab": {
          "base_uri": "https://localhost:8080/",
          "height": 265
        },
        "id": "eMGUF9VCS7Br",
        "outputId": "319f1fa8-1169-4b08-b98f-77e0cb643a47"
      },
      "execution_count": 13,
      "outputs": [
        {
          "output_type": "display_data",
          "data": {
            "image/png": "[encoded data removed]",
            "text/plain": [
              "<Figure size 432x288 with 2 Axes>"
            ]
          },
          "metadata": {
            "needs_background": "light"
          }
        }
      ]
    },
    {
      "cell_type": "markdown",
      "source": [
        "Scale these values to a range of 0 to 1 before feeding them to the neural network model. To do so, divide the values by 255. It's important that the training set and the testing set be preprocessed in the same way:"
      ],
      "metadata": {
        "id": "MoMNXh-4TV6k"
      }
    },
    {
      "cell_type": "code",
      "source": [
        "train_images = train_images / 255.0\n",
        "\n",
        "test_images = test_images / 255.0"
      ],
      "metadata": {
        "id": "cL7VigjkTN8d"
      },
      "execution_count": 14,
      "outputs": []
    },
    {
      "cell_type": "markdown",
      "source": [
        "To verify that the data is in the correct format and that we're ready to build and train the network, let's display the first 25 images from the training set and display the class name below each image."
      ],
      "metadata": {
        "id": "6GDpBR6xTf7I"
      }
    },
    {
      "cell_type": "code",
      "source": [
        "plt.figure(figsize=(15,15))\n",
        "for i in range(16):\n",
        "    plt.subplot(8,8,i+1)\n",
        "    plt.xticks([])\n",
        "    plt.yticks([])\n",
        "    plt.grid(False)\n",
        "    plt.imshow(train_images[i], cmap=plt.cm.binary)\n",
        "    plt.xlabel(class_names[train_labels[i]])\n",
        "plt.show()"
      ],
      "metadata": {
        "colab": {
          "base_uri": "https://localhost:8080/",
          "height": 236
        },
        "id": "mIzIwI8pTbak",
        "outputId": "fd1d473a-e7ef-4b89-b232-c977c0f87d61"
      },
      "execution_count": 18,
      "outputs": [
        {
          "output_type": "display_data",
          "data": {
            "image/png": "[encoded data removed]",
            "text/plain": [
              "<Figure size 1080x1080 with 16 Axes>"
            ]
          },
          "metadata": {}
        }
      ]
    },
    {
      "cell_type": "markdown",
      "source": [
        "# Architecting CNN Model\n",
        "The CNN has two main components: The features extractor of a set of convolutional and pooling layers and the classifier backend similar to a regular neural network"
      ],
      "metadata": {
        "id": "XhlSHzccUo4h"
      }
    },
    {
      "cell_type": "code",
      "source": [
        "# Reshape the data into 4-dimentions\n",
        "x_train = train_images.reshape((train_images.shape[0], 28, 28, 1))\n",
        "x_test = test_images.reshape((test_images.shape[0], 28, 28, 1))\n",
        "print(x_train.shape)\n",
        "print(x_test.shape)"
      ],
      "metadata": {
        "colab": {
          "base_uri": "https://localhost:8080/"
        },
        "id": "5Rc2ssEbTo4z",
        "outputId": "255ad6c1-642e-4aad-84b9-f9b62906af95"
      },
      "execution_count": 20,
      "outputs": [
        {
          "output_type": "stream",
          "name": "stdout",
          "text": [
            "(60000, 28, 28, 1)\n",
            "(10000, 28, 28, 1)\n"
          ]
        }
      ]
    },
    {
      "cell_type": "markdown",
      "source": [
        "The first dimension is the number of samples\n",
        "\n",
        "---\n",
        "\n",
        "The fourth dimension is the appended one representing the grayscale images\n",
        "# Build the model\n",
        "Building the neural network requires configuring the layers of the model, then compiling the model.\n",
        "\n",
        "Set up the layers"
      ],
      "metadata": {
        "id": "tCXjBYilWFWj"
      }
    },
    {
      "cell_type": "code",
      "source": [
        "# Random seed in tensorflow for reproducility\n",
        "tf.random.set_seed(42)\n",
        "from tensorflow.keras import datasets, layers, models, losses \n",
        "model = models.Sequential()\n",
        "# add the first convolutional layers with 32 small-sized 3*3 filters\n",
        "model.add(layers.Conv2D(32,(3,3), activation='relu', input_shape=(28, 28, 1)))\n",
        "# convolutional layers is followed by a max-pooling layer with a  2*2 filter\n",
        "model.add(layers.MaxPool2D(2,2))\n",
        "\n",
        "# Second convolutional layers with 64 size 3*3 filters\n",
        "model.add(layers.Conv2D(64,(3,3), activation='relu'))\n",
        "model.add(layers.MaxPool2D(2,2))\n",
        "\n",
        "# Third convolutional layers with 128 size 3*3 filters\n",
        "model.add(layers.Conv2D(128,(3,3), activation='relu'))\n",
        "# The resulting filter maps are flatten to provide features to the downstream classifier backend\n",
        "model.add(layers.Flatten())\n",
        "\n",
        "# Classifier backed\n",
        "model.add(layers.Dense(64, activation='relu'))\n",
        "\n",
        "# Output with 10 nodes demonstrating 10 classes\n",
        "model.add(layers.Dense(10, activation='softmax'))\n",
        "\n",
        "# Compile the model\n",
        "model.compile(optimizer='adam', loss=losses.sparse_categorical_crossentropy, metrics=['accuracy'])\n",
        "\n",
        "# Summarices the model\n",
        "model.summary()"
      ],
      "metadata": {
        "colab": {
          "base_uri": "https://localhost:8080/"
        },
        "id": "GS_0MZzUV3LP",
        "outputId": "c2f3c114-d96a-43e9-d73d-ced1c6acfe61"
      },
      "execution_count": 21,
      "outputs": [
        {
          "output_type": "stream",
          "name": "stdout",
          "text": [
            "Model: \"sequential\"\n",
            "_________________________________________________________________\n",
            " Layer (type)                Output Shape              Param #   \n",
            "=================================================================\n",
            " conv2d (Conv2D)             (None, 26, 26, 32)        320       \n",
            "                                                                 \n",
            " max_pooling2d (MaxPooling2D  (None, 13, 13, 32)       0         \n",
            " )                                                               \n",
            "                                                                 \n",
            " conv2d_1 (Conv2D)           (None, 11, 11, 64)        18496     \n",
            "                                                                 \n",
            " max_pooling2d_1 (MaxPooling  (None, 5, 5, 64)         0         \n",
            " 2D)                                                             \n",
            "                                                                 \n",
            " conv2d_2 (Conv2D)           (None, 3, 3, 128)         73856     \n",
            "                                                                 \n",
            " flatten (Flatten)           (None, 1152)              0         \n",
            "                                                                 \n",
            " dense (Dense)               (None, 64)                73792     \n",
            "                                                                 \n",
            " dense_1 (Dense)             (None, 10)                650       \n",
            "                                                                 \n",
            "=================================================================\n",
            "Total params: 167,114\n",
            "Trainable params: 167,114\n",
            "Non-trainable params: 0\n",
            "_________________________________________________________________\n"
          ]
        }
      ]
    },
    {
      "cell_type": "markdown",
      "source": [
        "**The benefits of applying pooling are:**\n",
        "1.   Avoiding overfitting\n",
        "2.   Reducing training cost\n",
        "\n"
      ],
      "metadata": {
        "id": "CGxXpW-xaIzS"
      }
    },
    {
      "cell_type": "markdown",
      "source": [
        "# Train the model\n",
        "**Training the neural network model requires the following steps:**\n",
        "\n",
        "Feed the training data to the model. The training data is in the train_images and train_labels arrays.\n",
        "\n",
        "The model learns to associate images and labels. To make predictions about a test set—in this example, the test_images array.\n",
        "\n",
        "Verify that the predictions match the labels from the test_labels array. \n",
        "\n",
        "# Feed the model\n",
        "To start training, call the model.fit method—so called because it \"fits\" the model to the training data:"
      ],
      "metadata": {
        "id": "CgJoelHscCem"
      }
    },
    {
      "cell_type": "code",
      "source": [
        " # Batch size is 32 by default\n",
        " model.fit(x_train, train_labels, validation_data=(x_test, test_labels), epochs=10)"
      ],
      "metadata": {
        "colab": {
          "base_uri": "https://localhost:8080/"
        },
        "id": "pZsFKI4xaBug",
        "outputId": "a92b0dab-d753-4d9c-86c6-83666997430e"
      },
      "execution_count": 22,
      "outputs": [
        {
          "output_type": "stream",
          "name": "stdout",
          "text": [
            "Epoch 1/10\n",
            "1875/1875 [==============================] - 21s 6ms/step - loss: 0.4732 - accuracy: 0.8262 - val_loss: 0.3361 - val_accuracy: 0.8804\n",
            "Epoch 2/10\n",
            "1875/1875 [==============================] - 11s 6ms/step - loss: 0.3041 - accuracy: 0.8891 - val_loss: 0.3639 - val_accuracy: 0.8685\n",
            "Epoch 3/10\n",
            "1875/1875 [==============================] - 10s 6ms/step - loss: 0.2598 - accuracy: 0.9040 - val_loss: 0.2805 - val_accuracy: 0.8960\n",
            "Epoch 4/10\n",
            "1875/1875 [==============================] - 11s 6ms/step - loss: 0.2278 - accuracy: 0.9155 - val_loss: 0.2636 - val_accuracy: 0.9062\n",
            "Epoch 5/10\n",
            "1875/1875 [==============================] - 11s 6ms/step - loss: 0.2053 - accuracy: 0.9244 - val_loss: 0.2656 - val_accuracy: 0.9049\n",
            "Epoch 6/10\n",
            "1875/1875 [==============================] - 11s 6ms/step - loss: 0.1821 - accuracy: 0.9317 - val_loss: 0.2552 - val_accuracy: 0.9075\n",
            "Epoch 7/10\n",
            "1875/1875 [==============================] - 11s 6ms/step - loss: 0.1636 - accuracy: 0.9381 - val_loss: 0.2580 - val_accuracy: 0.9124\n",
            "Epoch 8/10\n",
            "1875/1875 [==============================] - 10s 6ms/step - loss: 0.1443 - accuracy: 0.9459 - val_loss: 0.2712 - val_accuracy: 0.9102\n",
            "Epoch 9/10\n",
            "1875/1875 [==============================] - 10s 6ms/step - loss: 0.1303 - accuracy: 0.9503 - val_loss: 0.2789 - val_accuracy: 0.9125\n",
            "Epoch 10/10\n",
            "1875/1875 [==============================] - 10s 5ms/step - loss: 0.1158 - accuracy: 0.9554 - val_loss: 0.3049 - val_accuracy: 0.9095\n"
          ]
        },
        {
          "output_type": "execute_result",
          "data": {
            "text/plain": [
              "<keras.callbacks.History at 0x7f698e8e30d0>"
            ]
          },
          "metadata": {},
          "execution_count": 22
        }
      ]
    },
    {
      "cell_type": "markdown",
      "source": [
        "# Evaluate accuracy\n",
        "Next, compare how the model performs on the test dataset:"
      ],
      "metadata": {
        "id": "XUMkGdYWd2zC"
      }
    },
    {
      "cell_type": "code",
      "source": [
        "# 96% on training set and 91% on testing set\n",
        "# Double check the performence\n",
        "test_loss , test_acc = model.evaluate(x_test, test_labels, verbose=2)\n",
        "print(\"Accuracy on the test set: \", test_acc)"
      ],
      "metadata": {
        "colab": {
          "base_uri": "https://localhost:8080/"
        },
        "id": "3w1StlvHc12i",
        "outputId": "51a7fb0e-ee0c-442b-fe4e-b1b7a0d6ea0e"
      },
      "execution_count": 26,
      "outputs": [
        {
          "output_type": "stream",
          "name": "stdout",
          "text": [
            "313/313 - 1s - loss: 0.3049 - accuracy: 0.9095 - 638ms/epoch - 2ms/step\n",
            "Accuracy on the test set:  0.909500002861023\n"
          ]
        }
      ]
    },
    {
      "cell_type": "markdown",
      "source": [
        "# Make predictions\n",
        "With the model trained, to make predictions about some images. The model's linear outputs."
      ],
      "metadata": {
        "id": "Wk1Kh73-eJJ4"
      }
    },
    {
      "cell_type": "code",
      "source": [
        "predictions = model.predict(x_test)\n",
        "print(predictions[0])"
      ],
      "metadata": {
        "colab": {
          "base_uri": "https://localhost:8080/"
        },
        "id": "-kLpvvXydfJA",
        "outputId": "fd98a0b1-a142-4469-824f-b35baa39c174"
      },
      "execution_count": 29,
      "outputs": [
        {
          "output_type": "stream",
          "name": "stdout",
          "text": [
            "[2.6538676e-12 5.1054824e-12 3.1595245e-13 7.5452260e-16 6.1111787e-14\n",
            " 1.0551089e-07 1.4841165e-17 3.2814410e-07 2.0824588e-10 9.9999952e-01]\n"
          ]
        }
      ]
    },
    {
      "cell_type": "markdown",
      "source": [
        "A prediction is an array of 10 numbers. They represent the model's \"confidence\" that the image corresponds to each of the 10 different articles of clothing. You can see which label has the highest confidence value:"
      ],
      "metadata": {
        "id": "DDrW3lK3ej5F"
      }
    },
    {
      "cell_type": "code",
      "source": [
        "print(\"Predicted label for the test label sample: \", np.argmax(predictions[0]))"
      ],
      "metadata": {
        "colab": {
          "base_uri": "https://localhost:8080/"
        },
        "id": "BaRKKbdedxHy",
        "outputId": "4c1134c5-67cf-45f8-935f-e982f67a1dd7"
      },
      "execution_count": 30,
      "outputs": [
        {
          "output_type": "stream",
          "name": "stdout",
          "text": [
            "Predicted label for the test label sample:  9\n"
          ]
        }
      ]
    },
    {
      "cell_type": "code",
      "source": [
        "print(\"True label for the test sample: \", test_labels[0])"
      ],
      "metadata": {
        "colab": {
          "base_uri": "https://localhost:8080/"
        },
        "id": "SPC69RP4ezqr",
        "outputId": "cb1e48ed-f04e-44a1-99fc-68cb5d5c76f6"
      },
      "execution_count": 31,
      "outputs": [
        {
          "output_type": "stream",
          "name": "stdout",
          "text": [
            "True label for the test sample:  9\n"
          ]
        }
      ]
    },
    {
      "cell_type": "markdown",
      "source": [
        "**Graph this to look at the full set of 10 class predictions.**"
      ],
      "metadata": {
        "id": "IPB-EcXNfRho"
      }
    },
    {
      "cell_type": "markdown",
      "source": [
        "# Verify predictions\n",
        "With the model trained,  use it to make predictions about some images.\n",
        "\n",
        "Let's look at the 0th image, predictions, and prediction array. Correct prediction labels are blue and incorrect prediction labels are red. The number gives the percentage (out of 100) for the predicted label."
      ],
      "metadata": {
        "id": "Xdppnup9i6qe"
      }
    },
    {
      "cell_type": "code",
      "source": [
        "def plot_image_prediction(i,images, predictions, labels, class_names):\n",
        "  plt.subplot(1,2,1)\n",
        "  plt.imshow(images[i], cmap=plt.cm.binary)\n",
        "  prediction = np.argmax(predictions[i])\n",
        "  color = 'blue' if prediction == labels[i] else 'red'\n",
        "  plt.title(f\"{class_names[labels[i]]}(predicted{class_names[prediction]})\", color=color)\n",
        "  plt.subplot(1,2,2)\n",
        "  plt.grid(False)\n",
        "  plt.xticks(range(10))\n",
        "  plot = plt.bar(range(10), predictions[i], color='green')\n",
        "  plt.ylim([0,1])\n",
        "  plot[prediction].set_color('red')\n",
        "  plot[prediction].set_color('blue')\n",
        "  plt.show()"
      ],
      "metadata": {
        "id": "UZFyfk3jfBJo"
      },
      "execution_count": 41,
      "outputs": []
    },
    {
      "cell_type": "code",
      "source": [
        "plot_image_prediction(0, test_images, predictions, test_labels, class_names)"
      ],
      "metadata": {
        "colab": {
          "base_uri": "https://localhost:8080/",
          "height": 269
        },
        "id": "umtsS3EHg_-F",
        "outputId": "b46919d8-2f1c-4419-9698-5f8049587835"
      },
      "execution_count": 42,
      "outputs": [
        {
          "output_type": "display_data",
          "data": {
            "image/png": "[encoded data removed]",
            "text/plain": [
              "<Figure size 432x288 with 2 Axes>"
            ]
          },
          "metadata": {
            "needs_background": "light"
          }
        }
      ]
    },
    {
      "cell_type": "code",
      "source": [
        "plot_image_prediction(1, test_images, predictions, test_labels, class_names)"
      ],
      "metadata": {
        "colab": {
          "base_uri": "https://localhost:8080/",
          "height": 269
        },
        "id": "jrs50jc7hwFa",
        "outputId": "9c6b7445-77d7-4b38-b1bc-3394e1f4452b"
      },
      "execution_count": 45,
      "outputs": [
        {
          "output_type": "display_data",
          "data": {
            "image/png": "[encoded data removed]",
            "text/plain": [
              "<Figure size 432x288 with 2 Axes>"
            ]
          },
          "metadata": {
            "needs_background": "light"
          }
        }
      ]
    },
    {
      "cell_type": "code",
      "source": [
        "filters, _ = model.layers[2].get_weights()\n",
        "f_min, f_max = filters.min(), filters.max()\n",
        "filters = (filters - f_min) / (f_max - f_min)"
      ],
      "metadata": {
        "id": "sTtlgN6-jr5q"
      },
      "execution_count": 46,
      "outputs": []
    },
    {
      "cell_type": "code",
      "source": [
        "n_filters = 16\n",
        "for i in range(n_filters):\n",
        "  filter = filters[:, :, :, i]\n",
        "  plt.subplot(4, 4, i+1)\n",
        "  plt.xticks([])\n",
        "  plt.yticks([])\n",
        "  plt.imshow(filter[:,:,0], cmap='gray')\n",
        "plt.show()"
      ],
      "metadata": {
        "colab": {
          "base_uri": "https://localhost:8080/",
          "height": 252
        },
        "id": "vM2pYdHBmHqi",
        "outputId": "ea528e9b-fe05-4d6a-fbf1-310b6aa19ead"
      },
      "execution_count": 47,
      "outputs": [
        {
          "output_type": "display_data",
          "data": {
            "image/png": "[encoded data removed]",
            "text/plain": [
              "<Figure size 432x288 with 16 Axes>"
            ]
          },
          "metadata": {}
        }
      ]
    },
    {
      "cell_type": "markdown",
      "source": [
        "# Improving the classifier with data augmentation"
      ],
      "metadata": {
        "id": "aVSQU9A9nEhy"
      }
    },
    {
      "cell_type": "code",
      "source": [
        "# Data augmentation\n",
        "from tensorflow.keras.preprocessing.image import ImageDataGenerator, load_img\n",
        "n_small = 500\n",
        "x_train = x_train[:n_small]\n",
        "train_labels = train_labels[:n_small]\n",
        "print(x_train.shape)"
      ],
      "metadata": {
        "colab": {
          "base_uri": "https://localhost:8080/"
        },
        "id": "eSD-8s8xmrGa",
        "outputId": "8a91bbf4-0d5f-4bec-d038-fd4e87f1efde"
      },
      "execution_count": 63,
      "outputs": [
        {
          "output_type": "stream",
          "name": "stdout",
          "text": [
            "(500, 28, 28, 1)\n"
          ]
        }
      ]
    },
    {
      "cell_type": "code",
      "source": [
        "model = models.Sequential()\n",
        "# add the first convolutional layers with 32 small-sized 3*3 filters\n",
        "model.add(layers.Conv2D(32,(3,3), activation='relu', input_shape=(28, 28, 1)))\n",
        "# convolutional layers is followed by a max-pooling layer with a  2*2 filter\n",
        "model.add(layers.MaxPool2D(2,2))\n",
        "\n",
        "# Classifier backed\n",
        "model.add(layers.Dense(64, activation='relu'))\n",
        "model.add(layers.Flatten())\n",
        "model.add(layers.Dense(32, activation='relu'))\n",
        "model.add(layers.Dense(10, activation='softmax'))\n",
        "\n",
        "# Compile the model\n",
        "model.compile(optimizer='adam', loss=losses.sparse_categorical_crossentropy, metrics=['accuracy'])"
      ],
      "metadata": {
        "id": "MG2pFs2On8WA"
      },
      "execution_count": 64,
      "outputs": []
    },
    {
      "cell_type": "code",
      "source": [
        "model.fit(x_train, train_labels, validation_data=(x_test, test_labels), epochs=20,batch_size=40)"
      ],
      "metadata": {
        "colab": {
          "base_uri": "https://localhost:8080/"
        },
        "id": "PH4m4GWJokwE",
        "outputId": "9dd9cdc8-91de-4f90-bafb-a4ed22301883"
      },
      "execution_count": 65,
      "outputs": [
        {
          "output_type": "stream",
          "name": "stdout",
          "text": [
            "Epoch 1/20\n",
            "13/13 [==============================] - 2s 82ms/step - loss: 1.8449 - accuracy: 0.3540 - val_loss: 1.3516 - val_accuracy: 0.5749\n",
            "Epoch 2/20\n",
            "13/13 [==============================] - 1s 58ms/step - loss: 1.1091 - accuracy: 0.6540 - val_loss: 0.9309 - val_accuracy: 0.6803\n",
            "Epoch 3/20\n",
            "13/13 [==============================] - 1s 58ms/step - loss: 0.7440 - accuracy: 0.7480 - val_loss: 0.7988 - val_accuracy: 0.7133\n",
            "Epoch 4/20\n",
            "13/13 [==============================] - 1s 60ms/step - loss: 0.6219 - accuracy: 0.7920 - val_loss: 0.7435 - val_accuracy: 0.7324\n",
            "Epoch 5/20\n",
            "13/13 [==============================] - 1s 56ms/step - loss: 0.5315 - accuracy: 0.8260 - val_loss: 0.6996 - val_accuracy: 0.7518\n",
            "Epoch 6/20\n",
            "13/13 [==============================] - 1s 59ms/step - loss: 0.4581 - accuracy: 0.8520 - val_loss: 0.6861 - val_accuracy: 0.7570\n",
            "Epoch 7/20\n",
            "13/13 [==============================] - 1s 59ms/step - loss: 0.3857 - accuracy: 0.8920 - val_loss: 0.6147 - val_accuracy: 0.7832\n",
            "Epoch 8/20\n",
            "13/13 [==============================] - 1s 53ms/step - loss: 0.3648 - accuracy: 0.8720 - val_loss: 0.6984 - val_accuracy: 0.7647\n",
            "Epoch 9/20\n",
            "13/13 [==============================] - 1s 56ms/step - loss: 0.3101 - accuracy: 0.9120 - val_loss: 0.6247 - val_accuracy: 0.7883\n",
            "Epoch 10/20\n",
            "13/13 [==============================] - 1s 60ms/step - loss: 0.2534 - accuracy: 0.9280 - val_loss: 0.6452 - val_accuracy: 0.7851\n",
            "Epoch 11/20\n",
            "13/13 [==============================] - 1s 56ms/step - loss: 0.2215 - accuracy: 0.9320 - val_loss: 0.7764 - val_accuracy: 0.7649\n",
            "Epoch 12/20\n",
            "13/13 [==============================] - 1s 113ms/step - loss: 0.2543 - accuracy: 0.9160 - val_loss: 0.6445 - val_accuracy: 0.7863\n",
            "Epoch 13/20\n",
            "13/13 [==============================] - 1s 113ms/step - loss: 0.1809 - accuracy: 0.9500 - val_loss: 0.6295 - val_accuracy: 0.7922\n",
            "Epoch 14/20\n",
            "13/13 [==============================] - 1s 56ms/step - loss: 0.1408 - accuracy: 0.9600 - val_loss: 0.7039 - val_accuracy: 0.7753\n",
            "Epoch 15/20\n",
            "13/13 [==============================] - 1s 59ms/step - loss: 0.1427 - accuracy: 0.9640 - val_loss: 0.6689 - val_accuracy: 0.7908\n",
            "Epoch 16/20\n",
            "13/13 [==============================] - 1s 113ms/step - loss: 0.1274 - accuracy: 0.9660 - val_loss: 0.7111 - val_accuracy: 0.7776\n",
            "Epoch 17/20\n",
            "13/13 [==============================] - 1s 59ms/step - loss: 0.1071 - accuracy: 0.9800 - val_loss: 0.6252 - val_accuracy: 0.8034\n",
            "Epoch 18/20\n",
            "13/13 [==============================] - 1s 58ms/step - loss: 0.0744 - accuracy: 0.9900 - val_loss: 0.6700 - val_accuracy: 0.8016\n",
            "Epoch 19/20\n",
            "13/13 [==============================] - 1s 59ms/step - loss: 0.0674 - accuracy: 0.9900 - val_loss: 0.6669 - val_accuracy: 0.8068\n",
            "Epoch 20/20\n",
            "13/13 [==============================] - 1s 59ms/step - loss: 0.0591 - accuracy: 0.9940 - val_loss: 0.6824 - val_accuracy: 0.8036\n"
          ]
        },
        {
          "output_type": "execute_result",
          "data": {
            "text/plain": [
              "<keras.callbacks.History at 0x7f68f854b0d0>"
            ]
          },
          "metadata": {},
          "execution_count": 65
        }
      ]
    },
    {
      "cell_type": "code",
      "source": [
        "model.summary()"
      ],
      "metadata": {
        "colab": {
          "base_uri": "https://localhost:8080/"
        },
        "id": "THUCa5iAo0s6",
        "outputId": "9dae75c4-8301-44d5-d03e-7303fb1d5616"
      },
      "execution_count": 58,
      "outputs": [
        {
          "output_type": "stream",
          "name": "stdout",
          "text": [
            "Model: \"sequential_4\"\n",
            "_________________________________________________________________\n",
            " Layer (type)                Output Shape              Param #   \n",
            "=================================================================\n",
            " conv2d_9 (Conv2D)           (None, 26, 26, 32)        320       \n",
            "                                                                 \n",
            " max_pooling2d_7 (MaxPooling  (None, 13, 13, 32)       0         \n",
            " 2D)                                                             \n",
            "                                                                 \n",
            "=================================================================\n",
            "Total params: 320\n",
            "Trainable params: 320\n",
            "Non-trainable params: 0\n",
            "_________________________________________________________________\n"
          ]
        }
      ]
    },
    {
      "cell_type": "code",
      "source": [
        "# Double check the performence\n",
        "test_loss, test_acc = model.evaluate(x_test, test_labels, verbose=2)\n",
        "print(\"Accuracy on the test set: \", test_acc)"
      ],
      "metadata": {
        "colab": {
          "base_uri": "https://localhost:8080/"
        },
        "id": "olok61A6pQPB",
        "outputId": "e1cf342b-4b34-426b-b162-8180c956a682"
      },
      "execution_count": 66,
      "outputs": [
        {
          "output_type": "stream",
          "name": "stdout",
          "text": [
            "313/313 - 2s - loss: 0.6824 - accuracy: 0.8036 - 2s/epoch - 5ms/step\n",
            "Accuracy on the test set:  0.803600013256073\n"
          ]
        }
      ]
    },
    {
      "cell_type": "markdown",
      "source": [
        "The model without augmentation has a classification accuracy of 80.36%"
      ],
      "metadata": {
        "id": "OdANWEj2q68o"
      }
    },
    {
      "cell_type": "code",
      "source": [
        "datagen = ImageDataGenerator(height_shift_range=3, horizontal_flip=True)\n",
        "model_aug = tf.keras.models.clone_model(model)"
      ],
      "metadata": {
        "id": "DGqZePoqq2Tc"
      },
      "execution_count": 67,
      "outputs": []
    },
    {
      "cell_type": "code",
      "source": [
        "model_aug.compile(optimizer='adam', loss=losses.sparse_categorical_crossentropy, metrics=['accuracy'])\n",
        "train_generator = datagen.flow(x_train, train_labels, seed=2,batch_size=40)\n",
        "model_aug.fit(train_generator, validation_data=(x_test, test_labels), epochs=50)\n",
        "model_aug.summary()"
      ],
      "metadata": {
        "id": "XUxFeH7Trakl"
      },
      "execution_count": null,
      "outputs": []
    },
    {
      "cell_type": "code",
      "source": [
        "# Double check the performence\n",
        "test_loss, test_acc = model_aug.evaluate(x_test, test_labels, verbose=2)\n",
        "print(\"Accuracy on the test set: \", test_acc)"
      ],
      "metadata": {
        "colab": {
          "base_uri": "https://localhost:8080/"
        },
        "id": "H5DZgsCdsC2m",
        "outputId": "364e923a-6f2b-458f-bc61-3e715f75570c"
      },
      "execution_count": 70,
      "outputs": [
        {
          "output_type": "stream",
          "name": "stdout",
          "text": [
            "313/313 - 1s - loss: 0.7799 - accuracy: 0.8136 - 1s/epoch - 4ms/step\n",
            "Accuracy on the test set:  0.8136000037193298\n"
          ]
        }
      ]
    },
    {
      "cell_type": "markdown",
      "source": [
        "Finally, use the trained model_aug to make a prediction 81.36 % which is little bit good than previous one(80.14%)"
      ],
      "metadata": {
        "id": "RNDOQNUctL-7"
      }
    }
  ]
}